{
 "cells": [
  {
   "cell_type": "code",
   "execution_count": 102,
   "metadata": {},
   "outputs": [],
   "source": [
    "import sqlite3 as sql\n",
    "import pandas as pd\n",
    "import numpy as np\n",
    "from IPython.display import Image\n",
    "from sklearn.preprocessing import OneHotEncoder, StandardScaler\n",
    "from sklearn.model_selection import train_test_split, cross_val_score\n",
    "from sklearn.linear_model import LogisticRegression\n",
    "from sklearn.neighbors import KNeighborsClassifier\n",
    "from sklearn.tree import DecisionTreeClassifier\n",
    "from sklearn.metrics import confusion_matrix\n",
    "\n",
    "import seaborn as sns\n",
    "import matplotlib.pyplot as plt \n",
    "\n",
    "%matplotlib inline\n"
   ]
  },
  {
   "cell_type": "code",
   "execution_count": 2,
   "metadata": {},
   "outputs": [
    {
     "name": "stderr",
     "output_type": "stream",
     "text": [
      "/Users/guillermogonzalez/miniconda3/envs/ga/lib/python3.6/site-packages/IPython/core/interactiveshell.py:2728: DtypeWarning: Columns (3) have mixed types. Specify dtype option on import or set low_memory=False.\n",
      "  interactivity=interactivity, compiler=compiler, result=result)\n"
     ]
    }
   ],
   "source": [
    "df = pd.read_csv('./database.sqlite')"
   ]
  },
  {
   "cell_type": "markdown",
   "metadata": {},
   "source": [
    "- CASEID - case number\n",
    "- DOF1 - direction of force (highest)\n",
    "- GAD1 - deformation location (highest)\n",
    "- PSU - primary sampling unit number\n",
    "- YEAR - calender year of crash\n",
    "- STRATIF - case stratum\n",
    "- BODYTYPE - vehicle body type\n",
    "- DVEST - estimated highest delta V\n",
    "- DVBASIS - basis for total deltav V (highest)\n",
    "- DVTOTAL - total delta V\n",
    "- MAKE - vehicle make\n",
    "- MODELYR - vehicle model year\n",
    "- AGE - age of occupant\n",
    "- BAGAVAIL - air bag system availability\n",
    "- BAGDEPLY - air bag system deployed\n",
    "- BAGFAIL - air bag system failure\n",
    "- CASENO - case sequence number\n",
    "- CHTYPE - type of child safety seat\n",
    "- DEATH - time of death\n",
    "- HEIGHT - height of occupent\n",
    "- HOPSTAY - hospital stay\n",
    "- INJSEV - injury severity (police rating)\n",
    "- MANAVAIL -\n",
    "- MANFAIL - \n",
    "- MANUSE - manual belt system use \n",
    "- OCCNO - occupant number\n",
    "- ROLE - occupant's role\n",
    "- SEATPOS - occupant's seat position\n",
    "- SEX - occupant's sex\n",
    "- TREATMENT - treatment - mortality\n",
    "- WEIGHT - occupant's weight"
   ]
  },
  {
   "cell_type": "code",
   "execution_count": 3,
   "metadata": {},
   "outputs": [],
   "source": [
    "fatal = df.copy()"
   ]
  },
  {
   "cell_type": "code",
   "execution_count": 4,
   "metadata": {
    "scrolled": true
   },
   "outputs": [
    {
     "data": {
      "text/plain": [
       "Index(['Unnamed: 0', 'CASEID', 'DOF1', 'GAD1', 'PSU', 'YEAR', 'STRATIF',\n",
       "       'BODYTYPE', 'DVEST', 'DVBASIS', 'DVTOTAL', 'MAKE', 'MODELYR', 'AGE',\n",
       "       'BAGAVAIL', 'BAGDEPLY', 'BAGFAIL', 'CASENO', 'CHTYPE', 'DEATH',\n",
       "       'HEIGHT', 'HOSPSTAY', 'INJSEV', 'MANAVAIL', 'MANFAIL', 'MANUSE',\n",
       "       'OCCNO', 'ROLE', 'SEATPOS', 'SEX', 'TREATMNT', 'WEIGHT'],\n",
       "      dtype='object')"
      ]
     },
     "execution_count": 4,
     "metadata": {},
     "output_type": "execute_result"
    }
   ],
   "source": [
    "fatal.columns"
   ]
  },
  {
   "cell_type": "code",
   "execution_count": 5,
   "metadata": {},
   "outputs": [],
   "source": [
    "# changing all columns to lower case\n",
    "columns = fatal.columns\n",
    "columns_lower = []\n",
    "for col in columns:\n",
    "    columns_lower.append(col.lower())\n",
    "fatal.columns = columns_lower"
   ]
  },
  {
   "cell_type": "code",
   "execution_count": 6,
   "metadata": {},
   "outputs": [],
   "source": [
    "## removed unnamed: 0 column since it matched the index\n",
    "fatal.drop(labels='unnamed: 0',axis=1,inplace=True)"
   ]
  },
  {
   "cell_type": "code",
   "execution_count": 7,
   "metadata": {},
   "outputs": [],
   "source": [
    "# dictionay of categorie ID's (named how they will appear when get dummies is applied)\n",
    "dvest = {'dvest_0':'reconstructed_dv','dvest_1':'dv<10kmph','dvest_2':'10 >= dv < 25kmph','dvest_3':'25 >= dv < 40kmph',\n",
    "         'divest_4':'40 >= dv <55kmph','divest_5':'dv >= 55kmph','divest_6':'minor damage','divest_7':'moderat damage',\n",
    "         'divest_8':'severe damage'}\n",
    "\n",
    "dvbasis = {'dvbasis_0':'not_ispctd','dvbasis_1':'S_dmg_only','dvbasis_2':'S_dmg_&_trjctry','dvbasis_3':'S_missing_vhcl', \n",
    "           'dvbasis_4':'S_dmg_cdc_only', 'dvbasis_5':'one_vhcle_byond_S_scope','dvbasis_6':'rollover',\n",
    "           'dvbasis_7':'non_hrzntl_forces','dvbasis_8':'sideswipe_dmg','dvbasis_9':'severe_override',\n",
    "          'dvbasis_10':'ylding_objct','dvbasis_11':'overlapping_dmg','dvbasis_12':'insuf_data',\n",
    "           'dvbasis_98':'other','dvbasis_99':'unknown'}\n",
    "\n",
    "gad1 = {'gad1_F':'front','gad1_L':'left','gad_R':'right','gad1_B':'back','gad1_uk':'unkown','gad1_T':'top',\n",
    "        'gad1_U':'undercarriage'}\n",
    "\n",
    "\n",
    "bagavail = {'bagavail_1':'no','bagavail_2':'yes','bagavail_3':'unknown'}\n",
    "# stratif = {'stratif_k':'fatality','stratif_F':'injry_no_tow_hsptl',\n",
    "#           'stratif_E':'injry_tow','stratif_C':'two_tow_no_hsptl','stratif_D':}\n",
    "# air bad deployed \n",
    "bagdeply = {'bagdeply_0':'no_bag', 'bagdeply_1':'impct_deply','bagdeply_3':'deply_ukdetls',\n",
    "            'bagdeply_5':'uk_deply','bagdeply_7':'no_deply'}\n",
    "\n",
    "# air bag failure\n",
    "bagfail = {'bagfail_0':'no_bag','bagfail_1':'no','bagfail_2':'yes'}\n",
    "\n",
    "# child seat type\n",
    "chtype = {'chtype chtype _0':'none','chtype_1':'conv_seat','chtype_2':'frwd_face','chtype_3':'infnt_seat',\n",
    "          'chtype_4':'boost_seat','chtype_7':'vest','chtype_8':'harness'}\n",
    "\n",
    "# Injury severity\n",
    "injsev = {'injsev_0':'no_inj','injsev_1':'pssbl_inj','injsev_2':'n_incptng_inj','injsev_3':'incptng_inj',\n",
    "          'injsev_4':'killed','injsev_5':'inj_sev_uk','injsev_6':'die_b4_crsh'}\n",
    "\n",
    "# Drop mannavail since it's same data as manuse\n",
    "# Manual seatbelt used\n",
    "manuse = {'manuse_0':'none','manuse_1':'inoperative','manuse_2':'shldr_b','manuse_3':'lap_b',\n",
    "          'manuse_4':'laphshldr_b','manuse_5':'b_avail_uk','manuse_8':'othr_b_use',\n",
    "          'manuse_12':'shldr_chld_seat','manuse_13':'lap_chld_seat','manuse_14':'lapshldr_chld_seat',\n",
    "          'manuse_15':'b_chld_seat_uk','manuse_18':'othrb_chld_seat'}\n",
    "\n",
    "# Manual seatbelt fail\n",
    "manfail = {'manfail_0':'nouse','manfail_1':'no_mlfctn',\n",
    "           'manfail_2':'torn_wbbng','manfail_3':'bckl',\n",
    "           'manfail_4':'uppr_anchr','manfail_5':'othr_anchr',\n",
    "           'manavail_6':'retrctr','manavail_7':'combo',\n",
    "           'manfail_8':'other'}\n",
    "\n",
    "role = {'role_1':'driver','role_2':'passenger'}\n",
    "\n",
    "# occupant number mix of occno(11- 19) & posture (1-10)\n",
    "occno = {'occno_0':'nrml_pstr','occno_1':'kneelng_stndng','occno_2':'lyng_accss_seat',\n",
    "        'occno_3':'kneelng_stndng_frnt_seat'}\n",
    "\n"
   ]
  },
  {
   "cell_type": "code",
   "execution_count": 8,
   "metadata": {},
   "outputs": [],
   "source": [
    "# replace 9 with uk for (unknown per the NASS documents)\n",
    "fatal['gad1'] = fatal['gad1'].copy().replace('9','uk')"
   ]
  },
  {
   "cell_type": "code",
   "execution_count": 9,
   "metadata": {},
   "outputs": [
    {
     "name": "stderr",
     "output_type": "stream",
     "text": [
      "/Users/guillermogonzalez/miniconda3/envs/ga/lib/python3.6/site-packages/pandas/core/generic.py:4480: UserWarning: the \"axis\" argument is deprecated and will be removed inv0.13; this argument has no effect\n",
      "  warnings.warn('the \"axis\" argument is deprecated '\n"
     ]
    }
   ],
   "source": [
    "# replace 0 with 1 since they are the same thing according to the NASS documents\n",
    "fatal['bagavail'] = fatal['bagavail'].copy().replace(0,1,axis=0)"
   ]
  },
  {
   "cell_type": "code",
   "execution_count": 10,
   "metadata": {},
   "outputs": [],
   "source": [
    "# removing letter at the end and going to drop caseno and PSU since \n",
    "# they \"are identical variables across all NASS records\"\n",
    "fatal['caseid'] = fatal['caseid'].apply(lambda x: x[:-1].strip())"
   ]
  },
  {
   "cell_type": "code",
   "execution_count": 11,
   "metadata": {},
   "outputs": [],
   "source": [
    "# according NASS these columns are same info as caseid\n",
    "fatal.drop(['psu','caseno'],axis=1,inplace=True)"
   ]
  },
  {
   "cell_type": "code",
   "execution_count": 12,
   "metadata": {},
   "outputs": [],
   "source": [
    "# remove manavail since manuse gives the same information\n",
    "fatal.drop('manavail', axis=1, inplace=True)"
   ]
  },
  {
   "cell_type": "code",
   "execution_count": 13,
   "metadata": {},
   "outputs": [],
   "source": [
    "# remove bagavail since bagdeply has the same information\n",
    "fatal.drop('bagavail', axis=1, inplace=True)"
   ]
  },
  {
   "cell_type": "code",
   "execution_count": 14,
   "metadata": {},
   "outputs": [
    {
     "name": "stdout",
     "output_type": "stream",
     "text": [
      "There is 0.11632928107399904 % of the data with irrelavent classification\n"
     ]
    }
   ],
   "source": [
    "#  Remove occno > 10 since seatpos is the same information\n",
    "print('There is',(fatal[ fatal['occno'] >10 ]['year'].value_counts().sum() / len(fatal))*100,'% of the data with irrelavent classification')"
   ]
  },
  {
   "cell_type": "code",
   "execution_count": 15,
   "metadata": {},
   "outputs": [],
   "source": [
    "# Dictionary of each column's unique values key = counts, value = feature name\n",
    "unique_dict = {}\n",
    "for col in fatal.columns:\n",
    "    unique_dict[col] =  fatal[col].nunique()\n",
    "\n",
    "# Features <30 counts\n",
    "categoricals = []\n",
    "for key in unique_dict.keys():\n",
    "    if unique_dict[key] < 30:\n",
    "        categoricals.append(key)"
   ]
  },
  {
   "cell_type": "code",
   "execution_count": 16,
   "metadata": {
    "scrolled": true
   },
   "outputs": [
    {
     "name": "stdout",
     "output_type": "stream",
     "text": [
      "gad1\n",
      "F     1372618\n",
      "L      411350\n",
      "B      330703\n",
      "R      319169\n",
      "uk     100183\n",
      "T       65536\n",
      "U        3328\n",
      "Name: gad1, dtype: int64\n",
      "year\n",
      "2004    544672\n",
      "2006    500428\n",
      "2005    494713\n",
      "2007    243975\n",
      "2008    195223\n",
      "2009    181650\n",
      "2010    157642\n",
      "2011    150124\n",
      "2012    104230\n",
      "2014    103450\n",
      "2013     22257\n",
      "2015     18063\n",
      "Name: year, dtype: int64\n",
      "stratif\n",
      "K    529817\n",
      "F    442408\n",
      "E    385249\n",
      "C    236676\n",
      "D    235326\n",
      "G    230456\n",
      "B    226083\n",
      "H    214204\n",
      "J    156951\n",
      "A     59252\n",
      "Name: stratif, dtype: int64\n",
      "dvest\n",
      "0.0    1674684\n",
      "7.0     306520\n",
      "6.0     131007\n",
      "8.0      84874\n",
      "2.0      12325\n",
      "3.0       5534\n",
      "1.0       3007\n",
      "5.0       2872\n",
      "4.0       1199\n",
      "Name: dvest, dtype: int64\n",
      "dvbasis\n",
      "1.0     1035657\n",
      "3.0      587972\n",
      "11.0     301492\n",
      "0.0      295200\n",
      "4.0      109304\n",
      "7.0       66250\n",
      "5.0       53107\n",
      "10.0      49190\n",
      "98.0      40293\n",
      "6.0       37035\n",
      "9.0       32346\n",
      "8.0       17075\n",
      "2.0        1522\n",
      "Name: dvbasis, dtype: int64\n",
      "bagdeply\n",
      "1.0    801298\n",
      "7.0    779497\n",
      "0.0    673300\n",
      "5.0     32038\n",
      "3.0     26686\n",
      "Name: bagdeply, dtype: int64\n",
      "bagfail\n",
      "1.0    1498618\n",
      "0.0     634840\n",
      "2.0       6718\n",
      "Name: bagfail, dtype: int64\n",
      "chtype\n",
      "0.0    2334769\n",
      "3.0      26486\n",
      "8.0      22700\n",
      "4.0      22063\n",
      "2.0      12512\n",
      "1.0      10774\n",
      "7.0       2137\n",
      "Name: chtype, dtype: int64\n",
      "injsev\n",
      "0.0    941331\n",
      "3.0    588483\n",
      "1.0    582178\n",
      "2.0    421564\n",
      "4.0     96423\n",
      "5.0     36568\n",
      "6.0        56\n",
      "Name: injsev, dtype: int64\n",
      "manfail\n",
      "1.0    1598523\n",
      "0.0     433906\n",
      "2.0       1259\n",
      "3.0       1090\n",
      "6.0        340\n",
      "7.0        321\n",
      "5.0        136\n",
      "8.0        126\n",
      "4.0         57\n",
      "Name: manfail, dtype: int64\n",
      "manuse\n",
      "4.0     1641667\n",
      "0.0      433926\n",
      "14.0      71455\n",
      "3.0       48857\n",
      "13.0      11282\n",
      "5.0       10758\n",
      "15.0       1398\n",
      "1.0         358\n",
      "8.0         346\n",
      "2.0         315\n",
      "12.0        240\n",
      "18.0         80\n",
      "Name: manuse, dtype: int64\n",
      "occno\n",
      "1.0     1749374\n",
      "2.0      601255\n",
      "3.0      216954\n",
      "4.0       93966\n",
      "5.0       31027\n",
      "6.0       11916\n",
      "7.0        4487\n",
      "8.0        2432\n",
      "9.0         980\n",
      "10.0        711\n",
      "11.0        674\n",
      "12.0        621\n",
      "13.0        621\n",
      "14.0        485\n",
      "15.0        195\n",
      "17.0        190\n",
      "16.0        190\n",
      "18.0        160\n",
      "19.0         24\n",
      "Name: occno, dtype: int64\n",
      "role\n",
      "1.0    1748881\n",
      "2.0     967346\n",
      "Name: role, dtype: int64\n",
      "seatpos\n",
      "11.0    1631177\n",
      "13.0     488440\n",
      "23.0     163523\n",
      "21.0     136826\n",
      "22.0      51773\n",
      "33.0      10428\n",
      "31.0      10141\n",
      "24.0       6712\n",
      "98.0       5880\n",
      "12.0       5844\n",
      "32.0       4924\n",
      "97.0       2370\n",
      "14.0       1578\n",
      "25.0       1282\n",
      "34.0       1224\n",
      "15.0        824\n",
      "35.0        794\n",
      "43.0        748\n",
      "41.0        731\n",
      "42.0        630\n",
      "29.0        151\n",
      "44.0        136\n",
      "51.0         67\n",
      "19.0         65\n",
      "53.0         60\n",
      "39.0         16\n",
      "59.0         10\n",
      "54.0          7\n",
      "52.0          4\n",
      "Name: seatpos, dtype: int64\n",
      "sex\n",
      "1.0    1434927\n",
      "2.0    1223855\n",
      "5.0      10417\n",
      "4.0       7887\n",
      "3.0       5709\n",
      "6.0       1597\n",
      "Name: sex, dtype: int64\n",
      "treatmnt\n",
      "0.0    906363\n",
      "4.0    840333\n",
      "3.0    386360\n",
      "1.0     88557\n",
      "6.0     88325\n",
      "8.0     42940\n",
      "5.0     28051\n",
      "2.0      3048\n",
      "7.0       500\n",
      "Name: treatmnt, dtype: int64\n"
     ]
    }
   ],
   "source": [
    "for col in categoricals:\n",
    "    print(col)\n",
    "    print(fatal[col].value_counts())"
   ]
  },
  {
   "cell_type": "code",
   "execution_count": 17,
   "metadata": {},
   "outputs": [
    {
     "data": {
      "text/plain": [
       "0.0    941331\n",
       "3.0    588483\n",
       "1.0    582178\n",
       "2.0    421564\n",
       "4.0     96423\n",
       "5.0     36568\n",
       "6.0        56\n",
       "Name: injsev, dtype: int64"
      ]
     },
     "execution_count": 17,
     "metadata": {},
     "output_type": "execute_result"
    }
   ],
   "source": [
    "fatal['injsev'].value_counts()"
   ]
  },
  {
   "cell_type": "code",
   "execution_count": 18,
   "metadata": {},
   "outputs": [
    {
     "data": {
      "text/plain": [
       "caseid            0\n",
       "dof1         299352\n",
       "gad1         113540\n",
       "year              0\n",
       "stratif           5\n",
       "bodytype       2519\n",
       "dvest        494405\n",
       "dvbasis       89984\n",
       "dvtotal     1091276\n",
       "make          10659\n",
       "modelyr       13077\n",
       "age           56349\n",
       "bagdeply     403608\n",
       "bagfail      576251\n",
       "chtype       284986\n",
       "death        327097\n",
       "height       689620\n",
       "hospstay     394158\n",
       "injsev        49824\n",
       "manfail      680669\n",
       "manuse       495745\n",
       "occno           165\n",
       "role            200\n",
       "seatpos      190062\n",
       "sex           32035\n",
       "treatmnt     331950\n",
       "weight       654910\n",
       "dtype: int64"
      ]
     },
     "execution_count": 18,
     "metadata": {},
     "output_type": "execute_result"
    }
   ],
   "source": [
    "fatal.isnull().sum()"
   ]
  },
  {
   "cell_type": "code",
   "execution_count": 19,
   "metadata": {},
   "outputs": [
    {
     "data": {
      "text/html": [
       "<div>\n",
       "<style scoped>\n",
       "    .dataframe tbody tr th:only-of-type {\n",
       "        vertical-align: middle;\n",
       "    }\n",
       "\n",
       "    .dataframe tbody tr th {\n",
       "        vertical-align: top;\n",
       "    }\n",
       "\n",
       "    .dataframe thead th {\n",
       "        text-align: right;\n",
       "    }\n",
       "</style>\n",
       "<table border=\"1\" class=\"dataframe\">\n",
       "  <thead>\n",
       "    <tr style=\"text-align: right;\">\n",
       "      <th></th>\n",
       "      <th>NAs</th>\n",
       "      <th>Total</th>\n",
       "      <th>%age</th>\n",
       "    </tr>\n",
       "  </thead>\n",
       "  <tbody>\n",
       "    <tr>\n",
       "      <th>2004</th>\n",
       "      <td>190316</td>\n",
       "      <td>544672</td>\n",
       "      <td>0.349414</td>\n",
       "    </tr>\n",
       "    <tr>\n",
       "      <th>2005</th>\n",
       "      <td>184505</td>\n",
       "      <td>494713</td>\n",
       "      <td>0.372954</td>\n",
       "    </tr>\n",
       "    <tr>\n",
       "      <th>2006</th>\n",
       "      <td>197452</td>\n",
       "      <td>500428</td>\n",
       "      <td>0.394566</td>\n",
       "    </tr>\n",
       "    <tr>\n",
       "      <th>2007</th>\n",
       "      <td>104293</td>\n",
       "      <td>243975</td>\n",
       "      <td>0.427474</td>\n",
       "    </tr>\n",
       "    <tr>\n",
       "      <th>2008</th>\n",
       "      <td>84793</td>\n",
       "      <td>195223</td>\n",
       "      <td>0.434339</td>\n",
       "    </tr>\n",
       "    <tr>\n",
       "      <th>2009</th>\n",
       "      <td>80094</td>\n",
       "      <td>181650</td>\n",
       "      <td>0.440925</td>\n",
       "    </tr>\n",
       "    <tr>\n",
       "      <th>2010</th>\n",
       "      <td>69222</td>\n",
       "      <td>157642</td>\n",
       "      <td>0.439109</td>\n",
       "    </tr>\n",
       "    <tr>\n",
       "      <th>2011</th>\n",
       "      <td>65682</td>\n",
       "      <td>150124</td>\n",
       "      <td>0.437518</td>\n",
       "    </tr>\n",
       "    <tr>\n",
       "      <th>2012</th>\n",
       "      <td>53511</td>\n",
       "      <td>104230</td>\n",
       "      <td>0.513393</td>\n",
       "    </tr>\n",
       "    <tr>\n",
       "      <th>2013</th>\n",
       "      <td>9208</td>\n",
       "      <td>22257</td>\n",
       "      <td>0.413713</td>\n",
       "    </tr>\n",
       "    <tr>\n",
       "      <th>2014</th>\n",
       "      <td>45168</td>\n",
       "      <td>103450</td>\n",
       "      <td>0.436617</td>\n",
       "    </tr>\n",
       "    <tr>\n",
       "      <th>2015</th>\n",
       "      <td>7032</td>\n",
       "      <td>18063</td>\n",
       "      <td>0.389304</td>\n",
       "    </tr>\n",
       "  </tbody>\n",
       "</table>\n",
       "</div>"
      ],
      "text/plain": [
       "         NAs   Total      %age\n",
       "2004  190316  544672  0.349414\n",
       "2005  184505  494713  0.372954\n",
       "2006  197452  500428  0.394566\n",
       "2007  104293  243975  0.427474\n",
       "2008   84793  195223  0.434339\n",
       "2009   80094  181650  0.440925\n",
       "2010   69222  157642  0.439109\n",
       "2011   65682  150124  0.437518\n",
       "2012   53511  104230  0.513393\n",
       "2013    9208   22257  0.413713\n",
       "2014   45168  103450  0.436617\n",
       "2015    7032   18063  0.389304"
      ]
     },
     "execution_count": 19,
     "metadata": {},
     "output_type": "execute_result"
    }
   ],
   "source": [
    "# dvtotal has 1,091,276 null values.  From the analysis below, that accounts 35 to 50 % of each year's data\n",
    "dvtotal_na = pd.DataFrame(fatal[ fatal['dvtotal'].isnull() ]['year'].value_counts()).sort_index(ascending=True)\n",
    "\n",
    "total = pd.DataFrame(fatal['year'].value_counts()).sort_index(ascending=True)\n",
    "\n",
    "na_percent = pd.concat([dvtotal_na,total], axis=1)\n",
    "na_percent.columns = ['NAs','Total']\n",
    "\n",
    "na_percent['%age'] = na_percent['NAs'] / na_percent['Total']\n",
    "na_percent.sort_index(ascending=True)"
   ]
  },
  {
   "cell_type": "code",
   "execution_count": 20,
   "metadata": {},
   "outputs": [
    {
     "data": {
      "text/plain": [
       "0.4207771668888894"
      ]
     },
     "execution_count": 20,
     "metadata": {},
     "output_type": "execute_result"
    }
   ],
   "source": [
    "na_percent['%age'].mean()"
   ]
  },
  {
   "cell_type": "code",
   "execution_count": 21,
   "metadata": {},
   "outputs": [],
   "source": [
    "# Imputer"
   ]
  },
  {
   "cell_type": "markdown",
   "metadata": {},
   "source": [
    "## Try Dropping NA"
   ]
  },
  {
   "cell_type": "code",
   "execution_count": 22,
   "metadata": {},
   "outputs": [],
   "source": [
    "fatal_nona = fatal.copy()\n",
    "\n",
    "# dropping all Na values ~ 42% of the data\n",
    "fatal_nona.dropna(axis=0,inplace=True)"
   ]
  },
  {
   "cell_type": "code",
   "execution_count": 23,
   "metadata": {},
   "outputs": [],
   "source": [
    "# join get_dummies data frame with the original data\n",
    "fatal_nona = pd.concat([fatal_nona, pd.get_dummies(fatal_nona[['gad1','stratif']])],axis=1)"
   ]
  },
  {
   "cell_type": "code",
   "execution_count": 24,
   "metadata": {},
   "outputs": [],
   "source": [
    "y = fatal_nona['injsev']\n",
    "X = fatal_nona.copy().drop(['injsev','gad1','stratif','caseid'], axis=1)"
   ]
  },
  {
   "cell_type": "code",
   "execution_count": 25,
   "metadata": {},
   "outputs": [],
   "source": [
    "# creating the test train split for multiclass modeling\n",
    "X_train, X_test, y_train, y_test = train_test_split(X, y, \n",
    "                                                    test_size=0.20, random_state=42, \n",
    "                                                    stratify=fatal_nona['injsev'])"
   ]
  },
  {
   "cell_type": "code",
   "execution_count": 26,
   "metadata": {},
   "outputs": [
    {
     "name": "stdout",
     "output_type": "stream",
     "text": [
      "(838425, 39) (838425,) (209607, 39) (209607,)\n"
     ]
    }
   ],
   "source": [
    "print(X_train.shape, y_train.shape, X_test.shape, y_test.shape)"
   ]
  },
  {
   "cell_type": "code",
   "execution_count": 27,
   "metadata": {},
   "outputs": [],
   "source": [
    "# Standardizing the train and test data\n",
    "ss = StandardScaler()\n",
    "X_train_ss = ss.fit_transform(X_train)\n",
    "X_test_ss = ss.fit_transform(X_test)"
   ]
  },
  {
   "cell_type": "code",
   "execution_count": 30,
   "metadata": {},
   "outputs": [
    {
     "name": "stdout",
     "output_type": "stream",
     "text": [
      "Decision Tree Score:\t0.964 ± 0.001\n"
     ]
    }
   ],
   "source": [
    "dt = DecisionTreeClassifier(min_samples_leaf=10)\n",
    "s = cross_val_score(dt, X_train_ss, y_train, cv=5, n_jobs=2)\n",
    "print(\"{} Score:\\t{:0.3} ± {:0.3}\".format(\"Decision Tree\", s.mean().round(3), s.std().round(3)))"
   ]
  },
  {
   "cell_type": "code",
   "execution_count": 31,
   "metadata": {},
   "outputs": [
    {
     "data": {
      "text/plain": [
       "DecisionTreeClassifier(class_weight=None, criterion='gini', max_depth=None,\n",
       "            max_features=None, max_leaf_nodes=None,\n",
       "            min_impurity_decrease=0.0, min_impurity_split=None,\n",
       "            min_samples_leaf=10, min_samples_split=2,\n",
       "            min_weight_fraction_leaf=0.0, presort=False, random_state=None,\n",
       "            splitter='best')"
      ]
     },
     "execution_count": 31,
     "metadata": {},
     "output_type": "execute_result"
    }
   ],
   "source": [
    "dt.fit(X_train_ss, y_train)"
   ]
  },
  {
   "cell_type": "code",
   "execution_count": 125,
   "metadata": {},
   "outputs": [
    {
     "data": {
      "text/plain": [
       "array([[72816,   731,   349,    67,     0,    61,     0],\n",
       "       [  922, 45920,   703,   323,     0,   136,     0],\n",
       "       [  453,   802, 31913,   361,     0,    71,     0],\n",
       "       [   73,   349,   335, 47581,    10,     8,     0],\n",
       "       [    2,     2,     2,     5,  3576,     0,     0],\n",
       "       [   80,   122,    84,    19,     0,  1729,     0],\n",
       "       [    2,     0,     0,     0,     0,     0,     0]])"
      ]
     },
     "execution_count": 125,
     "metadata": {},
     "output_type": "execute_result"
    }
   ],
   "source": [
    "confusion_matrix(y_test, dt.predict(X_test_ss))"
   ]
  },
  {
   "cell_type": "code",
   "execution_count": 141,
   "metadata": {},
   "outputs": [],
   "source": [
    "y_true = y_test.copy()\n",
    "y_pred = dt.predict(X_test_ss)"
   ]
  },
  {
   "cell_type": "code",
   "execution_count": 142,
   "metadata": {},
   "outputs": [
    {
     "data": {
      "text/html": [
       "<div>\n",
       "<style scoped>\n",
       "    .dataframe tbody tr th:only-of-type {\n",
       "        vertical-align: middle;\n",
       "    }\n",
       "\n",
       "    .dataframe tbody tr th {\n",
       "        vertical-align: top;\n",
       "    }\n",
       "\n",
       "    .dataframe thead th {\n",
       "        text-align: right;\n",
       "    }\n",
       "</style>\n",
       "<table border=\"1\" class=\"dataframe\">\n",
       "  <thead>\n",
       "    <tr style=\"text-align: right;\">\n",
       "      <th>col_0</th>\n",
       "      <th>0.0</th>\n",
       "      <th>1.0</th>\n",
       "      <th>2.0</th>\n",
       "      <th>3.0</th>\n",
       "      <th>4.0</th>\n",
       "      <th>5.0</th>\n",
       "    </tr>\n",
       "    <tr>\n",
       "      <th>injsev</th>\n",
       "      <th></th>\n",
       "      <th></th>\n",
       "      <th></th>\n",
       "      <th></th>\n",
       "      <th></th>\n",
       "      <th></th>\n",
       "    </tr>\n",
       "  </thead>\n",
       "  <tbody>\n",
       "    <tr>\n",
       "      <th>0.0</th>\n",
       "      <td>72816</td>\n",
       "      <td>731</td>\n",
       "      <td>349</td>\n",
       "      <td>67</td>\n",
       "      <td>0</td>\n",
       "      <td>61</td>\n",
       "    </tr>\n",
       "    <tr>\n",
       "      <th>1.0</th>\n",
       "      <td>922</td>\n",
       "      <td>45920</td>\n",
       "      <td>703</td>\n",
       "      <td>323</td>\n",
       "      <td>0</td>\n",
       "      <td>136</td>\n",
       "    </tr>\n",
       "    <tr>\n",
       "      <th>2.0</th>\n",
       "      <td>453</td>\n",
       "      <td>802</td>\n",
       "      <td>31913</td>\n",
       "      <td>361</td>\n",
       "      <td>0</td>\n",
       "      <td>71</td>\n",
       "    </tr>\n",
       "    <tr>\n",
       "      <th>3.0</th>\n",
       "      <td>73</td>\n",
       "      <td>349</td>\n",
       "      <td>335</td>\n",
       "      <td>47581</td>\n",
       "      <td>10</td>\n",
       "      <td>8</td>\n",
       "    </tr>\n",
       "    <tr>\n",
       "      <th>4.0</th>\n",
       "      <td>2</td>\n",
       "      <td>2</td>\n",
       "      <td>2</td>\n",
       "      <td>5</td>\n",
       "      <td>3576</td>\n",
       "      <td>0</td>\n",
       "    </tr>\n",
       "    <tr>\n",
       "      <th>5.0</th>\n",
       "      <td>80</td>\n",
       "      <td>122</td>\n",
       "      <td>84</td>\n",
       "      <td>19</td>\n",
       "      <td>0</td>\n",
       "      <td>1729</td>\n",
       "    </tr>\n",
       "    <tr>\n",
       "      <th>6.0</th>\n",
       "      <td>2</td>\n",
       "      <td>0</td>\n",
       "      <td>0</td>\n",
       "      <td>0</td>\n",
       "      <td>0</td>\n",
       "      <td>0</td>\n",
       "    </tr>\n",
       "  </tbody>\n",
       "</table>\n",
       "</div>"
      ],
      "text/plain": [
       "col_0     0.0    1.0    2.0    3.0   4.0   5.0\n",
       "injsev                                        \n",
       "0.0     72816    731    349     67     0    61\n",
       "1.0       922  45920    703    323     0   136\n",
       "2.0       453    802  31913    361     0    71\n",
       "3.0        73    349    335  47581    10     8\n",
       "4.0         2      2      2      5  3576     0\n",
       "5.0        80    122     84     19     0  1729\n",
       "6.0         2      0      0      0     0     0"
      ]
     },
     "execution_count": 142,
     "metadata": {},
     "output_type": "execute_result"
    }
   ],
   "source": [
    "confusion = pd.crosstab(y_true, y_pred)\n",
    "confusion"
   ]
  },
  {
   "cell_type": "code",
   "execution_count": 96,
   "metadata": {},
   "outputs": [
    {
     "data": {
      "image/png": "[encoded data removed]",
      "text/plain": [
       "<matplotlib.figure.Figure at 0x16165f550>"
      ]
     },
     "metadata": {},
     "output_type": "display_data"
    }
   ],
   "source": [
    "plt.figure(figsize=(20,10))\n",
    "ax = sns.heatmap(X_train.corr()[X_train.corr()>0.30])\n",
    "plt.show()"
   ]
  },
  {
   "cell_type": "code",
   "execution_count": 109,
   "metadata": {},
   "outputs": [],
   "source": [
    "feature_import = pd.concat([pd.Series(X_train.columns),\n",
    "                            pd.Series(dt.feature_importances_.tolist())],\n",
    "                           axis=1).sort_values(1,ascending=False)\n",
    "feature_import.reset_index(level=0, drop=True, inplace=True)\n",
    "feature_import.columns = ['feature','importance']"
   ]
  },
  {
   "cell_type": "code",
   "execution_count": 119,
   "metadata": {},
   "outputs": [
    {
     "data": {
      "image/png": "[encoded data removed]",
      "text/plain": [
       "<matplotlib.figure.Figure at 0x1643f5f60>"
      ]
     },
     "metadata": {},
     "output_type": "display_data"
    }
   ],
   "source": [
    "plt.title('Feature Importances')\n",
    "plt.barh( feature_import['importance'],color='b', align='center')\n",
    "# plt.yticks(range(len(indices)), features[indices])\n",
    "# plt.xlabel('Relative Importance') \n",
    "plt.show()"
   ]
  },
  {
   "cell_type": "code",
   "execution_count": 113,
   "metadata": {},
   "outputs": [
    {
     "data": {
      "text/plain": [
       "<matplotlib.axes._subplots.AxesSubplot at 0x1e47f8b00>"
      ]
     },
     "execution_count": 113,
     "metadata": {},
     "output_type": "execute_result"
    },
    {
     "data": {
      "image/png": "[encoded data removed]",
      "text/plain": [
       "<matplotlib.figure.Figure at 0x1613b6358>"
      ]
     },
     "metadata": {},
     "output_type": "display_data"
    }
   ],
   "source": [
    "feature_import.plot(kind='bar')"
   ]
  },
  {
   "cell_type": "code",
   "execution_count": null,
   "metadata": {},
   "outputs": [],
   "source": [
    "dt.predict(X_train)"
   ]
  },
  {
   "cell_type": "code",
   "execution_count": null,
   "metadata": {},
   "outputs": [],
   "source": [
    "\n",
    "def build_tree_models(x, y, tree_depth_range=range(1,11), min_leaf):\n",
    "    tree_model_ypreds = {}\n",
    "    \n",
    "    for i in tree_depth_range:\n",
    "        model = DecisionTreeRegressor(max_depth=i, min_samples_leaf=min_leaf)\n",
    "        model.fit(x[:, np.newaxis], y)\n",
    "        tree_model_ypreds[i] = model.predict(x[:, np.newaxis])\n",
    "        \n",
    "    return tree_model_ypreds"
   ]
  },
  {
   "cell_type": "code",
   "execution_count": null,
   "metadata": {},
   "outputs": [],
   "source": [
    "def mph(kmph):\n",
    "    '''\n",
    "    Function to convert kmph to mph.  \n",
    "    Enter the speed in kmph and the function converts it to mph.\n",
    "    - default set to 0.0001\n",
    "    '''\n",
    "    return round(0.621371*kmph)"
   ]
  },
  {
   "cell_type": "code",
   "execution_count": null,
   "metadata": {},
   "outputs": [],
   "source": []
  },
  {
   "cell_type": "code",
   "execution_count": null,
   "metadata": {},
   "outputs": [],
   "source": []
  },
  {
   "cell_type": "code",
   "execution_count": null,
   "metadata": {},
   "outputs": [],
   "source": []
  },
  {
   "cell_type": "code",
   "execution_count": null,
   "metadata": {},
   "outputs": [],
   "source": []
  },
  {
   "cell_type": "code",
   "execution_count": null,
   "metadata": {},
   "outputs": [],
   "source": []
  },
  {
   "cell_type": "code",
   "execution_count": null,
   "metadata": {},
   "outputs": [],
   "source": []
  }
 ],
 "metadata": {
  "kernelspec": {
   "display_name": "Python 3",
   "language": "python",
   "name": "python3"
  },
  "language_info": {
   "codemirror_mode": {
    "name": "ipython",
    "version": 3
   },
   "file_extension": ".py",
   "mimetype": "text/x-python",
   "name": "python",
   "nbconvert_exporter": "python",
   "pygments_lexer": "ipython3",
   "version": "3.6.4"
  }
 },
 "nbformat": 4,
 "nbformat_minor": 2
}

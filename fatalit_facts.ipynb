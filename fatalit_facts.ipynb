{
 "cells": [
  {
   "cell_type": "code",
   "execution_count": 232,
   "metadata": {},
   "outputs": [],
   "source": [
    "import sqlite3 as sql\n",
    "import pandas as pd\n",
    "import numpy as np\n",
    "from IPython.display import Image\n",
    "from sklearn.preprocessing import OneHotEncoder, StandardScaler, label_binarize\n",
    "from sklearn.model_selection import train_test_split, cross_val_score\n",
    "from sklearn.linear_model import LogisticRegression\n",
    "from sklearn.neighbors import KNeighborsClassifier\n",
    "from sklearn.tree import DecisionTreeClassifier\n",
    "from sklearn.metrics import confusion_matrix\n",
    "from sklearn.pipeline import Pipeline\n",
    "from sklearn.multiclass import OneVsRestClassifier\n",
    "\n",
    "from sklearn.metrics import roc_curve, auc, roc_auc_score, classification_report\n",
    "\n",
    "\n",
    "import seaborn as sns\n",
    "import matplotlib.pyplot as plt \n",
    "\n",
    "%matplotlib inline\n"
   ]
  },
  {
   "cell_type": "code",
   "execution_count": 81,
   "metadata": {},
   "outputs": [
    {
     "name": "stderr",
     "output_type": "stream",
     "text": [
      "/Users/guillermogonzalez/miniconda3/envs/ga/lib/python3.6/site-packages/IPython/core/interactiveshell.py:2728: DtypeWarning: Columns (3) have mixed types. Specify dtype option on import or set low_memory=False.\n",
      "  interactivity=interactivity, compiler=compiler, result=result)\n"
     ]
    }
   ],
   "source": [
    "df = pd.read_csv('./database.sqlite')"
   ]
  },
  {
   "cell_type": "markdown",
   "metadata": {},
   "source": [
    "- CASEID - case number\n",
    "- DOF1 - direction of force (highest)\n",
    "- GAD1 - deformation location (highest)\n",
    "- PSU - primary sampling unit number\n",
    "- YEAR - calender year of crash\n",
    "- STRATIF - case stratum\n",
    "- BODYTYPE - vehicle body type\n",
    "- DVEST - estimated highest delta V\n",
    "- DVBASIS - basis for total deltav V (highest)\n",
    "- DVTOTAL - total delta V\n",
    "- MAKE - vehicle make\n",
    "- MODELYR - vehicle model year\n",
    "- AGE - age of occupant\n",
    "- BAGAVAIL - air bag system availability\n",
    "- BAGDEPLY - air bag system deployed\n",
    "- BAGFAIL - air bag system failure\n",
    "- CASENO - case sequence number\n",
    "- CHTYPE - type of child safety seat\n",
    "- DEATH - time of death\n",
    "- HEIGHT - height of occupent\n",
    "- HOPSTAY - hospital stay\n",
    "- INJSEV - injury severity (police rating)\n",
    "- MANAVAIL -\n",
    "- MANFAIL - \n",
    "- MANUSE - manual belt system use \n",
    "- OCCNO - occupant number\n",
    "- ROLE - occupant's role\n",
    "- SEATPOS - occupant's seat position\n",
    "- SEX - occupant's sex\n",
    "- TREATMENT - treatment - mortality\n",
    "- WEIGHT - occupant's weight"
   ]
  },
  {
   "cell_type": "code",
   "execution_count": 82,
   "metadata": {},
   "outputs": [],
   "source": [
    "fatal = df.copy()"
   ]
  },
  {
   "cell_type": "code",
   "execution_count": 83,
   "metadata": {
    "scrolled": true
   },
   "outputs": [
    {
     "data": {
      "text/plain": [
       "Index(['Unnamed: 0', 'CASEID', 'DOF1', 'GAD1', 'PSU', 'YEAR', 'STRATIF',\n",
       "       'BODYTYPE', 'DVEST', 'DVBASIS', 'DVTOTAL', 'MAKE', 'MODELYR', 'AGE',\n",
       "       'BAGAVAIL', 'BAGDEPLY', 'BAGFAIL', 'CASENO', 'CHTYPE', 'DEATH',\n",
       "       'HEIGHT', 'HOSPSTAY', 'INJSEV', 'MANAVAIL', 'MANFAIL', 'MANUSE',\n",
       "       'OCCNO', 'ROLE', 'SEATPOS', 'SEX', 'TREATMNT', 'WEIGHT'],\n",
       "      dtype='object')"
      ]
     },
     "execution_count": 83,
     "metadata": {},
     "output_type": "execute_result"
    }
   ],
   "source": [
    "fatal.columns"
   ]
  },
  {
   "cell_type": "code",
   "execution_count": 84,
   "metadata": {},
   "outputs": [],
   "source": [
    "# changing all columns to lower case\n",
    "columns = fatal.columns\n",
    "columns_lower = []\n",
    "for col in columns:\n",
    "    columns_lower.append(col.lower())\n",
    "fatal.columns = columns_lower"
   ]
  },
  {
   "cell_type": "code",
   "execution_count": 85,
   "metadata": {},
   "outputs": [],
   "source": [
    "## removed unnamed: 0 column since it matched the index\n",
    "fatal.drop(labels='unnamed: 0',axis=1,inplace=True)"
   ]
  },
  {
   "cell_type": "code",
   "execution_count": 86,
   "metadata": {},
   "outputs": [],
   "source": [
    "# dictionay of categorie ID's (named how they will appear when get dummies is applied)\n",
    "dvest = {'dvest_0':'reconstructed_dv','dvest_1':'dv<10kmph','dvest_2':'10 >= dv < 25kmph','dvest_3':'25 >= dv < 40kmph',\n",
    "         'divest_4':'40 >= dv <55kmph','divest_5':'dv >= 55kmph','divest_6':'minor damage','divest_7':'moderat damage',\n",
    "         'divest_8':'severe damage'}\n",
    "\n",
    "dvbasis = {'dvbasis_0':'not_ispctd','dvbasis_1':'S_dmg_only','dvbasis_2':'S_dmg_&_trjctry','dvbasis_3':'S_missing_vhcl', \n",
    "           'dvbasis_4':'S_dmg_cdc_only', 'dvbasis_5':'one_vhcle_byond_S_scope','dvbasis_6':'rollover',\n",
    "           'dvbasis_7':'non_hrzntl_forces','dvbasis_8':'sideswipe_dmg','dvbasis_9':'severe_override',\n",
    "          'dvbasis_10':'ylding_objct','dvbasis_11':'overlapping_dmg','dvbasis_12':'insuf_data',\n",
    "           'dvbasis_98':'other','dvbasis_99':'unknown'}\n",
    "\n",
    "gad1 = {'gad1_F':'front','gad1_L':'left','gad_R':'right','gad1_B':'back','gad1_uk':'unkown','gad1_T':'top',\n",
    "        'gad1_U':'undercarriage'}\n",
    "\n",
    "\n",
    "bagavail = {'bagavail_1':'no','bagavail_2':'yes','bagavail_3':'unknown'}\n",
    "# stratif = {'stratif_k':'fatality','stratif_F':'injry_no_tow_hsptl',\n",
    "#           'stratif_E':'injry_tow','stratif_C':'two_tow_no_hsptl','stratif_D':}\n",
    "# air bad deployed \n",
    "bagdeply = {'bagdeply_0':'no_bag', 'bagdeply_1':'impct_deply','bagdeply_3':'deply_ukdetls',\n",
    "            'bagdeply_5':'uk_deply','bagdeply_7':'no_deply'}\n",
    "\n",
    "# air bag failure\n",
    "bagfail = {'bagfail_0':'no_bag','bagfail_1':'no','bagfail_2':'yes'}\n",
    "\n",
    "# child seat type\n",
    "chtype = {'chtype chtype _0':'none','chtype_1':'conv_seat','chtype_2':'frwd_face','chtype_3':'infnt_seat',\n",
    "          'chtype_4':'boost_seat','chtype_7':'vest','chtype_8':'harness'}\n",
    "\n",
    "# Injury severity\n",
    "injsev = {'injsev_0':'no_inj','injsev_1':'pssbl_inj','injsev_2':'n_incptng_inj','injsev_3':'incptng_inj',\n",
    "          'injsev_4':'killed','injsev_5':'inj_sev_uk','injsev_6':'die_b4_crsh'}\n",
    "\n",
    "# Drop mannavail since it's same data as manuse\n",
    "# Manual seatbelt used\n",
    "manuse = {'manuse_0':'none','manuse_1':'inoperative','manuse_2':'shldr_b','manuse_3':'lap_b',\n",
    "          'manuse_4':'laphshldr_b','manuse_5':'b_avail_uk','manuse_8':'othr_b_use',\n",
    "          'manuse_12':'shldr_chld_seat','manuse_13':'lap_chld_seat','manuse_14':'lapshldr_chld_seat',\n",
    "          'manuse_15':'b_chld_seat_uk','manuse_18':'othrb_chld_seat'}\n",
    "\n",
    "# Manual seatbelt fail\n",
    "manfail = {'manfail_0':'nouse','manfail_1':'no_mlfctn',\n",
    "           'manfail_2':'torn_wbbng','manfail_3':'bckl',\n",
    "           'manfail_4':'uppr_anchr','manfail_5':'othr_anchr',\n",
    "           'manavail_6':'retrctr','manavail_7':'combo',\n",
    "           'manfail_8':'other'}\n",
    "\n",
    "role = {'role_1':'driver','role_2':'passenger'}\n",
    "\n"
   ]
  },
  {
   "cell_type": "code",
   "execution_count": 87,
   "metadata": {},
   "outputs": [],
   "source": [
    "# replace 9 with uk for (unknown per the NASS documents)\n",
    "# fatal['gad1'] = fatal['gad1'].copy().replace('9','uk')"
   ]
  },
  {
   "cell_type": "code",
   "execution_count": 88,
   "metadata": {},
   "outputs": [
    {
     "name": "stderr",
     "output_type": "stream",
     "text": [
      "/Users/guillermogonzalez/miniconda3/envs/ga/lib/python3.6/site-packages/pandas/core/generic.py:4480: UserWarning: the \"axis\" argument is deprecated and will be removed inv0.13; this argument has no effect\n",
      "  warnings.warn('the \"axis\" argument is deprecated '\n"
     ]
    }
   ],
   "source": [
    "# replace 0 with 1 since they are the same thing according to the NASS documents\n",
    "fatal['bagavail'] = fatal['bagavail'].copy().replace(0,1,axis=0)"
   ]
  },
  {
   "cell_type": "code",
   "execution_count": 89,
   "metadata": {},
   "outputs": [],
   "source": [
    "# according NASS psu and caseno are same info as caseid and all are not relevant to the scope\n",
    "fatal.drop(['psu', 'caseno', 'caseid'],axis=1,inplace=True)"
   ]
  },
  {
   "cell_type": "code",
   "execution_count": 90,
   "metadata": {},
   "outputs": [],
   "source": [
    "# remove manavail since manuse gives the same information\n",
    "fatal.drop('manavail', axis=1, inplace=True)"
   ]
  },
  {
   "cell_type": "code",
   "execution_count": 91,
   "metadata": {},
   "outputs": [],
   "source": [
    "# remove bagavail since bagdeply has the same information\n",
    "fatal.drop('bagavail', axis=1, inplace=True)"
   ]
  },
  {
   "cell_type": "code",
   "execution_count": 92,
   "metadata": {},
   "outputs": [],
   "source": [
    "#  Remove occno since it's same informaton covered by seatpos\n",
    "fatal.drop('occno', axis=1, inplace=True)"
   ]
  },
  {
   "cell_type": "code",
   "execution_count": 93,
   "metadata": {},
   "outputs": [],
   "source": [
    "#  Remove these columns becuase they all conatain the same information as the target\n",
    "fatal.drop(['death','hospstay','stratif','treatmnt'], axis=1, inplace=True)"
   ]
  },
  {
   "cell_type": "code",
   "execution_count": 94,
   "metadata": {},
   "outputs": [
    {
     "name": "stderr",
     "output_type": "stream",
     "text": [
      "/Users/guillermogonzalez/miniconda3/envs/ga/lib/python3.6/site-packages/pandas/core/generic.py:4480: UserWarning: the \"axis\" argument is deprecated and will be removed inv0.13; this argument has no effect\n",
      "  warnings.warn('the \"axis\" argument is deprecated '\n"
     ]
    }
   ],
   "source": [
    "# Change 1 to 0\n",
    "fatal['role'].replace(to_replace=[1,2], value=[0,1], inplace=True, axis=0)"
   ]
  },
  {
   "cell_type": "code",
   "execution_count": 95,
   "metadata": {},
   "outputs": [],
   "source": [
    "# removing 2 from bagfail (only 0.2% of the data and stands for \"not available\")\n",
    "fatal = fatal[ fatal['bagfail'].isin([0,1]) ]"
   ]
  },
  {
   "cell_type": "code",
   "execution_count": 96,
   "metadata": {},
   "outputs": [],
   "source": [
    "# Dictionary of each column's unique values key = counts, value = feature name\n",
    "unique_dict = {}\n",
    "for col in fatal.columns:\n",
    "    unique_dict[col] =  fatal[col].nunique()\n",
    "\n",
    "# Features <30 counts\n",
    "categoricals = []\n",
    "for key in unique_dict.keys():\n",
    "    if unique_dict[key] < 30:\n",
    "        categoricals.append(key)"
   ]
  },
  {
   "cell_type": "code",
   "execution_count": 97,
   "metadata": {},
   "outputs": [
    {
     "name": "stdout",
     "output_type": "stream",
     "text": [
      "gad1\n",
      "F    1128361\n",
      "L     333641\n",
      "R     263584\n",
      "B     255902\n",
      "9      67171\n",
      "T      53171\n",
      "U       2530\n",
      "Name: gad1, dtype: int64\n",
      "year\n",
      "2004    489900\n",
      "2006    448523\n",
      "2005    441071\n",
      "2007    209294\n",
      "2008    167341\n",
      "2009    102655\n",
      "2010     82988\n",
      "2011     78447\n",
      "2014     48635\n",
      "2012     46621\n",
      "2013      9815\n",
      "2015      8168\n",
      "Name: year, dtype: int64\n",
      "dvest\n",
      "0.0    1419768\n",
      "7.0     242927\n",
      "6.0      99967\n",
      "8.0      66570\n",
      "2.0       9683\n",
      "3.0       4216\n",
      "1.0       2181\n",
      "5.0       2180\n",
      "4.0        913\n",
      "Name: dvest, dtype: int64\n",
      "dvbasis\n",
      "1.0     919565\n",
      "3.0     455036\n",
      "11.0    214754\n",
      "0.0     152731\n",
      "4.0      91733\n",
      "7.0      53181\n",
      "5.0      43827\n",
      "10.0     40983\n",
      "98.0     33203\n",
      "6.0      30348\n",
      "9.0      26842\n",
      "8.0      14917\n",
      "2.0       1018\n",
      "Name: dvbasis, dtype: int64\n",
      "bagdeply\n",
      "1.0    750620\n",
      "7.0    704252\n",
      "0.0    670908\n",
      "3.0      7678\n",
      "Name: bagdeply, dtype: int64\n",
      "bagfail\n",
      "1.0    1498618\n",
      "0.0     634840\n",
      "Name: bagfail, dtype: int64\n",
      "chtype\n",
      "0.0    2036408\n",
      "3.0      26446\n",
      "8.0      22419\n",
      "4.0      21949\n",
      "2.0      12367\n",
      "1.0      10747\n",
      "7.0       2100\n",
      "Name: chtype, dtype: int64\n",
      "injsev\n",
      "0.0    728289\n",
      "3.0    480384\n",
      "1.0    455692\n",
      "2.0    332879\n",
      "4.0     69996\n",
      "5.0     27060\n",
      "6.0        15\n",
      "Name: injsev, dtype: int64\n",
      "manfail\n",
      "1.0    1555079\n",
      "0.0     413659\n",
      "2.0       1168\n",
      "3.0       1090\n",
      "6.0        340\n",
      "7.0        321\n",
      "5.0        120\n",
      "8.0         92\n",
      "4.0         57\n",
      "Name: manfail, dtype: int64\n",
      "manuse\n",
      "4.0     1508725\n",
      "0.0      413771\n",
      "14.0      71062\n",
      "3.0       48084\n",
      "13.0      11282\n",
      "5.0        3037\n",
      "15.0       1398\n",
      "8.0         346\n",
      "2.0         267\n",
      "12.0        240\n",
      "1.0         205\n",
      "18.0         80\n",
      "Name: manuse, dtype: int64\n",
      "role\n",
      "0.0    1334232\n",
      "1.0     799216\n",
      "Name: role, dtype: int64\n",
      "seatpos\n",
      "11.0    1333884\n",
      "13.0     399167\n",
      "23.0     156671\n",
      "21.0     131231\n",
      "22.0      50330\n",
      "33.0      10169\n",
      "31.0       9777\n",
      "24.0       6684\n",
      "98.0       5859\n",
      "12.0       5405\n",
      "32.0       4816\n",
      "97.0       2242\n",
      "14.0       1578\n",
      "25.0       1282\n",
      "34.0       1224\n",
      "15.0        824\n",
      "35.0        794\n",
      "43.0        748\n",
      "41.0        720\n",
      "42.0        620\n",
      "44.0        136\n",
      "51.0         67\n",
      "53.0         60\n",
      "29.0         27\n",
      "39.0         16\n",
      "54.0          7\n",
      "52.0          4\n",
      "Name: seatpos, dtype: int64\n",
      "sex\n",
      "1.0    1112587\n",
      "2.0     978592\n",
      "5.0       9336\n",
      "4.0       6745\n",
      "3.0       5218\n",
      "6.0        498\n",
      "Name: sex, dtype: int64\n"
     ]
    }
   ],
   "source": [
    "for col in categoricals:\n",
    "    print(col)\n",
    "    print(fatal[col].value_counts())"
   ]
  },
  {
   "cell_type": "code",
   "execution_count": 98,
   "metadata": {},
   "outputs": [
    {
     "data": {
      "text/plain": [
       "0.0    728289\n",
       "3.0    480384\n",
       "1.0    455692\n",
       "2.0    332879\n",
       "4.0     69996\n",
       "5.0     27060\n",
       "6.0        15\n",
       "Name: injsev, dtype: int64"
      ]
     },
     "execution_count": 98,
     "metadata": {},
     "output_type": "execute_result"
    }
   ],
   "source": [
    "# Grouping:\n",
    "# (0, 1, 2,) --> non-sevear\n",
    "# (3) --> sevear\n",
    "# (4, 6) --> death \n",
    "# 5 is injured, but unknown severity --> need to impute\n",
    "fatal['injsev'].value_counts()"
   ]
  },
  {
   "cell_type": "code",
   "execution_count": 99,
   "metadata": {},
   "outputs": [
    {
     "data": {
      "text/plain": [
       "dof1        160761\n",
       "gad1         29098\n",
       "year             0\n",
       "bodytype      1433\n",
       "dvest       285053\n",
       "dvbasis      55320\n",
       "dvtotal     757839\n",
       "make          7355\n",
       "modelyr       9016\n",
       "age          34142\n",
       "bagdeply         0\n",
       "bagfail          0\n",
       "chtype        1022\n",
       "height      337362\n",
       "injsev       39143\n",
       "manfail     161532\n",
       "manuse       74961\n",
       "role            10\n",
       "seatpos       9116\n",
       "sex          20482\n",
       "weight      310898\n",
       "dtype: int64"
      ]
     },
     "execution_count": 99,
     "metadata": {},
     "output_type": "execute_result"
    }
   ],
   "source": [
    "# reviewing null values\n",
    "fatal.isnull().sum()"
   ]
  },
  {
   "cell_type": "code",
   "execution_count": 100,
   "metadata": {},
   "outputs": [
    {
     "name": "stdout",
     "output_type": "stream",
     "text": [
      "         NAs   Total  Percentage\n",
      "2004  157079  489900       0.321\n",
      "2005  150822  441071       0.342\n",
      "2006  162134  448523       0.361\n",
      "2007   78587  209294       0.375\n",
      "2008   65398  167341       0.391\n",
      "2009   39786  102655       0.388\n",
      "2010   33540   82988       0.404\n",
      "2011   31318   78447       0.399\n",
      "2012   17803   46621       0.382\n",
      "2013    3031    9815       0.309\n",
      "2014   15902   48635       0.327\n",
      "2015    2439    8168       0.299\n",
      "\n",
      "There is an average of 35.81666666666667% NA values\n"
     ]
    }
   ],
   "source": [
    "# dvtotal has 1,091,276 null values.  From the analysis below, that accounts 35 to 50 % of each year's data\n",
    "# Dropping these Na data points\n",
    "dvtotal_na = pd.DataFrame(fatal[ fatal['dvtotal']\\\n",
    "                                .isnull() ]['year']\\\n",
    "                                .value_counts()).sort_index(ascending=True)\n",
    "\n",
    "total = pd.DataFrame(fatal['year'].value_counts()).sort_index(ascending=True)\n",
    "\n",
    "na_percent = pd.concat([dvtotal_na,total], axis=1)\n",
    "na_percent.columns = ['NAs','Total']\n",
    "\n",
    "na_percent['Percentage'] = (na_percent['NAs'] / na_percent['Total']).round(3)\n",
    "\n",
    "print(na_percent.sort_index(ascending=True))\n",
    "print()\n",
    "print('There is an average of {}'.format(na_percent['Percentage'].mean()*100) + '% NA values')"
   ]
  },
  {
   "cell_type": "markdown",
   "metadata": {},
   "source": [
    "## Try Dropping NA"
   ]
  },
  {
   "cell_type": "code",
   "execution_count": 101,
   "metadata": {},
   "outputs": [],
   "source": [
    "fatal_nona = fatal.copy()\n",
    "\n",
    "# dropping all Na values ~ 42% of the data\n",
    "fatal_nona.dropna(axis=0,inplace=True, )\n",
    "\n",
    "# resetting the index\n",
    "fatal_nona.reset_index(drop=True, inplace=True)"
   ]
  },
  {
   "cell_type": "code",
   "execution_count": 102,
   "metadata": {},
   "outputs": [],
   "source": [
    "# Identifying the colunsm that have float values\n",
    "floats = fatal_nona.dtypes[ fatal_nona.dtypes == 'float64' ].index.tolist()\n",
    "\n",
    "# Converting those floats to integers\n",
    "fatal_nona[floats] = fatal_nona[floats].astype('int')"
   ]
  },
  {
   "cell_type": "code",
   "execution_count": 103,
   "metadata": {
    "scrolled": true
   },
   "outputs": [],
   "source": [
    "# apply get dummies on the string values in gad1 column\n",
    "fatal_nona = pd.concat([fatal_nona, pd.get_dummies(fatal_nona[['gad1']])], axis=1) "
   ]
  },
  {
   "cell_type": "markdown",
   "metadata": {},
   "source": [
    "### Imputing 'injsev' category 5 (Injury-Unknown Severity)"
   ]
  },
  {
   "cell_type": "code",
   "execution_count": 104,
   "metadata": {},
   "outputs": [],
   "source": [
    "impute_five = fatal_nona.copy()"
   ]
  },
  {
   "cell_type": "code",
   "execution_count": 105,
   "metadata": {},
   "outputs": [
    {
     "data": {
      "text/plain": [
       "Index(['dof1', 'gad1', 'year', 'bodytype', 'dvest', 'dvbasis', 'dvtotal',\n",
       "       'make', 'modelyr', 'age', 'bagdeply', 'bagfail', 'chtype', 'height',\n",
       "       'injsev', 'manfail', 'manuse', 'role', 'seatpos', 'sex', 'weight',\n",
       "       'gad1_B', 'gad1_F', 'gad1_L', 'gad1_R', 'gad1_T', 'gad1_U'],\n",
       "      dtype='object')"
      ]
     },
     "execution_count": 105,
     "metadata": {},
     "output_type": "execute_result"
    }
   ],
   "source": [
    "impute_five.columns"
   ]
  },
  {
   "cell_type": "code",
   "execution_count": 106,
   "metadata": {},
   "outputs": [
    {
     "data": {
      "text/plain": [
       "0    370186\n",
       "3    246962\n",
       "1    242300\n",
       "2    169680\n",
       "4     30412\n",
       "5     10323\n",
       "6         8\n",
       "Name: injsev, dtype: int64"
      ]
     },
     "execution_count": 106,
     "metadata": {},
     "output_type": "execute_result"
    }
   ],
   "source": [
    "impute_five['injsev'].value_counts()"
   ]
  },
  {
   "cell_type": "code",
   "execution_count": 107,
   "metadata": {},
   "outputs": [
    {
     "data": {
      "text/plain": [
       "0    370186\n",
       "3    246962\n",
       "1    242300\n",
       "2    169680\n",
       "4     30412\n",
       "5     10323\n",
       "6         8\n",
       "Name: injsev, dtype: int64"
      ]
     },
     "execution_count": 107,
     "metadata": {},
     "output_type": "execute_result"
    }
   ],
   "source": [
    "impute_five['injsev'].value_counts()"
   ]
  },
  {
   "cell_type": "code",
   "execution_count": 108,
   "metadata": {},
   "outputs": [
    {
     "name": "stdout",
     "output_type": "stream",
     "text": [
      "0 baseline = 0.349 \n",
      "1 baseline = 0.229 \n",
      "2 baseline = 0.16 \n",
      "3 baseline = 0.233 \n",
      "4 baseline = 0.0287\n"
     ]
    }
   ],
   "source": [
    "# baseline accuracy of predicting 0-4 categories\n",
    "injsev_0 = impute_five['injsev'].value_counts()[0]/len(impute_five[ impute_five['injsev'] != 5 ])\n",
    "injsev_1 = impute_five['injsev'].value_counts()[1]/len(impute_five[ impute_five['injsev'] != 5 ])\n",
    "injsev_2 = impute_five['injsev'].value_counts()[2]/len(impute_five[ impute_five['injsev'] != 5 ])\n",
    "injsev_3 = impute_five['injsev'].value_counts()[3]/len(impute_five[ impute_five['injsev'] != 5 ])\n",
    "injsev_4 = impute_five['injsev'].value_counts()[4]/len(impute_five[ impute_five['injsev'] != 5 ])\n",
    "\n",
    "print('0 baseline = {:.3} \\n1 baseline = {:.3} \\n2 baseline = {:.3} \\n3 baseline = {:.3} \\n4 baseline = {:.3}'\\\n",
    "      .format(injsev_0, injsev_1, injsev_2, injsev_3, injsev_4))"
   ]
  },
  {
   "cell_type": "code",
   "execution_count": 109,
   "metadata": {},
   "outputs": [],
   "source": [
    "X_train = impute_five[ impute_five['injsev'] != 5 ].drop(['injsev','gad1'], axis=1)\n",
    "y_train = impute_five[ impute_five['injsev'] != 5 ]['injsev']\n",
    "\n",
    "X_test = impute_five[ impute_five['injsev'] == 5 ].drop(['injsev','gad1'], axis=1)\n",
    "y_test = impute_five[ impute_five['injsev'] == 5 ]['injsev']"
   ]
  },
  {
   "cell_type": "code",
   "execution_count": 110,
   "metadata": {},
   "outputs": [],
   "source": [
    "# Standardizing the train and test data\n",
    "ss = StandardScaler()\n",
    "X_train_ss = ss.fit_transform(X_train)\n",
    "X_test_ss = ss.fit_transform(X_test)"
   ]
  },
  {
   "cell_type": "code",
   "execution_count": 111,
   "metadata": {},
   "outputs": [],
   "source": [
    "# Capturing the indices of y_test to reset the prediction's into indice locations for 'injsev'\n",
    "y_test_index = y_test.index.tolist()"
   ]
  },
  {
   "cell_type": "code",
   "execution_count": 112,
   "metadata": {},
   "outputs": [
    {
     "data": {
      "text/plain": [
       "DecisionTreeClassifier(class_weight=None, criterion='gini', max_depth=None,\n",
       "            max_features=None, max_leaf_nodes=None,\n",
       "            min_impurity_decrease=0.0, min_impurity_split=None,\n",
       "            min_samples_leaf=1, min_samples_split=2,\n",
       "            min_weight_fraction_leaf=0.0, presort=False, random_state=None,\n",
       "            splitter='best')"
      ]
     },
     "execution_count": 112,
     "metadata": {},
     "output_type": "execute_result"
    }
   ],
   "source": [
    "# Decisiion tree multiclassification to impute the cat. 5 (unknown severity) feature\n",
    "dt_impute = DecisionTreeClassifier()\n",
    "dt_impute.fit(X_train_ss, y_train)"
   ]
  },
  {
   "cell_type": "code",
   "execution_count": 113,
   "metadata": {},
   "outputs": [
    {
     "name": "stdout",
     "output_type": "stream",
     "text": [
      "Decision Tree Score:\t0.278 ± 0.016\n"
     ]
    }
   ],
   "source": [
    "s = cross_val_score(dt_impute, X_train_ss, y_train, cv=5 , n_jobs=2)\n",
    "print(\"{} Score:\\t{:0.3} ± {:0.3}\".format(\"Decision Tree\", s.mean().round(3), s.std().round(3)))"
   ]
  },
  {
   "cell_type": "code",
   "execution_count": 114,
   "metadata": {},
   "outputs": [
    {
     "name": "stdout",
     "output_type": "stream",
     "text": [
      "{0, 1, 2, 3, 4}\n",
      "0 sum =  3538\n",
      "1 sum =  2583\n",
      "2 sum =  1507\n",
      "3 sum =  2203\n",
      "4 sum =  492\n",
      "\n",
      "Percent of 4 =  0.03471144348807676\n"
     ]
    }
   ],
   "source": [
    "# although the accuracy is not very good for the estimations, \n",
    "#(0, 1, 2) were going to be classified as 'unsevere'\n",
    "# (3) will be 'severe' and there were only 8% of fives classified as 3\n",
    "\n",
    "print(set(dt_impute.predict(X_test_ss).tolist()))\n",
    "print('0 sum = ',(dt_impute.predict(X_test_ss)==0).sum())\n",
    "print('1 sum = ',(dt_impute.predict(X_test_ss)==1).sum())\n",
    "print('2 sum = ',(dt_impute.predict(X_test_ss)==2).sum())\n",
    "print('3 sum = ',(dt_impute.predict(X_test_ss)==3).sum())\n",
    "print('4 sum = ',(dt_impute.predict(X_test_ss)==4).sum())\n",
    "print()\n",
    "print('Percent of 4 = ',(dt_impute.predict(X_test_ss)==4).sum()/dt_impute.predict(X_test_ss).sum())"
   ]
  },
  {
   "cell_type": "code",
   "execution_count": 115,
   "metadata": {},
   "outputs": [],
   "source": [
    "cat_five_imputed = pd.Series(dt_impute.predict(X_test_ss).tolist(), index=y_test_index)\n",
    "# fatal_nona.replace(to_replace = fatal_nona[ fatal_nona['injsev']==5 ]['injsev'],\n",
    "#                    value = cat_five_imputed,\n",
    "#                    axis=0,\n",
    "#                   inplace=True)\n"
   ]
  },
  {
   "cell_type": "code",
   "execution_count": 116,
   "metadata": {
    "scrolled": true
   },
   "outputs": [
    {
     "data": {
      "text/plain": [
       "2744       3\n",
       "2750       1\n",
       "2756       3\n",
       "2762       1\n",
       "2768       3\n",
       "2774       1\n",
       "2780       3\n",
       "2786       1\n",
       "2792       3\n",
       "2798       1\n",
       "2804       3\n",
       "2810       1\n",
       "2816       3\n",
       "2822       1\n",
       "2828       3\n",
       "2834       1\n",
       "2840       3\n",
       "2846       1\n",
       "2852       3\n",
       "2858       1\n",
       "2864       3\n",
       "2870       1\n",
       "2876       3\n",
       "2882       1\n",
       "2888       3\n",
       "2894       1\n",
       "2900       3\n",
       "2906       1\n",
       "2912       3\n",
       "2918       1\n",
       "          ..\n",
       "1066819    3\n",
       "1066822    3\n",
       "1066825    3\n",
       "1066828    3\n",
       "1066831    3\n",
       "1066834    3\n",
       "1066837    3\n",
       "1066840    3\n",
       "1066843    3\n",
       "1066846    3\n",
       "1066849    3\n",
       "1066852    3\n",
       "1066890    1\n",
       "1066891    1\n",
       "1066893    0\n",
       "1066894    1\n",
       "1066896    1\n",
       "1066897    1\n",
       "1066899    2\n",
       "1066900    1\n",
       "1066901    1\n",
       "1066902    2\n",
       "1067774    0\n",
       "1067775    3\n",
       "1067776    0\n",
       "1067777    3\n",
       "1068280    2\n",
       "1068284    0\n",
       "1068288    2\n",
       "1068292    0\n",
       "Length: 10323, dtype: int64"
      ]
     },
     "execution_count": 116,
     "metadata": {},
     "output_type": "execute_result"
    }
   ],
   "source": [
    "cat_five_imputed"
   ]
  },
  {
   "cell_type": "code",
   "execution_count": 117,
   "metadata": {},
   "outputs": [
    {
     "name": "stdout",
     "output_type": "stream",
     "text": [
      "10323\n",
      "10323\n"
     ]
    }
   ],
   "source": [
    "print(len(fatal_nona[ fatal_nona['injsev']==5]['injsev']))\n",
    "print(len(cat_five_imputed))"
   ]
  },
  {
   "cell_type": "code",
   "execution_count": 118,
   "metadata": {},
   "outputs": [],
   "source": [
    "# Join imputed values with the orginal values in a DataFrame\n",
    "five_imputed = pd.concat([y_test, cat_five_imputed], axis=1, join='outer').drop('injsev', axis=1)"
   ]
  },
  {
   "cell_type": "code",
   "execution_count": 119,
   "metadata": {
    "scrolled": true
   },
   "outputs": [],
   "source": [
    "# Creating a new dataframe from the series created above inorder to rename the column to 'injsev' in order for the\n",
    "# .update() method can work as expected\n",
    "five_imputed = pd.DataFrame(five_imputed.values, columns=['injsev'], index=five_imputed.index)"
   ]
  },
  {
   "cell_type": "code",
   "execution_count": 120,
   "metadata": {},
   "outputs": [
    {
     "data": {
      "text/html": [
       "<div>\n",
       "<style scoped>\n",
       "    .dataframe tbody tr th:only-of-type {\n",
       "        vertical-align: middle;\n",
       "    }\n",
       "\n",
       "    .dataframe tbody tr th {\n",
       "        vertical-align: top;\n",
       "    }\n",
       "\n",
       "    .dataframe thead th {\n",
       "        text-align: right;\n",
       "    }\n",
       "</style>\n",
       "<table border=\"1\" class=\"dataframe\">\n",
       "  <thead>\n",
       "    <tr style=\"text-align: right;\">\n",
       "      <th></th>\n",
       "      <th>injsev</th>\n",
       "    </tr>\n",
       "  </thead>\n",
       "  <tbody>\n",
       "    <tr>\n",
       "      <th>2744</th>\n",
       "      <td>3</td>\n",
       "    </tr>\n",
       "    <tr>\n",
       "      <th>2750</th>\n",
       "      <td>1</td>\n",
       "    </tr>\n",
       "    <tr>\n",
       "      <th>2756</th>\n",
       "      <td>3</td>\n",
       "    </tr>\n",
       "    <tr>\n",
       "      <th>2762</th>\n",
       "      <td>1</td>\n",
       "    </tr>\n",
       "    <tr>\n",
       "      <th>2768</th>\n",
       "      <td>3</td>\n",
       "    </tr>\n",
       "  </tbody>\n",
       "</table>\n",
       "</div>"
      ],
      "text/plain": [
       "      injsev\n",
       "2744       3\n",
       "2750       1\n",
       "2756       3\n",
       "2762       1\n",
       "2768       3"
      ]
     },
     "execution_count": 120,
     "metadata": {},
     "output_type": "execute_result"
    }
   ],
   "source": [
    "five_imputed.head()"
   ]
  },
  {
   "cell_type": "code",
   "execution_count": 121,
   "metadata": {},
   "outputs": [],
   "source": [
    "# Updating DataFram with the new imputed value for category 5\n",
    "# Note:  five_imputed column name matched the column name of the main DataFrame\n",
    "fatal_nona.update(five_imputed)"
   ]
  },
  {
   "cell_type": "code",
   "execution_count": 122,
   "metadata": {},
   "outputs": [],
   "source": [
    "# Update changed value type to float; changing back to integer\n",
    "fatal_nona['injsev'] = fatal_nona['injsev'].astype('int')"
   ]
  },
  {
   "cell_type": "markdown",
   "metadata": {},
   "source": [
    "## Modeling"
   ]
  },
  {
   "cell_type": "code",
   "execution_count": 123,
   "metadata": {},
   "outputs": [],
   "source": [
    "# Reducing the categorical \"injsev\" grouping to 3 categories\n",
    "# (0, 1, 2) --> 0 (unsevere)\n",
    "# (3) --> 1 (severe)\n",
    "# (4,6) --> 2 (death)\n",
    "\n",
    "fatal_nona.loc[fatal_nona['injsev'].isin([0, 1, 2]), 'injsev'] = int(0)"
   ]
  },
  {
   "cell_type": "code",
   "execution_count": 124,
   "metadata": {},
   "outputs": [],
   "source": [
    "fatal_nona.loc[fatal_nona['injsev'].isin([3]), 'injsev'] = int(1)"
   ]
  },
  {
   "cell_type": "code",
   "execution_count": 125,
   "metadata": {},
   "outputs": [],
   "source": [
    "fatal_nona.loc[fatal_nona['injsev'].isin([4, 6]), 'injsev'] = int(2)"
   ]
  },
  {
   "cell_type": "code",
   "execution_count": 126,
   "metadata": {},
   "outputs": [
    {
     "data": {
      "text/plain": [
       "Index(['dof1', 'gad1', 'year', 'bodytype', 'dvest', 'dvbasis', 'dvtotal',\n",
       "       'make', 'modelyr', 'age', 'bagdeply', 'bagfail', 'chtype', 'height',\n",
       "       'injsev', 'manfail', 'manuse', 'role', 'seatpos', 'sex', 'weight',\n",
       "       'gad1_B', 'gad1_F', 'gad1_L', 'gad1_R', 'gad1_T', 'gad1_U'],\n",
       "      dtype='object')"
      ]
     },
     "execution_count": 126,
     "metadata": {},
     "output_type": "execute_result"
    }
   ],
   "source": [
    "fatal_nona.columns"
   ]
  },
  {
   "cell_type": "code",
   "execution_count": 127,
   "metadata": {},
   "outputs": [],
   "source": [
    "y = fatal_nona['injsev']\n",
    "X = fatal_nona.copy().drop(['injsev','gad1'], axis=1)"
   ]
  },
  {
   "cell_type": "code",
   "execution_count": 128,
   "metadata": {},
   "outputs": [],
   "source": [
    "# creating the test train split for multiclass modeling\n",
    "X_train, X_test, y_train, y_test = train_test_split(X, y, \n",
    "                                                    test_size=0.20, random_state=42, \n",
    "                                                    stratify=fatal_nona['injsev'])"
   ]
  },
  {
   "cell_type": "code",
   "execution_count": 129,
   "metadata": {},
   "outputs": [
    {
     "name": "stdout",
     "output_type": "stream",
     "text": [
      "(855896, 25) (855896,) (213975, 25) (213975,)\n"
     ]
    }
   ],
   "source": [
    "print(X_train.shape, y_train.shape, X_test.shape, y_test.shape)"
   ]
  },
  {
   "cell_type": "code",
   "execution_count": 130,
   "metadata": {},
   "outputs": [],
   "source": [
    "# Standardizing the train and test data\n",
    "ss = StandardScaler()\n",
    "X_train_ss = ss.fit_transform(X_train)\n",
    "X_test_ss = ss.fit_transform(X_test)"
   ]
  },
  {
   "cell_type": "code",
   "execution_count": 131,
   "metadata": {},
   "outputs": [
    {
     "name": "stdout",
     "output_type": "stream",
     "text": [
      "Decision Tree Score:\t0.965 ± 0.001\n"
     ]
    }
   ],
   "source": [
    "dt = DecisionTreeClassifier(min_samples_leaf=10)\n",
    "s = cross_val_score(dt, X_train_ss, y_train, cv=5, n_jobs=2)\n",
    "print(\"{} Score:\\t{:0.3} ± {:0.3}\".format(\"Decision Tree\", s.mean().round(3), s.std().round(3)))"
   ]
  },
  {
   "cell_type": "code",
   "execution_count": 132,
   "metadata": {},
   "outputs": [
    {
     "data": {
      "text/plain": [
       "DecisionTreeClassifier(class_weight=None, criterion='gini', max_depth=None,\n",
       "            max_features=None, max_leaf_nodes=None,\n",
       "            min_impurity_decrease=0.0, min_impurity_split=None,\n",
       "            min_samples_leaf=10, min_samples_split=2,\n",
       "            min_weight_fraction_leaf=0.0, presort=False, random_state=None,\n",
       "            splitter='best')"
      ]
     },
     "execution_count": 132,
     "metadata": {},
     "output_type": "execute_result"
    }
   ],
   "source": [
    "dt.fit(X_train_ss, y_train)"
   ]
  },
  {
   "cell_type": "code",
   "execution_count": 133,
   "metadata": {},
   "outputs": [],
   "source": [
    "feature_import = pd.concat([pd.Series(X_train.columns),\n",
    "                            pd.Series(dt.feature_importances_.tolist())],\n",
    "                           axis=1).sort_values(1,ascending=False)\n",
    "feature_import.reset_index(level=0, drop=True, inplace=True)\n",
    "feature_import.columns = ['feature','importance']"
   ]
  },
  {
   "cell_type": "code",
   "execution_count": 134,
   "metadata": {},
   "outputs": [],
   "source": [
    "feature_import.set_index('feature', inplace=True)"
   ]
  },
  {
   "cell_type": "code",
   "execution_count": 135,
   "metadata": {
    "scrolled": false
   },
   "outputs": [
    {
     "data": {
      "text/plain": [
       "Text(0.5,0,'Features')"
      ]
     },
     "execution_count": 135,
     "metadata": {},
     "output_type": "execute_result"
    },
    {
     "data": {
      "text/plain": [
       "<matplotlib.figure.Figure at 0x13076d400>"
      ]
     },
     "metadata": {},
     "output_type": "display_data"
    },
    {
     "data": {
      "image/png": "[encoded data removed]",
      "text/plain": [
       "<matplotlib.figure.Figure at 0x125dadc50>"
      ]
     },
     "metadata": {},
     "output_type": "display_data"
    }
   ],
   "source": [
    "# Plotting the feature importances\n",
    "plt.figure(figsize=(20,13))\n",
    "feature_import.plot(kind='bar', \n",
    "                    fontsize=15, figsize=(18,8))\n",
    "plt.legend(fontsize=15)\n",
    "plt.title('Feature Importance', fontsize=20)\n",
    "plt.xlabel('Features', fontsize=17)"
   ]
  },
  {
   "cell_type": "code",
   "execution_count": 136,
   "metadata": {},
   "outputs": [
    {
     "name": "stdout",
     "output_type": "stream",
     "text": [
      "[[155648   2088    223]\n",
      " [  2604  47036    193]\n",
      " [   263    183   5737]]\n"
     ]
    }
   ],
   "source": [
    "print(confusion_matrix(y_test, dt.predict(X_test_ss)))"
   ]
  },
  {
   "cell_type": "code",
   "execution_count": 137,
   "metadata": {},
   "outputs": [
    {
     "data": {
      "text/html": [
       "<div>\n",
       "<style scoped>\n",
       "    .dataframe tbody tr th:only-of-type {\n",
       "        vertical-align: middle;\n",
       "    }\n",
       "\n",
       "    .dataframe tbody tr th {\n",
       "        vertical-align: top;\n",
       "    }\n",
       "\n",
       "    .dataframe thead th {\n",
       "        text-align: right;\n",
       "    }\n",
       "</style>\n",
       "<table border=\"1\" class=\"dataframe\">\n",
       "  <thead>\n",
       "    <tr style=\"text-align: right;\">\n",
       "      <th></th>\n",
       "      <th>Unsevere</th>\n",
       "      <th>Severe</th>\n",
       "      <th>Fatal</th>\n",
       "    </tr>\n",
       "    <tr>\n",
       "      <th>injsev</th>\n",
       "      <th></th>\n",
       "      <th></th>\n",
       "      <th></th>\n",
       "    </tr>\n",
       "  </thead>\n",
       "  <tbody>\n",
       "    <tr>\n",
       "      <th>0</th>\n",
       "      <td>155648</td>\n",
       "      <td>2088</td>\n",
       "      <td>223</td>\n",
       "    </tr>\n",
       "    <tr>\n",
       "      <th>1</th>\n",
       "      <td>2604</td>\n",
       "      <td>47036</td>\n",
       "      <td>193</td>\n",
       "    </tr>\n",
       "    <tr>\n",
       "      <th>2</th>\n",
       "      <td>263</td>\n",
       "      <td>183</td>\n",
       "      <td>5737</td>\n",
       "    </tr>\n",
       "  </tbody>\n",
       "</table>\n",
       "</div>"
      ],
      "text/plain": [
       "        Unsevere  Severe  Fatal\n",
       "injsev                         \n",
       "0         155648    2088    223\n",
       "1           2604   47036    193\n",
       "2            263     183   5737"
      ]
     },
     "execution_count": 137,
     "metadata": {},
     "output_type": "execute_result"
    }
   ],
   "source": [
    "# Setting up y_true and y_pred variable to compose the confusion matrix\n",
    "y_true = y_test.copy()\n",
    "y_pred = dt.predict(X_test_ss)\n",
    "\n",
    "confusion = pd.crosstab(y_true, y_pred)\n",
    "confusion.columns = ['Unsevere','Severe','Fatal']\n",
    "confusion"
   ]
  },
  {
   "cell_type": "code",
   "execution_count": 138,
   "metadata": {},
   "outputs": [
    {
     "name": "stdout",
     "output_type": "stream",
     "text": [
      "Fatal Recall is: \t0.9216098270567319\n"
     ]
    }
   ],
   "source": [
    "# Recall (Sensitivity) = TP / (TP + sum(FN))\n",
    "print('Fatal Recall is: \\t{}'.format(5702/(5702 + 197 + 288)))"
   ]
  },
  {
   "cell_type": "code",
   "execution_count": 139,
   "metadata": {},
   "outputs": [
    {
     "name": "stdout",
     "output_type": "stream",
     "text": [
      "Fatal Precision is: \t0.9350606756313545\n"
     ]
    }
   ],
   "source": [
    "# Precision (Sensitivity) = TP / (TP + sum(FP))\n",
    "print('Fatal Precision is: \\t{}'.format(5702/(5702 + 159 + 237)))"
   ]
  },
  {
   "cell_type": "code",
   "execution_count": 140,
   "metadata": {},
   "outputs": [
    {
     "name": "stdout",
     "output_type": "stream",
     "text": [
      "             precision    recall  f1-score   support\n",
      "\n",
      "          0       0.98      0.99      0.98    157959\n",
      "          1       0.95      0.94      0.95     49833\n",
      "          2       0.93      0.93      0.93      6183\n",
      "\n",
      "avg / total       0.97      0.97      0.97    213975\n",
      "\n"
     ]
    }
   ],
   "source": [
    "print(classification_report(y_test, y_pred))"
   ]
  },
  {
   "cell_type": "code",
   "execution_count": 141,
   "metadata": {},
   "outputs": [
    {
     "data": {
      "image/png": "[encoded data removed]",
      "text/plain": [
       "<matplotlib.figure.Figure at 0x121d48ac8>"
      ]
     },
     "metadata": {},
     "output_type": "display_data"
    }
   ],
   "source": [
    "sns.lmplot('age', 'weight',fatal_nona, hue='injsev', fit_reg=False )\n",
    "plt.xlabel('Age [yrs]', fontsize=15)\n",
    "plt.ylabel('Weight [kg]', fontsize=15)\n",
    "plt.title('Injury Severity by Age & Weight', fontsize=18)\n",
    "plt.xticks(fontsize=12)\n",
    "plt.yticks(fontsize=12)\n",
    "plt.show()"
   ]
  },
  {
   "cell_type": "code",
   "execution_count": 142,
   "metadata": {},
   "outputs": [
    {
     "data": {
      "image/png": "[encoded data removed]",
      "text/plain": [
       "<matplotlib.figure.Figure at 0x12679dd68>"
      ]
     },
     "metadata": {},
     "output_type": "display_data"
    }
   ],
   "source": [
    "sns.lmplot('age', 'weight',fatal_nona[fatal_nona['age']<=24], hue='injsev', fit_reg=False )\n",
    "plt.xlabel('Age [yrs]', fontsize=15)\n",
    "plt.ylabel('Weight [kg]', fontsize=15)\n",
    "plt.title('Injury Severity by Age & Weight', fontsize=18)\n",
    "plt.xticks(fontsize=12)\n",
    "plt.yticks(fontsize=12)\n",
    "plt.show()\n"
   ]
  },
  {
   "cell_type": "code",
   "execution_count": 143,
   "metadata": {},
   "outputs": [
    {
     "data": {
      "image/png": "[encoded data removed]",
      "text/plain": [
       "<matplotlib.figure.Figure at 0x121d4c080>"
      ]
     },
     "metadata": {},
     "output_type": "display_data"
    }
   ],
   "source": [
    "sns.lmplot('age','weight' ,fatal_nona, hue='injsev', fit_reg=False )\n",
    "# plt.ylabel('Delta Velocity [kmph]', fontsize=15)\n",
    "# plt.xlabel('Weight [kg]', fontsize=15)\n",
    "# plt.title('Injury Severity by Weight & Height', fontsize=18)\n",
    "plt.xticks(fontsize=12)\n",
    "plt.yticks(fontsize=12)\n",
    "plt.show()"
   ]
  },
  {
   "cell_type": "markdown",
   "metadata": {},
   "source": [
    "## Modeling II\n",
    "- Need to OneHotEncode or pd.get_dummies on the categorical columns"
   ]
  },
  {
   "cell_type": "code",
   "execution_count": 166,
   "metadata": {},
   "outputs": [],
   "source": [
    "encode_columns = ['year', 'bodytype','dvbasis','make','modelyr',\n",
    "                   'bagdeply', 'bagfail', 'chtype','manfail','manuse', \n",
    "                   'role', 'seatpos', 'sex']\n",
    "\n",
    "continuous_columns = ['dof1','dvest','dvtotal','age','height','weight',\n",
    "                     'gad1_B', 'gad1_F','gad1_L', 'gad1_R', 'gad1_T', 'gad1_U']"
   ]
  },
  {
   "cell_type": "code",
   "execution_count": 155,
   "metadata": {},
   "outputs": [],
   "source": [
    "# Converting the features to encode with pd.get_dummies into a string\n",
    "X_dummie_coumns = fatal_nona[encode_columns].astype('str')"
   ]
  },
  {
   "cell_type": "code",
   "execution_count": 159,
   "metadata": {},
   "outputs": [],
   "source": [
    "# Joining the the get dummies columns witht the DataFrame before createing Test/Train split\n",
    "fatal_nona_two = pd.concat([fatal_nona,pd.get_dummies(X_dummie_coumns)], axis=1)"
   ]
  },
  {
   "cell_type": "code",
   "execution_count": 185,
   "metadata": {},
   "outputs": [],
   "source": [
    "# X features dropping the target and all features that get dummies were performed on\n",
    "y = fatal_nona_two['injsev']\n",
    "X = fatal_nona_two.copy().drop(['year', 'bodytype','dvbasis','make','modelyr',\n",
    "                   'bagdeply', 'bagfail', 'chtype','manfail','manuse', \n",
    "                   'role', 'seatpos', 'sex','injsev','gad1'], axis=1)"
   ]
  },
  {
   "cell_type": "code",
   "execution_count": 186,
   "metadata": {},
   "outputs": [],
   "source": [
    "# creating the test train split for multiclass modeling\n",
    "X_train, X_test, y_train, y_test = train_test_split(X, y, \n",
    "                                                    test_size=0.20, random_state=42, \n",
    "                                                    stratify=fatal_nona['injsev'])"
   ]
  },
  {
   "cell_type": "code",
   "execution_count": 189,
   "metadata": {},
   "outputs": [
    {
     "name": "stdout",
     "output_type": "stream",
     "text": [
      "Decision Tree Score:\t0.963 ± 0.001\n"
     ]
    }
   ],
   "source": [
    "dt = DecisionTreeClassifier(min_samples_leaf=10)\n",
    "s = cross_val_score(dt, X_train, y_train, cv=5, n_jobs=2)\n",
    "print(\"{} Score:\\t{:0.3} ± {:0.3}\".format(\"Decision Tree\", s.mean().round(3), s.std().round(3)))"
   ]
  },
  {
   "cell_type": "code",
   "execution_count": 190,
   "metadata": {},
   "outputs": [
    {
     "data": {
      "text/plain": [
       "DecisionTreeClassifier(class_weight=None, criterion='gini', max_depth=None,\n",
       "            max_features=None, max_leaf_nodes=None,\n",
       "            min_impurity_decrease=0.0, min_impurity_split=None,\n",
       "            min_samples_leaf=10, min_samples_split=2,\n",
       "            min_weight_fraction_leaf=0.0, presort=False, random_state=None,\n",
       "            splitter='best')"
      ]
     },
     "execution_count": 190,
     "metadata": {},
     "output_type": "execute_result"
    }
   ],
   "source": [
    "dt.fit(X_train, y_train)"
   ]
  },
  {
   "cell_type": "code",
   "execution_count": 191,
   "metadata": {},
   "outputs": [],
   "source": [
    "feature_import = pd.concat([pd.Series(X_train.columns),\n",
    "                            pd.Series(dt.feature_importances_.tolist())],\n",
    "                           axis=1).sort_values(1,ascending=False)\n",
    "feature_import.reset_index(level=0, drop=True, inplace=True)\n",
    "feature_import.columns = ['feature','importance']"
   ]
  },
  {
   "cell_type": "code",
   "execution_count": 192,
   "metadata": {},
   "outputs": [],
   "source": [
    "feature_import.set_index('feature', inplace=True)"
   ]
  },
  {
   "cell_type": "code",
   "execution_count": 200,
   "metadata": {},
   "outputs": [
    {
     "data": {
      "text/plain": [
       "Text(0.5,0,'Features')"
      ]
     },
     "execution_count": 200,
     "metadata": {},
     "output_type": "execute_result"
    },
    {
     "data": {
      "text/plain": [
       "<matplotlib.figure.Figure at 0x1223f9978>"
      ]
     },
     "metadata": {},
     "output_type": "display_data"
    },
    {
     "data": {
      "image/png": "[encoded data removed]",
      "text/plain": [
       "<matplotlib.figure.Figure at 0x709363e48>"
      ]
     },
     "metadata": {},
     "output_type": "display_data"
    }
   ],
   "source": [
    "# Plotting the feature importances\n",
    "plt.figure(figsize=(20,13))\n",
    "feature_import.iloc[:15].plot(kind='bar', \n",
    "                    fontsize=15, figsize=(18,8))\n",
    "plt.legend(fontsize=15)\n",
    "plt.title('Feature Importance', fontsize=20)\n",
    "plt.xlabel('Features', fontsize=17)"
   ]
  },
  {
   "cell_type": "code",
   "execution_count": 201,
   "metadata": {},
   "outputs": [
    {
     "data": {
      "text/html": [
       "<div>\n",
       "<style scoped>\n",
       "    .dataframe tbody tr th:only-of-type {\n",
       "        vertical-align: middle;\n",
       "    }\n",
       "\n",
       "    .dataframe tbody tr th {\n",
       "        vertical-align: top;\n",
       "    }\n",
       "\n",
       "    .dataframe thead th {\n",
       "        text-align: right;\n",
       "    }\n",
       "</style>\n",
       "<table border=\"1\" class=\"dataframe\">\n",
       "  <thead>\n",
       "    <tr style=\"text-align: right;\">\n",
       "      <th></th>\n",
       "      <th>Unsevere</th>\n",
       "      <th>Severe</th>\n",
       "      <th>Fatal</th>\n",
       "    </tr>\n",
       "    <tr>\n",
       "      <th>injsev</th>\n",
       "      <th></th>\n",
       "      <th></th>\n",
       "      <th></th>\n",
       "    </tr>\n",
       "  </thead>\n",
       "  <tbody>\n",
       "    <tr>\n",
       "      <th>0</th>\n",
       "      <td>155487</td>\n",
       "      <td>2235</td>\n",
       "      <td>237</td>\n",
       "    </tr>\n",
       "    <tr>\n",
       "      <th>1</th>\n",
       "      <td>2978</td>\n",
       "      <td>46694</td>\n",
       "      <td>161</td>\n",
       "    </tr>\n",
       "    <tr>\n",
       "      <th>2</th>\n",
       "      <td>261</td>\n",
       "      <td>192</td>\n",
       "      <td>5730</td>\n",
       "    </tr>\n",
       "  </tbody>\n",
       "</table>\n",
       "</div>"
      ],
      "text/plain": [
       "        Unsevere  Severe  Fatal\n",
       "injsev                         \n",
       "0         155487    2235    237\n",
       "1           2978   46694    161\n",
       "2            261     192   5730"
      ]
     },
     "execution_count": 201,
     "metadata": {},
     "output_type": "execute_result"
    }
   ],
   "source": [
    "# Setting up y_true and y_pred variable to compose the confusion matrix\n",
    "y_true = y_test.copy()\n",
    "y_pred = dt.predict(X_test)\n",
    "\n",
    "confusion = pd.crosstab(y_true, y_pred)\n",
    "confusion.columns = ['Unsevere','Severe','Fatal']\n",
    "confusion"
   ]
  },
  {
   "cell_type": "code",
   "execution_count": 202,
   "metadata": {},
   "outputs": [
    {
     "name": "stdout",
     "output_type": "stream",
     "text": [
      "             precision    recall  f1-score   support\n",
      "\n",
      "          0       0.98      0.98      0.98    157959\n",
      "          1       0.95      0.94      0.94     49833\n",
      "          2       0.94      0.93      0.93      6183\n",
      "\n",
      "avg / total       0.97      0.97      0.97    213975\n",
      "\n"
     ]
    }
   ],
   "source": [
    "print(classification_report(y_test, y_pred))"
   ]
  },
  {
   "cell_type": "markdown",
   "metadata": {},
   "source": [
    "## Modeling III"
   ]
  },
  {
   "cell_type": "code",
   "execution_count": 228,
   "metadata": {},
   "outputs": [],
   "source": [
    "# X features dropping the target and all features that get dummies were performed on\n",
    "y = fatal_nona_two['injsev']\n",
    "X = fatal_nona_two.copy().drop(['year', 'bodytype','dvbasis','make','modelyr',\n",
    "                   'bagdeply', 'bagfail', 'chtype','manfail','manuse', \n",
    "                   'role', 'seatpos', 'sex','injsev','gad1'], axis=1)"
   ]
  },
  {
   "cell_type": "code",
   "execution_count": 233,
   "metadata": {},
   "outputs": [],
   "source": [
    "# Binarize the output\n",
    "y = label_binarize(y, classes=[0, 1, 2]) # 3 class output\n",
    "n_classes = y.shape[1] # shape = (1069871, 3)\n",
    "\n",
    "# creating the test train split for multiclass modeling\n",
    "X_train, X_test, y_train, y_test = train_test_split(X, y, \n",
    "                                                    test_size=0.20, random_state=42, \n",
    "                                                    stratify=fatal_nona['injsev'])\n",
    "\n",
    "classifier = OneVsRestClassifier(dt.fit(X_train, y_train))\n",
    "y_score = classifier.fit(X_train, y_train).predict(X_test)"
   ]
  },
  {
   "cell_type": "code",
   "execution_count": 243,
   "metadata": {},
   "outputs": [],
   "source": [
    "# Compute ROC curve and ROC area for each class\n",
    "fpr = {}  # false-positive rate\n",
    "tpr = {}  # true-positive rate\n",
    "roc_auc = {}\n",
    "for i in range(n_classes):\n",
    "    fpr[i], tpr[i], _ = roc_curve(y_test[:, i], y_score[:, i])\n",
    "    roc_auc[i] = auc(fpr[i], tpr[i])"
   ]
  },
  {
   "cell_type": "code",
   "execution_count": 262,
   "metadata": {},
   "outputs": [
    {
     "data": {
      "image/png": "[encoded data removed]",
      "text/plain": [
       "<matplotlib.figure.Figure at 0x12b616748>"
      ]
     },
     "metadata": {},
     "output_type": "display_data"
    }
   ],
   "source": [
    "# colors = cycle(['aqua', 'darkorange', 'cornflowerblue'])\n",
    "# for i, color in zip(range(n_classes), colors):\n",
    "plt.figure(figsize=(20,10))\n",
    "for i in range(n_classes):\n",
    "    plt.plot(fpr[i], tpr[i],\n",
    "             label='ROC curve of class {0} (area = {1:0.2f})'\n",
    "             ''.format(i, roc_auc[i]))\n",
    "\n",
    "plt.plot([0, 1], [0, 1], 'k--')\n",
    "plt.xlim([0.0, 1.0])\n",
    "plt.xticks(fontsize=14)\n",
    "plt.yticks(fontsize=14)\n",
    "plt.ylim([0.0, 1.05])\n",
    "plt.xlabel('False Positive Rate', fontsize=15)\n",
    "plt.ylabel('True Positive Rate', fontsize=15)\n",
    "plt.title('ROC AUC \\n(0 = Unsevere, 1 = Severe, 2 = Fatal)', fontsize=20)\n",
    "plt.legend(loc=\"lower right\", fontsize=18)\n",
    "plt.show()"
   ]
  },
  {
   "cell_type": "code",
   "execution_count": 259,
   "metadata": {},
   "outputs": [
    {
     "name": "stdout",
     "output_type": "stream",
     "text": [
      "             precision    recall  f1-score   support\n",
      "\n",
      "          0       0.98      0.98      0.98    157959\n",
      "          1       0.95      0.94      0.94     49833\n",
      "          2       0.94      0.92      0.93      6183\n",
      "\n",
      "avg / total       0.97      0.97      0.97    213975\n",
      "\n"
     ]
    }
   ],
   "source": [
    "# Classification Report\n",
    "y_true = y_test.copy()\n",
    "y_pred = dt.predict(X_test)\n",
    "print(classification_report(y_test, y_pred))"
   ]
  },
  {
   "cell_type": "code",
   "execution_count": 264,
   "metadata": {},
   "outputs": [
    {
     "data": {
      "text/plain": [
       "Text(0.5,0,'Features')"
      ]
     },
     "execution_count": 264,
     "metadata": {},
     "output_type": "execute_result"
    },
    {
     "data": {
      "text/plain": [
       "<matplotlib.figure.Figure at 0x122cc4ef0>"
      ]
     },
     "metadata": {},
     "output_type": "display_data"
    },
    {
     "data": {
      "image/png": "[encoded data removed]",
      "text/plain": [
       "<matplotlib.figure.Figure at 0x1223efbe0>"
      ]
     },
     "metadata": {},
     "output_type": "display_data"
    }
   ],
   "source": [
    "feature_import = pd.concat([pd.Series(X_train.columns),\n",
    "                            pd.Series(dt.feature_importances_.tolist())],\n",
    "                           axis=1).sort_values(1,ascending=False)\n",
    "feature_import.reset_index(level=0, drop=True, inplace=True)\n",
    "feature_import.columns = ['feature','importance']\n",
    "\n",
    "feature_import.set_index('feature', inplace=True)\n",
    "\n",
    "# Plotting the feature importances\n",
    "plt.figure(figsize=(20,13))\n",
    "feature_import.iloc[:15].plot(kind='bar', \n",
    "                    fontsize=15, figsize=(18,8))\n",
    "plt.legend(fontsize=15)\n",
    "plt.title('Feature Importance', fontsize=20)\n",
    "plt.xlabel('Features', fontsize=17)"
   ]
  },
  {
   "cell_type": "code",
   "execution_count": null,
   "metadata": {},
   "outputs": [],
   "source": []
  },
  {
   "cell_type": "code",
   "execution_count": null,
   "metadata": {},
   "outputs": [],
   "source": []
  },
  {
   "cell_type": "code",
   "execution_count": null,
   "metadata": {},
   "outputs": [],
   "source": []
  },
  {
   "cell_type": "code",
   "execution_count": null,
   "metadata": {},
   "outputs": [],
   "source": []
  },
  {
   "cell_type": "code",
   "execution_count": null,
   "metadata": {},
   "outputs": [],
   "source": []
  },
  {
   "cell_type": "code",
   "execution_count": null,
   "metadata": {},
   "outputs": [],
   "source": []
  },
  {
   "cell_type": "code",
   "execution_count": null,
   "metadata": {
    "collapsed": true
   },
   "outputs": [],
   "source": [
    "\n",
    "def build_tree_models(x, y, tree_depth_range=range(1,11), min_leaf):\n",
    "    tree_model_ypreds = {}\n",
    "    \n",
    "    for i in tree_depth_range:\n",
    "        model = DecisionTreeRegressor(max_depth=i, min_samples_leaf=min_leaf)\n",
    "        model.fit(x[:, np.newaxis], y)\n",
    "        tree_model_ypreds[i] = model.predict(x[:, np.newaxis])\n",
    "        \n",
    "    return tree_model_ypreds"
   ]
  },
  {
   "cell_type": "code",
   "execution_count": null,
   "metadata": {
    "collapsed": true
   },
   "outputs": [],
   "source": [
    "def mph(kmph):\n",
    "    '''\n",
    "    Function to convert kmph to mph.  \n",
    "    Enter the speed in kmph and the function converts it to mph.\n",
    "    - default set to 0.0001\n",
    "    '''\n",
    "    return round(0.621371*kmph)"
   ]
  },
  {
   "cell_type": "code",
   "execution_count": null,
   "metadata": {
    "collapsed": true
   },
   "outputs": [],
   "source": [
    "plt.figure(figsize=(20,13))\n",
    "mask = np.zeros_like(X_train.corr()[X_train.corr()>0.20])\n",
    "mask[np.triu_indices_from(mask)] = True\n",
    "with sns.axes_style(\"white\"):\n",
    "    ax = sns.heatmap(X_train.corr()[X_train.corr()>0.20], mask=mask, vmax=.3, annot=True, square=True)\n",
    "\n",
    "plt.xticks(fontsize = 12)\n",
    "plt.yticks(fontsize = 12)\n",
    "plt.title('Features Correlations', fontsize = 25)\n",
    "plt.show()\n"
   ]
  },
  {
   "cell_type": "code",
   "execution_count": null,
   "metadata": {
    "collapsed": true
   },
   "outputs": [],
   "source": []
  },
  {
   "cell_type": "code",
   "execution_count": null,
   "metadata": {
    "collapsed": true
   },
   "outputs": [],
   "source": []
  }
 ],
 "metadata": {
  "kernelspec": {
   "display_name": "Python 3",
   "language": "python",
   "name": "python3"
  },
  "language_info": {
   "codemirror_mode": {
    "name": "ipython",
    "version": 3
   },
   "file_extension": ".py",
   "mimetype": "text/x-python",
   "name": "python",
   "nbconvert_exporter": "python",
   "pygments_lexer": "ipython3",
   "version": "3.6.4"
  }
 },
 "nbformat": 4,
 "nbformat_minor": 2
}

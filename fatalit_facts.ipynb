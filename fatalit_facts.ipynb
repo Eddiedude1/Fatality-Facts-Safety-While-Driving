{
 "cells": [
  {
   "cell_type": "code",
   "execution_count": 128,
   "metadata": {
    "collapsed": true
   },
   "outputs": [],
   "source": [
    "import sqlite3 as sql\n",
    "import pandas as pd\n",
    "import numpy as np\n",
    "from IPython.display import Image\n",
    "from sklearn.preprocessing import OneHotEncoder, StandardScaler\n",
    "from sklearn.model_selection import train_test_split, cross_val_score\n",
    "from sklearn.linear_model import LogisticRegression\n",
    "from sklearn.neighbors import KNeighborsClassifier\n",
    "from sklearn.tree import DecisionTreeClassifier\n",
    "from sklearn.metrics import confusion_matrix\n",
    "\n",
    "import seaborn as sns\n",
    "import matplotlib.pyplot as plt \n",
    "\n",
    "%matplotlib inline\n"
   ]
  },
  {
   "cell_type": "code",
   "execution_count": 129,
   "metadata": {},
   "outputs": [
    {
     "name": "stderr",
     "output_type": "stream",
     "text": [
      "/Users/guillermogonzalez/anaconda3/lib/python3.6/site-packages/IPython/core/interactiveshell.py:2698: DtypeWarning: Columns (3) have mixed types. Specify dtype option on import or set low_memory=False.\n",
      "  interactivity=interactivity, compiler=compiler, result=result)\n"
     ]
    }
   ],
   "source": [
    "df = pd.read_csv('./database.sqlite')"
   ]
  },
  {
   "cell_type": "markdown",
   "metadata": {},
   "source": [
    "- CASEID - case number\n",
    "- DOF1 - direction of force (highest)\n",
    "- GAD1 - deformation location (highest)\n",
    "- PSU - primary sampling unit number\n",
    "- YEAR - calender year of crash\n",
    "- STRATIF - case stratum\n",
    "- BODYTYPE - vehicle body type\n",
    "- DVEST - estimated highest delta V\n",
    "- DVBASIS - basis for total deltav V (highest)\n",
    "- DVTOTAL - total delta V\n",
    "- MAKE - vehicle make\n",
    "- MODELYR - vehicle model year\n",
    "- AGE - age of occupant\n",
    "- BAGAVAIL - air bag system availability\n",
    "- BAGDEPLY - air bag system deployed\n",
    "- BAGFAIL - air bag system failure\n",
    "- CASENO - case sequence number\n",
    "- CHTYPE - type of child safety seat\n",
    "- DEATH - time of death\n",
    "- HEIGHT - height of occupent\n",
    "- HOPSTAY - hospital stay\n",
    "- INJSEV - injury severity (police rating)\n",
    "- MANAVAIL -\n",
    "- MANFAIL - \n",
    "- MANUSE - manual belt system use \n",
    "- OCCNO - occupant number\n",
    "- ROLE - occupant's role\n",
    "- SEATPOS - occupant's seat position\n",
    "- SEX - occupant's sex\n",
    "- TREATMENT - treatment - mortality\n",
    "- WEIGHT - occupant's weight"
   ]
  },
  {
   "cell_type": "code",
   "execution_count": 130,
   "metadata": {
    "collapsed": true
   },
   "outputs": [],
   "source": [
    "fatal = df.copy()"
   ]
  },
  {
   "cell_type": "code",
   "execution_count": 131,
   "metadata": {
    "scrolled": true
   },
   "outputs": [
    {
     "data": {
      "text/plain": [
       "Index(['Unnamed: 0', 'CASEID', 'DOF1', 'GAD1', 'PSU', 'YEAR', 'STRATIF',\n",
       "       'BODYTYPE', 'DVEST', 'DVBASIS', 'DVTOTAL', 'MAKE', 'MODELYR', 'AGE',\n",
       "       'BAGAVAIL', 'BAGDEPLY', 'BAGFAIL', 'CASENO', 'CHTYPE', 'DEATH',\n",
       "       'HEIGHT', 'HOSPSTAY', 'INJSEV', 'MANAVAIL', 'MANFAIL', 'MANUSE',\n",
       "       'OCCNO', 'ROLE', 'SEATPOS', 'SEX', 'TREATMNT', 'WEIGHT'],\n",
       "      dtype='object')"
      ]
     },
     "execution_count": 131,
     "metadata": {},
     "output_type": "execute_result"
    }
   ],
   "source": [
    "fatal.columns"
   ]
  },
  {
   "cell_type": "code",
   "execution_count": 132,
   "metadata": {
    "collapsed": true
   },
   "outputs": [],
   "source": [
    "# changing all columns to lower case\n",
    "columns = fatal.columns\n",
    "columns_lower = []\n",
    "for col in columns:\n",
    "    columns_lower.append(col.lower())\n",
    "fatal.columns = columns_lower"
   ]
  },
  {
   "cell_type": "code",
   "execution_count": 133,
   "metadata": {
    "collapsed": true
   },
   "outputs": [],
   "source": [
    "## removed unnamed: 0 column since it matched the index\n",
    "fatal.drop(labels='unnamed: 0',axis=1,inplace=True)"
   ]
  },
  {
   "cell_type": "code",
   "execution_count": 134,
   "metadata": {
    "collapsed": true
   },
   "outputs": [],
   "source": [
    "# dictionay of categorie ID's (named how they will appear when get dummies is applied)\n",
    "dvest = {'dvest_0':'reconstructed_dv','dvest_1':'dv<10kmph','dvest_2':'10 >= dv < 25kmph','dvest_3':'25 >= dv < 40kmph',\n",
    "         'divest_4':'40 >= dv <55kmph','divest_5':'dv >= 55kmph','divest_6':'minor damage','divest_7':'moderat damage',\n",
    "         'divest_8':'severe damage'}\n",
    "\n",
    "dvbasis = {'dvbasis_0':'not_ispctd','dvbasis_1':'S_dmg_only','dvbasis_2':'S_dmg_&_trjctry','dvbasis_3':'S_missing_vhcl', \n",
    "           'dvbasis_4':'S_dmg_cdc_only', 'dvbasis_5':'one_vhcle_byond_S_scope','dvbasis_6':'rollover',\n",
    "           'dvbasis_7':'non_hrzntl_forces','dvbasis_8':'sideswipe_dmg','dvbasis_9':'severe_override',\n",
    "          'dvbasis_10':'ylding_objct','dvbasis_11':'overlapping_dmg','dvbasis_12':'insuf_data',\n",
    "           'dvbasis_98':'other','dvbasis_99':'unknown'}\n",
    "\n",
    "gad1 = {'gad1_F':'front','gad1_L':'left','gad_R':'right','gad1_B':'back','gad1_uk':'unkown','gad1_T':'top',\n",
    "        'gad1_U':'undercarriage'}\n",
    "\n",
    "\n",
    "bagavail = {'bagavail_1':'no','bagavail_2':'yes','bagavail_3':'unknown'}\n",
    "# stratif = {'stratif_k':'fatality','stratif_F':'injry_no_tow_hsptl',\n",
    "#           'stratif_E':'injry_tow','stratif_C':'two_tow_no_hsptl','stratif_D':}\n",
    "# air bad deployed \n",
    "bagdeply = {'bagdeply_0':'no_bag', 'bagdeply_1':'impct_deply','bagdeply_3':'deply_ukdetls',\n",
    "            'bagdeply_5':'uk_deply','bagdeply_7':'no_deply'}\n",
    "\n",
    "# air bag failure\n",
    "bagfail = {'bagfail_0':'no_bag','bagfail_1':'no','bagfail_2':'yes'}\n",
    "\n",
    "# child seat type\n",
    "chtype = {'chtype chtype _0':'none','chtype_1':'conv_seat','chtype_2':'frwd_face','chtype_3':'infnt_seat',\n",
    "          'chtype_4':'boost_seat','chtype_7':'vest','chtype_8':'harness'}\n",
    "\n",
    "# Injury severity\n",
    "injsev = {'injsev_0':'no_inj','injsev_1':'pssbl_inj','injsev_2':'n_incptng_inj','injsev_3':'incptng_inj',\n",
    "          'injsev_4':'killed','injsev_5':'inj_sev_uk','injsev_6':'die_b4_crsh'}\n",
    "\n",
    "# Drop mannavail since it's same data as manuse\n",
    "# Manual seatbelt used\n",
    "manuse = {'manuse_0':'none','manuse_1':'inoperative','manuse_2':'shldr_b','manuse_3':'lap_b',\n",
    "          'manuse_4':'laphshldr_b','manuse_5':'b_avail_uk','manuse_8':'othr_b_use',\n",
    "          'manuse_12':'shldr_chld_seat','manuse_13':'lap_chld_seat','manuse_14':'lapshldr_chld_seat',\n",
    "          'manuse_15':'b_chld_seat_uk','manuse_18':'othrb_chld_seat'}\n",
    "\n",
    "# Manual seatbelt fail\n",
    "manfail = {'manfail_0':'nouse','manfail_1':'no_mlfctn',\n",
    "           'manfail_2':'torn_wbbng','manfail_3':'bckl',\n",
    "           'manfail_4':'uppr_anchr','manfail_5':'othr_anchr',\n",
    "           'manavail_6':'retrctr','manavail_7':'combo',\n",
    "           'manfail_8':'other'}\n",
    "\n",
    "role = {'role_1':'driver','role_2':'passenger'}\n",
    "\n"
   ]
  },
  {
   "cell_type": "code",
   "execution_count": 135,
   "metadata": {
    "collapsed": true
   },
   "outputs": [],
   "source": [
    "# replace 9 with uk for (unknown per the NASS documents)\n",
    "fatal['gad1'] = fatal['gad1'].copy().replace('9','uk')"
   ]
  },
  {
   "cell_type": "code",
   "execution_count": 136,
   "metadata": {},
   "outputs": [
    {
     "name": "stderr",
     "output_type": "stream",
     "text": [
      "/Users/guillermogonzalez/anaconda3/lib/python3.6/site-packages/pandas/core/generic.py:3786: UserWarning: the \"axis\" argument is deprecated and will be removed inv0.13; this argument has no effect\n",
      "  warn('the \"axis\" argument is deprecated and will be removed in'\n"
     ]
    }
   ],
   "source": [
    "# replace 0 with 1 since they are the same thing according to the NASS documents\n",
    "fatal['bagavail'] = fatal['bagavail'].copy().replace(0,1,axis=0)"
   ]
  },
  {
   "cell_type": "code",
   "execution_count": 137,
   "metadata": {
    "collapsed": true
   },
   "outputs": [],
   "source": [
    "# removing letter at the end and going to drop caseno and PSU since \n",
    "# they \"are identical variables across all NASS records\"\n",
    "fatal['caseid'] = fatal['caseid'].apply(lambda x: x[:-1].strip())"
   ]
  },
  {
   "cell_type": "code",
   "execution_count": 138,
   "metadata": {
    "collapsed": true
   },
   "outputs": [],
   "source": [
    "# according NASS these columns are same info as caseid\n",
    "fatal.drop(['psu','caseno'],axis=1,inplace=True)"
   ]
  },
  {
   "cell_type": "code",
   "execution_count": 139,
   "metadata": {
    "collapsed": true
   },
   "outputs": [],
   "source": [
    "# after further review of the data dropping 'caseid' colunm since there is no significance in the scope\n",
    "fatal.drop('caseid',axis=1,inplace=True)"
   ]
  },
  {
   "cell_type": "code",
   "execution_count": 140,
   "metadata": {
    "collapsed": true
   },
   "outputs": [],
   "source": [
    "# remove manavail since manuse gives the same information\n",
    "fatal.drop('manavail', axis=1, inplace=True)"
   ]
  },
  {
   "cell_type": "code",
   "execution_count": 141,
   "metadata": {
    "collapsed": true
   },
   "outputs": [],
   "source": [
    "# remove bagavail since bagdeply has the same information\n",
    "fatal.drop('bagavail', axis=1, inplace=True)"
   ]
  },
  {
   "cell_type": "code",
   "execution_count": 142,
   "metadata": {
    "collapsed": true
   },
   "outputs": [],
   "source": [
    "#  Remove occno since it's same informaton covered by seatpos\n",
    "fatal.drop('occno', axis=1, inplace=True)"
   ]
  },
  {
   "cell_type": "code",
   "execution_count": 143,
   "metadata": {
    "collapsed": true
   },
   "outputs": [],
   "source": [
    "# Dictionary of each column's unique values key = counts, value = feature name\n",
    "unique_dict = {}\n",
    "for col in fatal.columns:\n",
    "    unique_dict[col] =  fatal[col].nunique()\n",
    "\n",
    "# Features <30 counts\n",
    "categoricals = []\n",
    "for key in unique_dict.keys():\n",
    "    if unique_dict[key] < 30:\n",
    "        categoricals.append(key)"
   ]
  },
  {
   "cell_type": "code",
   "execution_count": 144,
   "metadata": {},
   "outputs": [
    {
     "name": "stdout",
     "output_type": "stream",
     "text": [
      "gad1\n",
      "F     1372618\n",
      "L      411350\n",
      "B      330703\n",
      "R      319169\n",
      "uk     100183\n",
      "T       65536\n",
      "U        3328\n",
      "Name: gad1, dtype: int64\n",
      "year\n",
      "2004    544672\n",
      "2006    500428\n",
      "2005    494713\n",
      "2007    243975\n",
      "2008    195223\n",
      "2009    181650\n",
      "2010    157642\n",
      "2011    150124\n",
      "2012    104230\n",
      "2014    103450\n",
      "2013     22257\n",
      "2015     18063\n",
      "Name: year, dtype: int64\n",
      "stratif\n",
      "K    529817\n",
      "F    442408\n",
      "E    385249\n",
      "C    236676\n",
      "D    235326\n",
      "G    230456\n",
      "B    226083\n",
      "H    214204\n",
      "J    156951\n",
      "A     59252\n",
      "Name: stratif, dtype: int64\n",
      "dvest\n",
      "0.0    1674684\n",
      "7.0     306520\n",
      "6.0     131007\n",
      "8.0      84874\n",
      "2.0      12325\n",
      "3.0       5534\n",
      "1.0       3007\n",
      "5.0       2872\n",
      "4.0       1199\n",
      "Name: dvest, dtype: int64\n",
      "dvbasis\n",
      "1.0     1035657\n",
      "3.0      587972\n",
      "11.0     301492\n",
      "0.0      295200\n",
      "4.0      109304\n",
      "7.0       66250\n",
      "5.0       53107\n",
      "10.0      49190\n",
      "98.0      40293\n",
      "6.0       37035\n",
      "9.0       32346\n",
      "8.0       17075\n",
      "2.0        1522\n",
      "Name: dvbasis, dtype: int64\n",
      "bagdeply\n",
      "1.0    801298\n",
      "7.0    779497\n",
      "0.0    673300\n",
      "5.0     32038\n",
      "3.0     26686\n",
      "Name: bagdeply, dtype: int64\n",
      "bagfail\n",
      "1.0    1498618\n",
      "0.0     634840\n",
      "2.0       6718\n",
      "Name: bagfail, dtype: int64\n",
      "chtype\n",
      "0.0    2334769\n",
      "3.0      26486\n",
      "8.0      22700\n",
      "4.0      22063\n",
      "2.0      12512\n",
      "1.0      10774\n",
      "7.0       2137\n",
      "Name: chtype, dtype: int64\n",
      "injsev\n",
      "0.0    941331\n",
      "3.0    588483\n",
      "1.0    582178\n",
      "2.0    421564\n",
      "4.0     96423\n",
      "5.0     36568\n",
      "6.0        56\n",
      "Name: injsev, dtype: int64\n",
      "manfail\n",
      "1.0    1598523\n",
      "0.0     433906\n",
      "2.0       1259\n",
      "3.0       1090\n",
      "6.0        340\n",
      "7.0        321\n",
      "5.0        136\n",
      "8.0        126\n",
      "4.0         57\n",
      "Name: manfail, dtype: int64\n",
      "manuse\n",
      "4.0     1641667\n",
      "0.0      433926\n",
      "14.0      71455\n",
      "3.0       48857\n",
      "13.0      11282\n",
      "5.0       10758\n",
      "15.0       1398\n",
      "1.0         358\n",
      "8.0         346\n",
      "2.0         315\n",
      "12.0        240\n",
      "18.0         80\n",
      "Name: manuse, dtype: int64\n",
      "role\n",
      "1.0    1748881\n",
      "2.0     967346\n",
      "Name: role, dtype: int64\n",
      "seatpos\n",
      "11.0    1631177\n",
      "13.0     488440\n",
      "23.0     163523\n",
      "21.0     136826\n",
      "22.0      51773\n",
      "33.0      10428\n",
      "31.0      10141\n",
      "24.0       6712\n",
      "98.0       5880\n",
      "12.0       5844\n",
      "32.0       4924\n",
      "97.0       2370\n",
      "14.0       1578\n",
      "25.0       1282\n",
      "34.0       1224\n",
      "15.0        824\n",
      "35.0        794\n",
      "43.0        748\n",
      "41.0        731\n",
      "42.0        630\n",
      "29.0        151\n",
      "44.0        136\n",
      "51.0         67\n",
      "19.0         65\n",
      "53.0         60\n",
      "39.0         16\n",
      "59.0         10\n",
      "54.0          7\n",
      "52.0          4\n",
      "Name: seatpos, dtype: int64\n",
      "sex\n",
      "1.0    1434927\n",
      "2.0    1223855\n",
      "5.0      10417\n",
      "4.0       7887\n",
      "3.0       5709\n",
      "6.0       1597\n",
      "Name: sex, dtype: int64\n",
      "treatmnt\n",
      "0.0    906363\n",
      "4.0    840333\n",
      "3.0    386360\n",
      "1.0     88557\n",
      "6.0     88325\n",
      "8.0     42940\n",
      "5.0     28051\n",
      "2.0      3048\n",
      "7.0       500\n",
      "Name: treatmnt, dtype: int64\n"
     ]
    }
   ],
   "source": [
    "for col in categoricals:\n",
    "    print(col)\n",
    "    print(fatal[col].value_counts())"
   ]
  },
  {
   "cell_type": "code",
   "execution_count": 145,
   "metadata": {},
   "outputs": [
    {
     "data": {
      "text/plain": [
       "0.0    941331\n",
       "3.0    588483\n",
       "1.0    582178\n",
       "2.0    421564\n",
       "4.0     96423\n",
       "5.0     36568\n",
       "6.0        56\n",
       "Name: injsev, dtype: int64"
      ]
     },
     "execution_count": 145,
     "metadata": {},
     "output_type": "execute_result"
    }
   ],
   "source": [
    "# Grouping:\n",
    "# (0, 1, 2,) --> non-sevear\n",
    "# (3) --> sevear\n",
    "# (4, 6) --> death \n",
    "# 5 is injured, but unknown severity --> need to impute\n",
    "fatal['injsev'].value_counts()"
   ]
  },
  {
   "cell_type": "code",
   "execution_count": 146,
   "metadata": {
    "collapsed": true
   },
   "outputs": [],
   "source": [
    "# fatal['injsev'].replace(to_replace=[0.0, 1.0, 2.0], value=['unsevere','unsevere','unsevere'])"
   ]
  },
  {
   "cell_type": "code",
   "execution_count": 147,
   "metadata": {
    "collapsed": true
   },
   "outputs": [],
   "source": [
    "# fatal['injsev'].replace"
   ]
  },
  {
   "cell_type": "code",
   "execution_count": 148,
   "metadata": {},
   "outputs": [
    {
     "data": {
      "text/plain": [
       "dof1         299352\n",
       "gad1         113540\n",
       "year              0\n",
       "stratif           5\n",
       "bodytype       2519\n",
       "dvest        494405\n",
       "dvbasis       89984\n",
       "dvtotal     1091276\n",
       "make          10659\n",
       "modelyr       13077\n",
       "age           56349\n",
       "bagdeply     403608\n",
       "bagfail      576251\n",
       "chtype       284986\n",
       "death        327097\n",
       "height       689620\n",
       "hospstay     394158\n",
       "injsev        49824\n",
       "manfail      680669\n",
       "manuse       495745\n",
       "role            200\n",
       "seatpos      190062\n",
       "sex           32035\n",
       "treatmnt     331950\n",
       "weight       654910\n",
       "dtype: int64"
      ]
     },
     "execution_count": 148,
     "metadata": {},
     "output_type": "execute_result"
    }
   ],
   "source": [
    "fatal.isnull().sum()"
   ]
  },
  {
   "cell_type": "code",
   "execution_count": 149,
   "metadata": {},
   "outputs": [
    {
     "name": "stdout",
     "output_type": "stream",
     "text": [
      "         NAs   Total  Percentage\n",
      "2004  190316  544672       0.349\n",
      "2005  184505  494713       0.373\n",
      "2006  197452  500428       0.395\n",
      "2007  104293  243975       0.427\n",
      "2008   84793  195223       0.434\n",
      "2009   80094  181650       0.441\n",
      "2010   69222  157642       0.439\n",
      "2011   65682  150124       0.438\n",
      "2012   53511  104230       0.513\n",
      "2013    9208   22257       0.414\n",
      "2014   45168  103450       0.437\n",
      "2015    7032   18063       0.389\n",
      "\n",
      "There is an average of 42.075% NA values\n"
     ]
    }
   ],
   "source": [
    "# dvtotal has 1,091,276 null values.  From the analysis below, that accounts 35 to 50 % of each year's data\n",
    "# Dropping these Na data points\n",
    "dvtotal_na = pd.DataFrame(fatal[ fatal['dvtotal']\\\n",
    "                                .isnull() ]['year']\\\n",
    "                                .value_counts()).sort_index(ascending=True)\n",
    "\n",
    "total = pd.DataFrame(fatal['year'].value_counts()).sort_index(ascending=True)\n",
    "\n",
    "na_percent = pd.concat([dvtotal_na,total], axis=1)\n",
    "na_percent.columns = ['NAs','Total']\n",
    "\n",
    "na_percent['Percentage'] = (na_percent['NAs'] / na_percent['Total']).round(3)\n",
    "\n",
    "print(na_percent.sort_index(ascending=True))\n",
    "print()\n",
    "print('There is an average of {}'.format(na_percent['Percentage'].mean()*100) + '% NA values')"
   ]
  },
  {
   "cell_type": "markdown",
   "metadata": {},
   "source": [
    "## Try Dropping NA"
   ]
  },
  {
   "cell_type": "code",
   "execution_count": 375,
   "metadata": {},
   "outputs": [],
   "source": [
    "fatal_nona = fatal.copy()\n",
    "\n",
    "# dropping all Na values ~ 42% of the data\n",
    "fatal_nona.dropna(axis=0,inplace=True, )\n",
    "\n",
    "# resetting the index\n",
    "fatal_nona.reset_index(drop=True, inplace=True)"
   ]
  },
  {
   "cell_type": "code",
   "execution_count": 376,
   "metadata": {
    "collapsed": true
   },
   "outputs": [],
   "source": [
    "# Turn floats into integers\n",
    "floats = fatal_nona.dtypes[ fatal_nona.dtypes == 'float64' ].index.tolist()\n",
    "\n",
    "fatal_nona[floats] = fatal_nona[floats].astype('int')"
   ]
  },
  {
   "cell_type": "markdown",
   "metadata": {},
   "source": [
    "### Imputing 'injsev' category 5 (Injury-Unknown Severity)"
   ]
  },
  {
   "cell_type": "code",
   "execution_count": 377,
   "metadata": {
    "collapsed": true
   },
   "outputs": [],
   "source": [
    "impute_five = fatal_nona.copy()"
   ]
  },
  {
   "cell_type": "code",
   "execution_count": 378,
   "metadata": {
    "collapsed": true
   },
   "outputs": [],
   "source": [
    "# join get_dummies data frame with the original data\n",
    "impute_five = pd.concat([impute_five, pd.get_dummies(impute_five[['gad1','stratif']])],axis=1)"
   ]
  },
  {
   "cell_type": "code",
   "execution_count": 379,
   "metadata": {
    "collapsed": true
   },
   "outputs": [],
   "source": [
    "X_train = impute_five[ impute_five['injsev'] != 5 ].drop(['injsev','gad1','stratif'], axis=1)\n",
    "y_train = impute_five[ impute_five['injsev'] != 5 ]['injsev']\n",
    "\n",
    "X_test = impute_five[ impute_five['injsev'] == 5 ].drop(['injsev','gad1','stratif'], axis=1)\n",
    "y_test = impute_five[ impute_five['injsev'] == 5 ]['injsev']"
   ]
  },
  {
   "cell_type": "code",
   "execution_count": 380,
   "metadata": {
    "collapsed": true
   },
   "outputs": [],
   "source": [
    "# Standardizing the train and test data\n",
    "ss = StandardScaler()\n",
    "X_train_ss = ss.fit_transform(X_train)\n",
    "X_test_ss = ss.fit_transform(X_test)"
   ]
  },
  {
   "cell_type": "code",
   "execution_count": 381,
   "metadata": {
    "collapsed": true
   },
   "outputs": [],
   "source": [
    "# Capturing the indices of y_test to reset the prediction's indices\n",
    "y_test_index = y_test.index.tolist()"
   ]
  },
  {
   "cell_type": "code",
   "execution_count": 382,
   "metadata": {},
   "outputs": [
    {
     "data": {
      "text/plain": [
       "DecisionTreeClassifier(class_weight=None, criterion='gini', max_depth=None,\n",
       "            max_features=None, max_leaf_nodes=None,\n",
       "            min_impurity_decrease=0.0, min_impurity_split=None,\n",
       "            min_samples_leaf=1, min_samples_split=2,\n",
       "            min_weight_fraction_leaf=0.0, presort=False, random_state=None,\n",
       "            splitter='best')"
      ]
     },
     "execution_count": 382,
     "metadata": {},
     "output_type": "execute_result"
    }
   ],
   "source": [
    "# Decisiion tree multiclassification to impute the cat. 5 (unknown severity) feature\n",
    "dt_impute = DecisionTreeClassifier()\n",
    "dt_impute.fit(X_train_ss, y_train)"
   ]
  },
  {
   "cell_type": "code",
   "execution_count": 383,
   "metadata": {},
   "outputs": [
    {
     "name": "stderr",
     "output_type": "stream",
     "text": [
      "/Users/guillermogonzalez/anaconda3/lib/python3.6/site-packages/sklearn/model_selection/_split.py:605: Warning: The least populated class in y has only 8 members, which is too few. The minimum number of members in any class cannot be less than n_splits=10.\n",
      "  % (min_groups, self.n_splits)), Warning)\n"
     ]
    },
    {
     "name": "stdout",
     "output_type": "stream",
     "text": [
      "Decision Tree Score:\t0.55 ± 0.04\n"
     ]
    }
   ],
   "source": [
    "s = cross_val_score(dt_impute, X_train_ss, y_train, cv=10 , n_jobs=2)\n",
    "print(\"{} Score:\\t{:0.3} ± {:0.3}\".format(\"Decision Tree\", s.mean().round(3), s.std().round(3)))"
   ]
  },
  {
   "cell_type": "code",
   "execution_count": 384,
   "metadata": {},
   "outputs": [
    {
     "name": "stdout",
     "output_type": "stream",
     "text": [
      "{0, 1, 2, 3}\n",
      "0 sum =  1551\n",
      "1 sum =  4383\n",
      "2 sum =  3451\n",
      "3 sum =  786\n",
      "\n",
      "Percent of 3 =  0.0576119621784\n"
     ]
    }
   ],
   "source": [
    "# although the accuracy is not very good for the estimations, \n",
    "#(0, 1, 2) were going to be classified as 'unsevere'\n",
    "# (3) will be 'severe' and there were only 8% of fives classified as 3\n",
    "\n",
    "print(set(dt_impute.predict(X_test_ss).tolist()))\n",
    "print('0 sum = ',(dt_impute.predict(X_test_ss)==0).sum())\n",
    "print('1 sum = ',(dt_impute.predict(X_test_ss)==1).sum())\n",
    "print('2 sum = ',(dt_impute.predict(X_test_ss)==2).sum())\n",
    "print('3 sum = ',(dt_impute.predict(X_test_ss)==3).sum())\n",
    "print()\n",
    "print('Percent of 3 = ',(dt_impute.predict(X_test_ss)==3).sum()/dt_impute.predict(X_test_ss).sum())"
   ]
  },
  {
   "cell_type": "code",
   "execution_count": 385,
   "metadata": {
    "collapsed": true
   },
   "outputs": [],
   "source": [
    "cat_five_imputed = pd.Series(dt_impute.predict(X_test_ss).tolist(), index=y_test_index)\n",
    "# fatal_nona.replace(to_replace = fatal_nona[ fatal_nona['injsev']==5 ]['injsev'],\n",
    "#                    value = cat_five_imputed,\n",
    "#                    axis=0,\n",
    "#                   inplace=True)\n"
   ]
  },
  {
   "cell_type": "code",
   "execution_count": 386,
   "metadata": {
    "scrolled": true
   },
   "outputs": [
    {
     "data": {
      "text/plain": [
       "2744       1\n",
       "2750       1\n",
       "2756       1\n",
       "2762       1\n",
       "2768       1\n",
       "2774       1\n",
       "2780       1\n",
       "2786       1\n",
       "2792       1\n",
       "2798       1\n",
       "2804       1\n",
       "2810       1\n",
       "2816       1\n",
       "2822       1\n",
       "2828       1\n",
       "2834       1\n",
       "2840       1\n",
       "2846       1\n",
       "2852       1\n",
       "2858       1\n",
       "2864       1\n",
       "2870       1\n",
       "2876       1\n",
       "2882       1\n",
       "2888       1\n",
       "2894       1\n",
       "2900       1\n",
       "2906       1\n",
       "2912       1\n",
       "2918       1\n",
       "          ..\n",
       "1045044    0\n",
       "1045047    0\n",
       "1045050    2\n",
       "1045053    2\n",
       "1045056    0\n",
       "1045059    0\n",
       "1045062    2\n",
       "1045065    2\n",
       "1045068    0\n",
       "1045071    0\n",
       "1045074    2\n",
       "1045077    2\n",
       "1045115    1\n",
       "1045116    2\n",
       "1045118    1\n",
       "1045119    2\n",
       "1045121    1\n",
       "1045122    2\n",
       "1045124    1\n",
       "1045125    2\n",
       "1045126    1\n",
       "1045127    0\n",
       "1045989    1\n",
       "1045990    0\n",
       "1045991    1\n",
       "1045992    0\n",
       "1046491    2\n",
       "1046495    2\n",
       "1046499    2\n",
       "1046503    2\n",
       "Length: 10171, dtype: int64"
      ]
     },
     "execution_count": 386,
     "metadata": {},
     "output_type": "execute_result"
    }
   ],
   "source": [
    "cat_five_imputed"
   ]
  },
  {
   "cell_type": "code",
   "execution_count": 387,
   "metadata": {},
   "outputs": [
    {
     "data": {
      "text/plain": [
       "0    370120\n",
       "3    241780\n",
       "1    240018\n",
       "2    168000\n",
       "4     17935\n",
       "5     10171\n",
       "6         8\n",
       "Name: injsev, dtype: int64"
      ]
     },
     "execution_count": 387,
     "metadata": {},
     "output_type": "execute_result"
    }
   ],
   "source": [
    "fatal_nona['injsev'].value_counts()"
   ]
  },
  {
   "cell_type": "code",
   "execution_count": 388,
   "metadata": {},
   "outputs": [
    {
     "name": "stdout",
     "output_type": "stream",
     "text": [
      "10171\n",
      "10171\n"
     ]
    }
   ],
   "source": [
    "print(len(fatal_nona[ fatal_nona['injsev']==5]['injsev']))\n",
    "print(len(cat_five_imputed))"
   ]
  },
  {
   "cell_type": "code",
   "execution_count": 389,
   "metadata": {},
   "outputs": [],
   "source": [
    "# Join imputed values with the orginal values in a DataFrame\n",
    "five_imputed = pd.concat([y_test, cat_five_imputed], axis=1, join='outer').drop('injsev', axis=1)"
   ]
  },
  {
   "cell_type": "code",
   "execution_count": 390,
   "metadata": {
    "scrolled": true
   },
   "outputs": [],
   "source": [
    "# Creating a new dataframe from the series created above inorder to rename the column to 'injsev' in order for the\n",
    "# .update() method can work as expected\n",
    "five_imputed = pd.DataFrame(five_imputed.values, columns=['injsev'], index=five_imputed.index)"
   ]
  },
  {
   "cell_type": "code",
   "execution_count": 391,
   "metadata": {},
   "outputs": [
    {
     "data": {
      "text/html": [
       "<div>\n",
       "<style>\n",
       "    .dataframe thead tr:only-child th {\n",
       "        text-align: right;\n",
       "    }\n",
       "\n",
       "    .dataframe thead th {\n",
       "        text-align: left;\n",
       "    }\n",
       "\n",
       "    .dataframe tbody tr th {\n",
       "        vertical-align: top;\n",
       "    }\n",
       "</style>\n",
       "<table border=\"1\" class=\"dataframe\">\n",
       "  <thead>\n",
       "    <tr style=\"text-align: right;\">\n",
       "      <th></th>\n",
       "      <th>injsev</th>\n",
       "    </tr>\n",
       "  </thead>\n",
       "  <tbody>\n",
       "    <tr>\n",
       "      <th>2744</th>\n",
       "      <td>1</td>\n",
       "    </tr>\n",
       "    <tr>\n",
       "      <th>2750</th>\n",
       "      <td>1</td>\n",
       "    </tr>\n",
       "    <tr>\n",
       "      <th>2756</th>\n",
       "      <td>1</td>\n",
       "    </tr>\n",
       "    <tr>\n",
       "      <th>2762</th>\n",
       "      <td>1</td>\n",
       "    </tr>\n",
       "    <tr>\n",
       "      <th>2768</th>\n",
       "      <td>1</td>\n",
       "    </tr>\n",
       "  </tbody>\n",
       "</table>\n",
       "</div>"
      ],
      "text/plain": [
       "      injsev\n",
       "2744       1\n",
       "2750       1\n",
       "2756       1\n",
       "2762       1\n",
       "2768       1"
      ]
     },
     "execution_count": 391,
     "metadata": {},
     "output_type": "execute_result"
    }
   ],
   "source": [
    "five_imputed.head()"
   ]
  },
  {
   "cell_type": "code",
   "execution_count": 392,
   "metadata": {},
   "outputs": [],
   "source": [
    "# Updating DataFram with the new imputed value for category 5\n",
    "# Note:  five_imputed column name matched the column name of the main DataFrame\n",
    "fatal_nona.update(five_imputed)"
   ]
  },
  {
   "cell_type": "code",
   "execution_count": 398,
   "metadata": {},
   "outputs": [
    {
     "data": {
      "text/plain": [
       "0    787523\n",
       "1    242566\n",
       "2     17943\n",
       "Name: injsev, dtype: int64"
      ]
     },
     "execution_count": 398,
     "metadata": {},
     "output_type": "execute_result"
    }
   ],
   "source": [
    "fatal_nona['injsev'].value_counts()"
   ]
  },
  {
   "cell_type": "code",
   "execution_count": 394,
   "metadata": {},
   "outputs": [],
   "source": [
    "# Update changed value type to float; changing back to integer\n",
    "fatal_nona['injsev'] = fatal_nona['injsev'].astype('int')"
   ]
  },
  {
   "cell_type": "code",
   "execution_count": 395,
   "metadata": {},
   "outputs": [],
   "source": [
    "# Reducing the categorical \"injsev\" grouping to 3 categories\n",
    "# (0, 1, 2) --> 0 (unsevere)\n",
    "# (3) --> 1 (severe)\n",
    "# (4,6) --> 2 (death)\n",
    "\n",
    "fatal_nona.loc[fatal_nona['injsev'].isin([0, 1, 2]), 'injsev'] = int(0)"
   ]
  },
  {
   "cell_type": "code",
   "execution_count": 396,
   "metadata": {
    "collapsed": true
   },
   "outputs": [],
   "source": [
    "fatal_nona.loc[fatal_nona['injsev'].isin([3]), 'injsev'] = int(1)"
   ]
  },
  {
   "cell_type": "code",
   "execution_count": 397,
   "metadata": {
    "collapsed": true
   },
   "outputs": [],
   "source": [
    "fatal_nona.loc[fatal_nona['injsev'].isin([4, 6]), 'injsev'] = int(2)"
   ]
  },
  {
   "cell_type": "code",
   "execution_count": 399,
   "metadata": {
    "collapsed": true
   },
   "outputs": [],
   "source": [
    "# join get_dummies data frame with the original data\n",
    "fatal_nona = pd.concat([fatal_nona, pd.get_dummies(fatal_nona[['gad1','stratif']])],axis=1)"
   ]
  },
  {
   "cell_type": "code",
   "execution_count": 401,
   "metadata": {},
   "outputs": [],
   "source": [
    "y = fatal_nona['injsev']\n",
    "X = fatal_nona.copy().drop(['injsev','gad1','stratif'], axis=1)"
   ]
  },
  {
   "cell_type": "code",
   "execution_count": 402,
   "metadata": {
    "collapsed": true
   },
   "outputs": [],
   "source": [
    "# creating the test train split for multiclass modeling\n",
    "X_train, X_test, y_train, y_test = train_test_split(X, y, \n",
    "                                                    test_size=0.20, random_state=42, \n",
    "                                                    stratify=fatal_nona['injsev'])"
   ]
  },
  {
   "cell_type": "code",
   "execution_count": 403,
   "metadata": {},
   "outputs": [
    {
     "name": "stdout",
     "output_type": "stream",
     "text": [
      "(838425, 38) (838425,) (209607, 38) (209607,)\n"
     ]
    }
   ],
   "source": [
    "print(X_train.shape, y_train.shape, X_test.shape, y_test.shape)"
   ]
  },
  {
   "cell_type": "code",
   "execution_count": 404,
   "metadata": {
    "collapsed": true
   },
   "outputs": [],
   "source": [
    "# Standardizing the train and test data\n",
    "ss = StandardScaler()\n",
    "X_train_ss = ss.fit_transform(X_train)\n",
    "X_test_ss = ss.fit_transform(X_test)"
   ]
  },
  {
   "cell_type": "code",
   "execution_count": 405,
   "metadata": {},
   "outputs": [
    {
     "name": "stdout",
     "output_type": "stream",
     "text": [
      "Decision Tree Score:\t0.992 ± 0.0\n"
     ]
    }
   ],
   "source": [
    "dt = DecisionTreeClassifier(min_samples_leaf=10)\n",
    "s = cross_val_score(dt, X_train_ss, y_train, cv=5, n_jobs=2)\n",
    "print(\"{} Score:\\t{:0.3} ± {:0.3}\".format(\"Decision Tree\", s.mean().round(3), s.std().round(3)))"
   ]
  },
  {
   "cell_type": "code",
   "execution_count": 406,
   "metadata": {},
   "outputs": [
    {
     "data": {
      "text/plain": [
       "DecisionTreeClassifier(class_weight=None, criterion='gini', max_depth=None,\n",
       "            max_features=None, max_leaf_nodes=None,\n",
       "            min_impurity_decrease=0.0, min_impurity_split=None,\n",
       "            min_samples_leaf=10, min_samples_split=2,\n",
       "            min_weight_fraction_leaf=0.0, presort=False, random_state=None,\n",
       "            splitter='best')"
      ]
     },
     "execution_count": 406,
     "metadata": {},
     "output_type": "execute_result"
    }
   ],
   "source": [
    "dt.fit(X_train_ss, y_train)"
   ]
  },
  {
   "cell_type": "code",
   "execution_count": 407,
   "metadata": {},
   "outputs": [
    {
     "data": {
      "text/plain": [
       "array([[156933,    572,      0],\n",
       "       [   626,  47883,      4],\n",
       "       [    11,     15,   3563]])"
      ]
     },
     "execution_count": 407,
     "metadata": {},
     "output_type": "execute_result"
    }
   ],
   "source": [
    "confusion_matrix(y_test, dt.predict(X_test_ss))"
   ]
  },
  {
   "cell_type": "code",
   "execution_count": 474,
   "metadata": {},
   "outputs": [
    {
     "data": {
      "text/html": [
       "<div>\n",
       "<style>\n",
       "    .dataframe thead tr:only-child th {\n",
       "        text-align: right;\n",
       "    }\n",
       "\n",
       "    .dataframe thead th {\n",
       "        text-align: left;\n",
       "    }\n",
       "\n",
       "    .dataframe tbody tr th {\n",
       "        vertical-align: top;\n",
       "    }\n",
       "</style>\n",
       "<table border=\"1\" class=\"dataframe\">\n",
       "  <thead>\n",
       "    <tr style=\"text-align: right;\">\n",
       "      <th>col_0</th>\n",
       "      <th>0</th>\n",
       "      <th>1</th>\n",
       "      <th>2</th>\n",
       "    </tr>\n",
       "    <tr>\n",
       "      <th>injsev</th>\n",
       "      <th></th>\n",
       "      <th></th>\n",
       "      <th></th>\n",
       "    </tr>\n",
       "  </thead>\n",
       "  <tbody>\n",
       "    <tr>\n",
       "      <th>0</th>\n",
       "      <td>156933</td>\n",
       "      <td>572</td>\n",
       "      <td>0</td>\n",
       "    </tr>\n",
       "    <tr>\n",
       "      <th>1</th>\n",
       "      <td>626</td>\n",
       "      <td>47883</td>\n",
       "      <td>4</td>\n",
       "    </tr>\n",
       "    <tr>\n",
       "      <th>2</th>\n",
       "      <td>11</td>\n",
       "      <td>15</td>\n",
       "      <td>3563</td>\n",
       "    </tr>\n",
       "  </tbody>\n",
       "</table>\n",
       "</div>"
      ],
      "text/plain": [
       "col_0        0      1     2\n",
       "injsev                     \n",
       "0       156933    572     0\n",
       "1          626  47883     4\n",
       "2           11     15  3563"
      ]
     },
     "execution_count": 474,
     "metadata": {},
     "output_type": "execute_result"
    }
   ],
   "source": [
    "y_true = y_test.copy()\n",
    "y_pred = dt.predict(X_test_ss)\n",
    "\n",
    "confusion = pd.crosstab(y_true, y_pred)\n",
    "confusion"
   ]
  },
  {
   "cell_type": "code",
   "execution_count": 483,
   "metadata": {},
   "outputs": [
    {
     "data": {
      "image/png": "[encoded data removed]",
      "text/plain": [
       "<matplotlib.figure.Figure at 0x1a6e2676d8>"
      ]
     },
     "metadata": {},
     "output_type": "display_data"
    }
   ],
   "source": [
    "plt.figure(figsize=(20,13))\n",
    "mask = np.zeros_like(X_train.corr()[X_train.corr()>0.20])\n",
    "mask[np.triu_indices_from(mask)] = True\n",
    "with sns.axes_style(\"white\"):\n",
    "    ax = sns.heatmap(X_train.corr()[X_train.corr()>0.20], mask=mask, vmax=.3, annot=True, square=True)\n",
    "\n",
    "plt.xticks(fontsize = 12)\n",
    "plt.yticks(fontsize = 12)\n",
    "plt.title('Features Correlations', fontsize = 25)\n",
    "plt.show()\n"
   ]
  },
  {
   "cell_type": "code",
   "execution_count": 417,
   "metadata": {
    "collapsed": true
   },
   "outputs": [],
   "source": [
    "feature_import = pd.concat([pd.Series(X_train.columns),\n",
    "                            pd.Series(dt.feature_importances_.tolist())],\n",
    "                           axis=1).sort_values(1,ascending=False)\n",
    "feature_import.reset_index(level=0, drop=True, inplace=True)\n",
    "feature_import.columns = ['feature','importance']"
   ]
  },
  {
   "cell_type": "code",
   "execution_count": 466,
   "metadata": {},
   "outputs": [],
   "source": [
    "feature_import.set_index('feature', inplace=True)"
   ]
  },
  {
   "cell_type": "code",
   "execution_count": 480,
   "metadata": {
    "scrolled": false
   },
   "outputs": [
    {
     "data": {
      "text/plain": [
       "Text(0.5,0,'Features')"
      ]
     },
     "execution_count": 480,
     "metadata": {},
     "output_type": "execute_result"
    },
    {
     "data": {
      "text/plain": [
       "<matplotlib.figure.Figure at 0x1a23925f28>"
      ]
     },
     "metadata": {},
     "output_type": "display_data"
    },
    {
     "data": {
      "image/png": "[encoded data removed]",
      "text/plain": [
       "<matplotlib.figure.Figure at 0x1a23916f28>"
      ]
     },
     "metadata": {},
     "output_type": "display_data"
    }
   ],
   "source": [
    "# Plotting the feature importances\n",
    "plt.figure(figsize=(20,13))\n",
    "feature_import.plot(kind='bar', \n",
    "                    fontsize=15, figsize=(18,8))\n",
    "plt.legend(fontsize=15)\n",
    "plt.title('Feature Importance', fontsize=20)\n",
    "plt.xlabel('Features', fontsize=17)"
   ]
  },
  {
   "cell_type": "markdown",
   "metadata": {},
   "source": [
    "- The top 5 features plotted above all contain information regarding Injuey Severity ('injsev') the target."
   ]
  },
  {
   "cell_type": "code",
   "execution_count": null,
   "metadata": {
    "collapsed": true
   },
   "outputs": [],
   "source": []
  },
  {
   "cell_type": "code",
   "execution_count": null,
   "metadata": {},
   "outputs": [],
   "source": []
  },
  {
   "cell_type": "code",
   "execution_count": null,
   "metadata": {
    "collapsed": true
   },
   "outputs": [],
   "source": []
  },
  {
   "cell_type": "code",
   "execution_count": null,
   "metadata": {
    "collapsed": true
   },
   "outputs": [],
   "source": []
  },
  {
   "cell_type": "code",
   "execution_count": null,
   "metadata": {
    "collapsed": true
   },
   "outputs": [],
   "source": []
  },
  {
   "cell_type": "code",
   "execution_count": null,
   "metadata": {
    "collapsed": true
   },
   "outputs": [],
   "source": [
    "\n",
    "def build_tree_models(x, y, tree_depth_range=range(1,11), min_leaf):\n",
    "    tree_model_ypreds = {}\n",
    "    \n",
    "    for i in tree_depth_range:\n",
    "        model = DecisionTreeRegressor(max_depth=i, min_samples_leaf=min_leaf)\n",
    "        model.fit(x[:, np.newaxis], y)\n",
    "        tree_model_ypreds[i] = model.predict(x[:, np.newaxis])\n",
    "        \n",
    "    return tree_model_ypreds"
   ]
  },
  {
   "cell_type": "code",
   "execution_count": null,
   "metadata": {
    "collapsed": true
   },
   "outputs": [],
   "source": [
    "def mph(kmph):\n",
    "    '''\n",
    "    Function to convert kmph to mph.  \n",
    "    Enter the speed in kmph and the function converts it to mph.\n",
    "    - default set to 0.0001\n",
    "    '''\n",
    "    return round(0.621371*kmph)"
   ]
  },
  {
   "cell_type": "code",
   "execution_count": null,
   "metadata": {
    "collapsed": true
   },
   "outputs": [],
   "source": []
  },
  {
   "cell_type": "code",
   "execution_count": null,
   "metadata": {
    "collapsed": true
   },
   "outputs": [],
   "source": []
  },
  {
   "cell_type": "code",
   "execution_count": null,
   "metadata": {
    "collapsed": true
   },
   "outputs": [],
   "source": []
  },
  {
   "cell_type": "code",
   "execution_count": null,
   "metadata": {
    "collapsed": true
   },
   "outputs": [],
   "source": []
  },
  {
   "cell_type": "code",
   "execution_count": null,
   "metadata": {
    "collapsed": true
   },
   "outputs": [],
   "source": []
  },
  {
   "cell_type": "code",
   "execution_count": null,
   "metadata": {
    "collapsed": true
   },
   "outputs": [],
   "source": []
  }
 ],
 "metadata": {
  "kernelspec": {
   "display_name": "Python 3",
   "language": "python",
   "name": "python3"
  },
  "language_info": {
   "codemirror_mode": {
    "name": "ipython",
    "version": 3
   },
   "file_extension": ".py",
   "mimetype": "text/x-python",
   "name": "python",
   "nbconvert_exporter": "python",
   "pygments_lexer": "ipython3",
   "version": "3.6.3"
  }
 },
 "nbformat": 4,
 "nbformat_minor": 2
}

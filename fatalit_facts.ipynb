{
 "cells": [
  {
   "cell_type": "code",
   "execution_count": 1,
   "metadata": {},
   "outputs": [],
   "source": [
    "import sqlite3 as sql\n",
    "import pandas as pd"
   ]
  },
  {
   "cell_type": "code",
   "execution_count": 62,
   "metadata": {},
   "outputs": [
    {
     "name": "stderr",
     "output_type": "stream",
     "text": [
      "/Users/guillermogonzalez/miniconda3/envs/ga/lib/python3.6/site-packages/IPython/core/interactiveshell.py:2728: DtypeWarning: Columns (3) have mixed types. Specify dtype option on import or set low_memory=False.\n",
      "  interactivity=interactivity, compiler=compiler, result=result)\n"
     ]
    }
   ],
   "source": [
    "df = pd.read_csv('./database.sqlite')"
   ]
  },
  {
   "cell_type": "markdown",
   "metadata": {},
   "source": [
    "- CASEID - case number\n",
    "- DOF1 - direction of force (highest)\n",
    "- GAD1 - deformation location (highest)\n",
    "- PSU - primary sampling unit number\n",
    "- YEAR - calender year of crash\n",
    "- STRATIF - case stratum\n",
    "- BODYTYPE - vehicle body type\n",
    "- DVEST - estimated highest delta V\n",
    "- DVBASIS - basis for total deltav V (highest)\n",
    "- DVTOTAL - total delta V\n",
    "- MAKE - vehicle make\n",
    "- MODELYR - vehicle model year\n",
    "- AGE - age of occupant\n",
    "- BAGAVAIL - air bag system availability\n",
    "- BAGDEPLY - air bag system deployed\n",
    "- BAGFAIL - air bag system failure\n",
    "- CASENO - case sequence number\n",
    "- CHTYPE - type of child safety seat\n",
    "- DEATH - time of death\n",
    "- HEIGHT - height of occupent\n",
    "- HOPSTAY - hospital stay\n",
    "- INJSEV - injury severity (police rating)\n",
    "- MANAVAIL -\n",
    "- MANFAIL - \n",
    "- MANUSE - manual belt system use \n",
    "- OCCNO - occupant number\n",
    "- ROLE - occupant's role\n",
    "- SEATPOS - occupant's seat position\n",
    "- SEX - occupant's sex\n",
    "- TREATMENT - treatment - mortality\n",
    "- WEIGHT - occupant's weight"
   ]
  },
  {
   "cell_type": "code",
   "execution_count": 63,
   "metadata": {},
   "outputs": [],
   "source": [
    "# changing all columns to lower case\n",
    "columns = df.columns\n",
    "columns_lower = []\n",
    "for col in columns:\n",
    "    columns_lower.append(col.lower())\n",
    "df.columns = columns_lower"
   ]
  },
  {
   "cell_type": "code",
   "execution_count": 65,
   "metadata": {},
   "outputs": [
    {
     "ename": "SyntaxError",
     "evalue": "invalid syntax (<ipython-input-65-1df5810dbc43>, line 14)",
     "output_type": "error",
     "traceback": [
      "\u001b[0;36m  File \u001b[0;32m\"<ipython-input-65-1df5810dbc43>\"\u001b[0;36m, line \u001b[0;32m14\u001b[0m\n\u001b[0;31m    'stratif_E':'injry_tow','stratif_C':'two_tow_no_hsptl','stratif_D'}\u001b[0m\n\u001b[0m                                                                      ^\u001b[0m\n\u001b[0;31mSyntaxError\u001b[0m\u001b[0;31m:\u001b[0m invalid syntax\n"
     ]
    }
   ],
   "source": [
    "# dictionay of categorie ID's (named how they will appear when get dummies is applied)\n",
    "dvest = {'dvest_0':'reconstructed_dv','dvest_1':'dv<10kmph','dvest_2':'10 >= dv < 25kmph','dvest_3':'25 >= dv < 40kmph',\n",
    "         'divest_4':'40 >= dv <55kmph','divest_5':'dv >= 55kmph','divest_6':'minor damage','divest_7':'moderat damage',\n",
    "         'divest_8':'severe damage'}\n",
    "dvbasis = {'dvbasis_0':'not_ispctd','dvbasis_1':'S_dmg_only','dvbasis_2':'S_dmg_&_trjctry','dvbasis_3':'S_missing_vhcl', \n",
    "           'dvbasis_4':'S_dmg_cdc_only', 'dvbasis_5':'one_vhcle_byond_S_scope','dvbasis_6':'rollover',\n",
    "           'dvbasis_7':'non_hrzntl_forces','dvbasis_8':'sideswipe_dmg','dvbasis_9':'severe_override',\n",
    "          'dvbasis_10':'ylding_objct','dvbasis_11':'overlapping_dmg','dvbasis_12':'insuf_data',\n",
    "           'dvbasis_98':'other','dvbasis_99':'unknown'}\n",
    "gad1 = {'gad1_F':'front','gad1_L':'left','gad_R':'right','gad1_B':'back','gad1_uk':'unkown','gad1_T':'top',\n",
    "        'gad1_U':'undercarriage'}\n",
    "bagavail = {'bagavail_1':'no','bagavail_0':'yes','bagavail_2':'unknown'}\n",
    "stratif = {'stratif_k':'fatality','stratif_F':'injry_no_tow_hsptl',\n",
    "          'stratif_E':'injry_tow','stratif_C':'two_tow_no_hsptl','stratif_D'}"
   ]
  },
  {
   "cell_type": "code",
   "execution_count": 66,
   "metadata": {},
   "outputs": [],
   "source": [
    "# replace 9 with uk for (unknown per the NASS documents)\n",
    "df['gad1'] = df['gad1'].copy().replace('9','uk')"
   ]
  },
  {
   "cell_type": "code",
   "execution_count": 67,
   "metadata": {},
   "outputs": [
    {
     "name": "stderr",
     "output_type": "stream",
     "text": [
      "/Users/guillermogonzalez/miniconda3/envs/ga/lib/python3.6/site-packages/pandas/core/generic.py:4480: UserWarning: the \"axis\" argument is deprecated and will be removed inv0.13; this argument has no effect\n",
      "  warnings.warn('the \"axis\" argument is deprecated '\n"
     ]
    }
   ],
   "source": [
    "# replace 0 with 1 since they are the same thing according to the NASS documents\n",
    "df['bagavail'] = df['bagavail'].copy().replace(0,1,axis=0)"
   ]
  },
  {
   "cell_type": "code",
   "execution_count": 68,
   "metadata": {},
   "outputs": [],
   "source": [
    "## removed unnamed: 0 column since it matched the index\n",
    "# df.drop(labels='unnamed: 0',axis=1,inplace=True)"
   ]
  },
  {
   "cell_type": "code",
   "execution_count": 70,
   "metadata": {},
   "outputs": [],
   "source": [
    "# removing letter at the end and going to drop caseno and PSU since \n",
    "# they \"are identical variables across all NASS records\"\n",
    "df['caseid'] = df['caseid'].apply(lambda x: x[:-1].strip())"
   ]
  },
  {
   "cell_type": "code",
   "execution_count": 79,
   "metadata": {},
   "outputs": [],
   "source": [
    "df.drop(['psu','caseno'],axis=1,inplace=True)"
   ]
  },
  {
   "cell_type": "code",
   "execution_count": 82,
   "metadata": {},
   "outputs": [],
   "source": [
    "# Dictionary of each column's unique values key = counts, value = feature name\n",
    "unique_dict = {}\n",
    "for col in df.columns:\n",
    "    unique_dict[col] =  df[col].nunique()\n",
    "\n",
    "# Features <30 couts\n",
    "categoricals = []\n",
    "for key in unique_dict.keys():\n",
    "    if unique_dict[key] < 30:\n",
    "        categoricals.append(key)"
   ]
  },
  {
   "cell_type": "code",
   "execution_count": 83,
   "metadata": {
    "scrolled": true
   },
   "outputs": [
    {
     "name": "stdout",
     "output_type": "stream",
     "text": [
      "gad1\n",
      "F     1372618\n",
      "L      411350\n",
      "B      330703\n",
      "R      319169\n",
      "uk     100183\n",
      "T       65536\n",
      "U        3328\n",
      "Name: gad1, dtype: int64\n",
      "year\n",
      "2004    544672\n",
      "2006    500428\n",
      "2005    494713\n",
      "2007    243975\n",
      "2008    195223\n",
      "2009    181650\n",
      "2010    157642\n",
      "2011    150124\n",
      "2012    104230\n",
      "2014    103450\n",
      "2013     22257\n",
      "2015     18063\n",
      "Name: year, dtype: int64\n",
      "stratif\n",
      "K    529817\n",
      "F    442408\n",
      "E    385249\n",
      "C    236676\n",
      "D    235326\n",
      "G    230456\n",
      "B    226083\n",
      "H    214204\n",
      "J    156951\n",
      "A     59252\n",
      "Name: stratif, dtype: int64\n",
      "dvest\n",
      "0.0    1674684\n",
      "7.0     306520\n",
      "6.0     131007\n",
      "8.0      84874\n",
      "2.0      12325\n",
      "3.0       5534\n",
      "1.0       3007\n",
      "5.0       2872\n",
      "4.0       1199\n",
      "Name: dvest, dtype: int64\n",
      "dvbasis\n",
      "1.0     1035657\n",
      "3.0      587972\n",
      "11.0     301492\n",
      "0.0      295200\n",
      "4.0      109304\n",
      "7.0       66250\n",
      "5.0       53107\n",
      "10.0      49190\n",
      "98.0      40293\n",
      "6.0       37035\n",
      "9.0       32346\n",
      "8.0       17075\n",
      "2.0        1522\n",
      "Name: dvbasis, dtype: int64\n",
      "bagavail\n",
      "1.0    2301751\n",
      "3.0       5951\n",
      "2.0       5117\n",
      "Name: bagavail, dtype: int64\n",
      "bagdeply\n",
      "1.0    801298\n",
      "7.0    779497\n",
      "0.0    673300\n",
      "5.0     32038\n",
      "3.0     26686\n",
      "Name: bagdeply, dtype: int64\n",
      "bagfail\n",
      "1.0    1498618\n",
      "0.0     634840\n",
      "2.0       6718\n",
      "Name: bagfail, dtype: int64\n",
      "chtype\n",
      "0.0    2334769\n",
      "3.0      26486\n",
      "8.0      22700\n",
      "4.0      22063\n",
      "2.0      12512\n",
      "1.0      10774\n",
      "7.0       2137\n",
      "Name: chtype, dtype: int64\n",
      "injsev\n",
      "0.0    941331\n",
      "3.0    588483\n",
      "1.0    582178\n",
      "2.0    421564\n",
      "4.0     96423\n",
      "5.0     36568\n",
      "6.0        56\n",
      "Name: injsev, dtype: int64\n",
      "manavail\n",
      "4.0    2137433\n",
      "3.0      98626\n",
      "0.0      53093\n",
      "5.0      13761\n",
      "1.0       1601\n",
      "8.0        589\n",
      "7.0        125\n",
      "2.0        124\n",
      "6.0         54\n",
      "Name: manavail, dtype: int64\n",
      "manfail\n",
      "1.0    1598523\n",
      "0.0     433906\n",
      "2.0       1259\n",
      "3.0       1090\n",
      "6.0        340\n",
      "7.0        321\n",
      "5.0        136\n",
      "8.0        126\n",
      "4.0         57\n",
      "Name: manfail, dtype: int64\n",
      "manuse\n",
      "4.0     1641667\n",
      "0.0      433926\n",
      "14.0      71455\n",
      "3.0       48857\n",
      "13.0      11282\n",
      "5.0       10758\n",
      "15.0       1398\n",
      "1.0         358\n",
      "8.0         346\n",
      "2.0         315\n",
      "12.0        240\n",
      "18.0         80\n",
      "Name: manuse, dtype: int64\n",
      "occno\n",
      "1.0     1749374\n",
      "2.0      601255\n",
      "3.0      216954\n",
      "4.0       93966\n",
      "5.0       31027\n",
      "6.0       11916\n",
      "7.0        4487\n",
      "8.0        2432\n",
      "9.0         980\n",
      "10.0        711\n",
      "11.0        674\n",
      "12.0        621\n",
      "13.0        621\n",
      "14.0        485\n",
      "15.0        195\n",
      "17.0        190\n",
      "16.0        190\n",
      "18.0        160\n",
      "19.0         24\n",
      "Name: occno, dtype: int64\n",
      "role\n",
      "1.0    1748881\n",
      "2.0     967346\n",
      "Name: role, dtype: int64\n",
      "seatpos\n",
      "11.0    1631177\n",
      "13.0     488440\n",
      "23.0     163523\n",
      "21.0     136826\n",
      "22.0      51773\n",
      "33.0      10428\n",
      "31.0      10141\n",
      "24.0       6712\n",
      "98.0       5880\n",
      "12.0       5844\n",
      "32.0       4924\n",
      "97.0       2370\n",
      "14.0       1578\n",
      "25.0       1282\n",
      "34.0       1224\n",
      "15.0        824\n",
      "35.0        794\n",
      "43.0        748\n",
      "41.0        731\n",
      "42.0        630\n",
      "29.0        151\n",
      "44.0        136\n",
      "51.0         67\n",
      "19.0         65\n",
      "53.0         60\n",
      "39.0         16\n",
      "59.0         10\n",
      "54.0          7\n",
      "52.0          4\n",
      "Name: seatpos, dtype: int64\n",
      "sex\n",
      "1.0    1434927\n",
      "2.0    1223855\n",
      "5.0      10417\n",
      "4.0       7887\n",
      "3.0       5709\n",
      "6.0       1597\n",
      "Name: sex, dtype: int64\n",
      "treatmnt\n",
      "0.0    906363\n",
      "4.0    840333\n",
      "3.0    386360\n",
      "1.0     88557\n",
      "6.0     88325\n",
      "8.0     42940\n",
      "5.0     28051\n",
      "2.0      3048\n",
      "7.0       500\n",
      "Name: treatmnt, dtype: int64\n"
     ]
    }
   ],
   "source": [
    "for col in categoricals:\n",
    "    print(col)\n",
    "    print(df[col].value_counts())"
   ]
  },
  {
   "cell_type": "code",
   "execution_count": null,
   "metadata": {},
   "outputs": [],
   "source": [
    "df.head()"
   ]
  },
  {
   "cell_type": "code",
   "execution_count": null,
   "metadata": {},
   "outputs": [],
   "source": [
    "# Imputer"
   ]
  },
  {
   "cell_type": "code",
   "execution_count": 80,
   "metadata": {},
   "outputs": [
    {
     "data": {
      "text/plain": [
       "caseid            0\n",
       "dof1         299352\n",
       "gad1         113540\n",
       "year              0\n",
       "stratif           5\n",
       "bodytype       2519\n",
       "dvest        494405\n",
       "dvbasis       89984\n",
       "dvtotal     1091276\n",
       "make          10659\n",
       "modelyr       13077\n",
       "age           56349\n",
       "bagavail     403608\n",
       "bagdeply     403608\n",
       "bagfail      576251\n",
       "chtype       284986\n",
       "death        327097\n",
       "height       689620\n",
       "hospstay     394158\n",
       "injsev        49824\n",
       "manavail     411021\n",
       "manfail      680669\n",
       "manuse       495745\n",
       "occno           165\n",
       "role            200\n",
       "seatpos      190062\n",
       "sex           32035\n",
       "treatmnt     331950\n",
       "weight       654910\n",
       "dtype: int64"
      ]
     },
     "execution_count": 80,
     "metadata": {},
     "output_type": "execute_result"
    }
   ],
   "source": [
    "df.isnull().sum()"
   ]
  },
  {
   "cell_type": "code",
   "execution_count": null,
   "metadata": {},
   "outputs": [],
   "source": []
  }
 ],
 "metadata": {
  "kernelspec": {
   "display_name": "Python 3",
   "language": "python",
   "name": "python3"
  },
  "language_info": {
   "codemirror_mode": {
    "name": "ipython",
    "version": 3
   },
   "file_extension": ".py",
   "mimetype": "text/x-python",
   "name": "python",
   "nbconvert_exporter": "python",
   "pygments_lexer": "ipython3",
   "version": "3.6.4"
  }
 },
 "nbformat": 4,
 "nbformat_minor": 2
}

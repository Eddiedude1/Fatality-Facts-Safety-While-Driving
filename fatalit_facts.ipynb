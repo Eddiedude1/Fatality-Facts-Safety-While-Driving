{
 "cells": [
  {
   "cell_type": "code",
   "execution_count": 1,
   "metadata": {},
   "outputs": [],
   "source": [
    "import sqlite3 as sql\n",
    "import pandas as pd\n",
    "import numpy as np\n",
    "from IPython.display import Image\n",
    "from sklearn.preprocessing import OneHotEncoder, StandardScaler\n",
    "from sklearn.model_selection import train_test_split, cross_val_score\n",
    "from sklearn.linear_model import LogisticRegression\n",
    "from sklearn.neighbors import KNeighborsClassifier\n",
    "from sklearn.tree import DecisionTreeClassifier\n",
    "from sklearn.metrics import confusion_matrix\n",
    "\n",
    "import seaborn as sns\n",
    "import matplotlib.pyplot as plt \n",
    "\n",
    "%matplotlib inline\n"
   ]
  },
  {
   "cell_type": "code",
   "execution_count": 146,
   "metadata": {},
   "outputs": [
    {
     "name": "stderr",
     "output_type": "stream",
     "text": [
      "/Users/guillermogonzalez/miniconda3/envs/ga/lib/python3.6/site-packages/IPython/core/interactiveshell.py:2728: DtypeWarning: Columns (3) have mixed types. Specify dtype option on import or set low_memory=False.\n",
      "  interactivity=interactivity, compiler=compiler, result=result)\n"
     ]
    }
   ],
   "source": [
    "df = pd.read_csv('./database.sqlite')"
   ]
  },
  {
   "cell_type": "markdown",
   "metadata": {},
   "source": [
    "- CASEID - case number\n",
    "- DOF1 - direction of force (highest)\n",
    "- GAD1 - deformation location (highest)\n",
    "- PSU - primary sampling unit number\n",
    "- YEAR - calender year of crash\n",
    "- STRATIF - case stratum\n",
    "- BODYTYPE - vehicle body type\n",
    "- DVEST - estimated highest delta V\n",
    "- DVBASIS - basis for total deltav V (highest)\n",
    "- DVTOTAL - total delta V\n",
    "- MAKE - vehicle make\n",
    "- MODELYR - vehicle model year\n",
    "- AGE - age of occupant\n",
    "- BAGAVAIL - air bag system availability\n",
    "- BAGDEPLY - air bag system deployed\n",
    "- BAGFAIL - air bag system failure\n",
    "- CASENO - case sequence number\n",
    "- CHTYPE - type of child safety seat\n",
    "- DEATH - time of death\n",
    "- HEIGHT - height of occupent\n",
    "- HOPSTAY - hospital stay\n",
    "- INJSEV - injury severity (police rating)\n",
    "- MANAVAIL -\n",
    "- MANFAIL - \n",
    "- MANUSE - manual belt system use \n",
    "- OCCNO - occupant number\n",
    "- ROLE - occupant's role\n",
    "- SEATPOS - occupant's seat position\n",
    "- SEX - occupant's sex\n",
    "- TREATMENT - treatment - mortality\n",
    "- WEIGHT - occupant's weight"
   ]
  },
  {
   "cell_type": "code",
   "execution_count": 147,
   "metadata": {},
   "outputs": [],
   "source": [
    "fatal = df.copy()"
   ]
  },
  {
   "cell_type": "code",
   "execution_count": 148,
   "metadata": {
    "scrolled": true
   },
   "outputs": [
    {
     "data": {
      "text/plain": [
       "Index(['Unnamed: 0', 'CASEID', 'DOF1', 'GAD1', 'PSU', 'YEAR', 'STRATIF',\n",
       "       'BODYTYPE', 'DVEST', 'DVBASIS', 'DVTOTAL', 'MAKE', 'MODELYR', 'AGE',\n",
       "       'BAGAVAIL', 'BAGDEPLY', 'BAGFAIL', 'CASENO', 'CHTYPE', 'DEATH',\n",
       "       'HEIGHT', 'HOSPSTAY', 'INJSEV', 'MANAVAIL', 'MANFAIL', 'MANUSE',\n",
       "       'OCCNO', 'ROLE', 'SEATPOS', 'SEX', 'TREATMNT', 'WEIGHT'],\n",
       "      dtype='object')"
      ]
     },
     "execution_count": 148,
     "metadata": {},
     "output_type": "execute_result"
    }
   ],
   "source": [
    "fatal.columns"
   ]
  },
  {
   "cell_type": "code",
   "execution_count": 149,
   "metadata": {},
   "outputs": [],
   "source": [
    "# changing all columns to lower case\n",
    "columns = fatal.columns\n",
    "columns_lower = []\n",
    "for col in columns:\n",
    "    columns_lower.append(col.lower())\n",
    "fatal.columns = columns_lower"
   ]
  },
  {
   "cell_type": "code",
   "execution_count": 150,
   "metadata": {},
   "outputs": [],
   "source": [
    "## removed unnamed: 0 column since it matched the index\n",
    "fatal.drop(labels='unnamed: 0',axis=1,inplace=True)"
   ]
  },
  {
   "cell_type": "code",
   "execution_count": 151,
   "metadata": {},
   "outputs": [],
   "source": [
    "# dictionay of categorie ID's (named how they will appear when get dummies is applied)\n",
    "dvest = {'dvest_0':'reconstructed_dv','dvest_1':'dv<10kmph','dvest_2':'10 >= dv < 25kmph','dvest_3':'25 >= dv < 40kmph',\n",
    "         'divest_4':'40 >= dv <55kmph','divest_5':'dv >= 55kmph','divest_6':'minor damage','divest_7':'moderat damage',\n",
    "         'divest_8':'severe damage'}\n",
    "\n",
    "dvbasis = {'dvbasis_0':'not_ispctd','dvbasis_1':'S_dmg_only','dvbasis_2':'S_dmg_&_trjctry','dvbasis_3':'S_missing_vhcl', \n",
    "           'dvbasis_4':'S_dmg_cdc_only', 'dvbasis_5':'one_vhcle_byond_S_scope','dvbasis_6':'rollover',\n",
    "           'dvbasis_7':'non_hrzntl_forces','dvbasis_8':'sideswipe_dmg','dvbasis_9':'severe_override',\n",
    "          'dvbasis_10':'ylding_objct','dvbasis_11':'overlapping_dmg','dvbasis_12':'insuf_data',\n",
    "           'dvbasis_98':'other','dvbasis_99':'unknown'}\n",
    "\n",
    "gad1 = {'gad1_F':'front','gad1_L':'left','gad_R':'right','gad1_B':'back','gad1_uk':'unkown','gad1_T':'top',\n",
    "        'gad1_U':'undercarriage'}\n",
    "\n",
    "\n",
    "bagavail = {'bagavail_1':'no','bagavail_2':'yes','bagavail_3':'unknown'}\n",
    "# stratif = {'stratif_k':'fatality','stratif_F':'injry_no_tow_hsptl',\n",
    "#           'stratif_E':'injry_tow','stratif_C':'two_tow_no_hsptl','stratif_D':}\n",
    "# air bad deployed \n",
    "bagdeply = {'bagdeply_0':'no_bag', 'bagdeply_1':'impct_deply','bagdeply_3':'deply_ukdetls',\n",
    "            'bagdeply_5':'uk_deply','bagdeply_7':'no_deply'}\n",
    "\n",
    "# air bag failure\n",
    "bagfail = {'bagfail_0':'no_bag','bagfail_1':'no','bagfail_2':'yes'}\n",
    "\n",
    "# child seat type\n",
    "chtype = {'chtype chtype _0':'none','chtype_1':'conv_seat','chtype_2':'frwd_face','chtype_3':'infnt_seat',\n",
    "          'chtype_4':'boost_seat','chtype_7':'vest','chtype_8':'harness'}\n",
    "\n",
    "# Injury severity\n",
    "injsev = {'injsev_0':'no_inj','injsev_1':'pssbl_inj','injsev_2':'n_incptng_inj','injsev_3':'incptng_inj',\n",
    "          'injsev_4':'killed','injsev_5':'inj_sev_uk','injsev_6':'die_b4_crsh'}\n",
    "\n",
    "# Drop mannavail since it's same data as manuse\n",
    "# Manual seatbelt used\n",
    "manuse = {'manuse_0':'none','manuse_1':'inoperative','manuse_2':'shldr_b','manuse_3':'lap_b',\n",
    "          'manuse_4':'laphshldr_b','manuse_5':'b_avail_uk','manuse_8':'othr_b_use',\n",
    "          'manuse_12':'shldr_chld_seat','manuse_13':'lap_chld_seat','manuse_14':'lapshldr_chld_seat',\n",
    "          'manuse_15':'b_chld_seat_uk','manuse_18':'othrb_chld_seat'}\n",
    "\n",
    "# Manual seatbelt fail\n",
    "manfail = {'manfail_0':'nouse','manfail_1':'no_mlfctn',\n",
    "           'manfail_2':'torn_wbbng','manfail_3':'bckl',\n",
    "           'manfail_4':'uppr_anchr','manfail_5':'othr_anchr',\n",
    "           'manavail_6':'retrctr','manavail_7':'combo',\n",
    "           'manfail_8':'other'}\n",
    "\n",
    "role = {'role_1':'driver','role_2':'passenger'}\n",
    "\n"
   ]
  },
  {
   "cell_type": "code",
   "execution_count": 152,
   "metadata": {},
   "outputs": [],
   "source": [
    "# replace 9 with uk for (unknown per the NASS documents)\n",
    "fatal['gad1'] = fatal['gad1'].copy().replace('9','uk')"
   ]
  },
  {
   "cell_type": "code",
   "execution_count": 153,
   "metadata": {},
   "outputs": [
    {
     "name": "stderr",
     "output_type": "stream",
     "text": [
      "/Users/guillermogonzalez/miniconda3/envs/ga/lib/python3.6/site-packages/pandas/core/generic.py:4480: UserWarning: the \"axis\" argument is deprecated and will be removed inv0.13; this argument has no effect\n",
      "  warnings.warn('the \"axis\" argument is deprecated '\n"
     ]
    }
   ],
   "source": [
    "# replace 0 with 1 since they are the same thing according to the NASS documents\n",
    "fatal['bagavail'] = fatal['bagavail'].copy().replace(0,1,axis=0)"
   ]
  },
  {
   "cell_type": "code",
   "execution_count": 154,
   "metadata": {},
   "outputs": [],
   "source": [
    "# removing letter at the end and going to drop caseno and PSU since \n",
    "# they \"are identical variables across all NASS records\"\n",
    "fatal['caseid'] = fatal['caseid'].apply(lambda x: x[:-1].strip())"
   ]
  },
  {
   "cell_type": "code",
   "execution_count": 155,
   "metadata": {},
   "outputs": [],
   "source": [
    "# according NASS these columns are same info as caseid\n",
    "fatal.drop(['psu','caseno'],axis=1,inplace=True)"
   ]
  },
  {
   "cell_type": "code",
   "execution_count": 156,
   "metadata": {},
   "outputs": [],
   "source": [
    "# after further review of the data dropping 'caseid' colunm since there is no significance in the scope\n",
    "fatal.drop('caseid',axis=1,inplace=True)"
   ]
  },
  {
   "cell_type": "code",
   "execution_count": 157,
   "metadata": {},
   "outputs": [],
   "source": [
    "# remove manavail since manuse gives the same information\n",
    "fatal.drop('manavail', axis=1, inplace=True)"
   ]
  },
  {
   "cell_type": "code",
   "execution_count": 158,
   "metadata": {},
   "outputs": [],
   "source": [
    "# remove bagavail since bagdeply has the same information\n",
    "fatal.drop('bagavail', axis=1, inplace=True)"
   ]
  },
  {
   "cell_type": "code",
   "execution_count": 159,
   "metadata": {},
   "outputs": [],
   "source": [
    "#  Remove occno since it's same informaton covered by seatpos\n",
    "fatal.drop('occno', axis=1, inplace=True)"
   ]
  },
  {
   "cell_type": "code",
   "execution_count": 160,
   "metadata": {},
   "outputs": [],
   "source": [
    "# Dictionary of each column's unique values key = counts, value = feature name\n",
    "unique_dict = {}\n",
    "for col in fatal.columns:\n",
    "    unique_dict[col] =  fatal[col].nunique()\n",
    "\n",
    "# Features <30 counts\n",
    "categoricals = []\n",
    "for key in unique_dict.keys():\n",
    "    if unique_dict[key] < 30:\n",
    "        categoricals.append(key)"
   ]
  },
  {
   "cell_type": "code",
   "execution_count": 161,
   "metadata": {},
   "outputs": [
    {
     "name": "stdout",
     "output_type": "stream",
     "text": [
      "gad1\n",
      "F     1372618\n",
      "L      411350\n",
      "B      330703\n",
      "R      319169\n",
      "uk     100183\n",
      "T       65536\n",
      "U        3328\n",
      "Name: gad1, dtype: int64\n",
      "year\n",
      "2004    544672\n",
      "2006    500428\n",
      "2005    494713\n",
      "2007    243975\n",
      "2008    195223\n",
      "2009    181650\n",
      "2010    157642\n",
      "2011    150124\n",
      "2012    104230\n",
      "2014    103450\n",
      "2013     22257\n",
      "2015     18063\n",
      "Name: year, dtype: int64\n",
      "stratif\n",
      "K    529817\n",
      "F    442408\n",
      "E    385249\n",
      "C    236676\n",
      "D    235326\n",
      "G    230456\n",
      "B    226083\n",
      "H    214204\n",
      "J    156951\n",
      "A     59252\n",
      "Name: stratif, dtype: int64\n",
      "dvest\n",
      "0.0    1674684\n",
      "7.0     306520\n",
      "6.0     131007\n",
      "8.0      84874\n",
      "2.0      12325\n",
      "3.0       5534\n",
      "1.0       3007\n",
      "5.0       2872\n",
      "4.0       1199\n",
      "Name: dvest, dtype: int64\n",
      "dvbasis\n",
      "1.0     1035657\n",
      "3.0      587972\n",
      "11.0     301492\n",
      "0.0      295200\n",
      "4.0      109304\n",
      "7.0       66250\n",
      "5.0       53107\n",
      "10.0      49190\n",
      "98.0      40293\n",
      "6.0       37035\n",
      "9.0       32346\n",
      "8.0       17075\n",
      "2.0        1522\n",
      "Name: dvbasis, dtype: int64\n",
      "bagdeply\n",
      "1.0    801298\n",
      "7.0    779497\n",
      "0.0    673300\n",
      "5.0     32038\n",
      "3.0     26686\n",
      "Name: bagdeply, dtype: int64\n",
      "bagfail\n",
      "1.0    1498618\n",
      "0.0     634840\n",
      "2.0       6718\n",
      "Name: bagfail, dtype: int64\n",
      "chtype\n",
      "0.0    2334769\n",
      "3.0      26486\n",
      "8.0      22700\n",
      "4.0      22063\n",
      "2.0      12512\n",
      "1.0      10774\n",
      "7.0       2137\n",
      "Name: chtype, dtype: int64\n",
      "injsev\n",
      "0.0    941331\n",
      "3.0    588483\n",
      "1.0    582178\n",
      "2.0    421564\n",
      "4.0     96423\n",
      "5.0     36568\n",
      "6.0        56\n",
      "Name: injsev, dtype: int64\n",
      "manfail\n",
      "1.0    1598523\n",
      "0.0     433906\n",
      "2.0       1259\n",
      "3.0       1090\n",
      "6.0        340\n",
      "7.0        321\n",
      "5.0        136\n",
      "8.0        126\n",
      "4.0         57\n",
      "Name: manfail, dtype: int64\n",
      "manuse\n",
      "4.0     1641667\n",
      "0.0      433926\n",
      "14.0      71455\n",
      "3.0       48857\n",
      "13.0      11282\n",
      "5.0       10758\n",
      "15.0       1398\n",
      "1.0         358\n",
      "8.0         346\n",
      "2.0         315\n",
      "12.0        240\n",
      "18.0         80\n",
      "Name: manuse, dtype: int64\n",
      "role\n",
      "1.0    1748881\n",
      "2.0     967346\n",
      "Name: role, dtype: int64\n",
      "seatpos\n",
      "11.0    1631177\n",
      "13.0     488440\n",
      "23.0     163523\n",
      "21.0     136826\n",
      "22.0      51773\n",
      "33.0      10428\n",
      "31.0      10141\n",
      "24.0       6712\n",
      "98.0       5880\n",
      "12.0       5844\n",
      "32.0       4924\n",
      "97.0       2370\n",
      "14.0       1578\n",
      "25.0       1282\n",
      "34.0       1224\n",
      "15.0        824\n",
      "35.0        794\n",
      "43.0        748\n",
      "41.0        731\n",
      "42.0        630\n",
      "29.0        151\n",
      "44.0        136\n",
      "51.0         67\n",
      "19.0         65\n",
      "53.0         60\n",
      "39.0         16\n",
      "59.0         10\n",
      "54.0          7\n",
      "52.0          4\n",
      "Name: seatpos, dtype: int64\n",
      "sex\n",
      "1.0    1434927\n",
      "2.0    1223855\n",
      "5.0      10417\n",
      "4.0       7887\n",
      "3.0       5709\n",
      "6.0       1597\n",
      "Name: sex, dtype: int64\n",
      "treatmnt\n",
      "0.0    906363\n",
      "4.0    840333\n",
      "3.0    386360\n",
      "1.0     88557\n",
      "6.0     88325\n",
      "8.0     42940\n",
      "5.0     28051\n",
      "2.0      3048\n",
      "7.0       500\n",
      "Name: treatmnt, dtype: int64\n"
     ]
    }
   ],
   "source": [
    "for col in categoricals:\n",
    "    print(col)\n",
    "    print(fatal[col].value_counts())"
   ]
  },
  {
   "cell_type": "code",
   "execution_count": 162,
   "metadata": {},
   "outputs": [
    {
     "data": {
      "text/plain": [
       "0.0    941331\n",
       "3.0    588483\n",
       "1.0    582178\n",
       "2.0    421564\n",
       "4.0     96423\n",
       "5.0     36568\n",
       "6.0        56\n",
       "Name: injsev, dtype: int64"
      ]
     },
     "execution_count": 162,
     "metadata": {},
     "output_type": "execute_result"
    }
   ],
   "source": [
    "# Grouping:\n",
    "# (0, 1, 2,) --> non-sevear\n",
    "# (3) --> sevear\n",
    "# (4, 6) --> death \n",
    "# 5 is injured, but unknown severity --> need to impute\n",
    "fatal['injsev'].value_counts()"
   ]
  },
  {
   "cell_type": "code",
   "execution_count": null,
   "metadata": {},
   "outputs": [],
   "source": [
    "# fatal['injsev'].replace(to_replace=[0.0, 1.0, 2.0], value=['unsevere','unsevere','unsevere'])"
   ]
  },
  {
   "cell_type": "code",
   "execution_count": null,
   "metadata": {},
   "outputs": [],
   "source": [
    "# fatal['injsev'].replace"
   ]
  },
  {
   "cell_type": "code",
   "execution_count": 163,
   "metadata": {},
   "outputs": [
    {
     "data": {
      "text/plain": [
       "dof1         299352\n",
       "gad1         113540\n",
       "year              0\n",
       "stratif           5\n",
       "bodytype       2519\n",
       "dvest        494405\n",
       "dvbasis       89984\n",
       "dvtotal     1091276\n",
       "make          10659\n",
       "modelyr       13077\n",
       "age           56349\n",
       "bagdeply     403608\n",
       "bagfail      576251\n",
       "chtype       284986\n",
       "death        327097\n",
       "height       689620\n",
       "hospstay     394158\n",
       "injsev        49824\n",
       "manfail      680669\n",
       "manuse       495745\n",
       "role            200\n",
       "seatpos      190062\n",
       "sex           32035\n",
       "treatmnt     331950\n",
       "weight       654910\n",
       "dtype: int64"
      ]
     },
     "execution_count": 163,
     "metadata": {},
     "output_type": "execute_result"
    }
   ],
   "source": [
    "fatal.isnull().sum()"
   ]
  },
  {
   "cell_type": "code",
   "execution_count": 164,
   "metadata": {},
   "outputs": [
    {
     "name": "stdout",
     "output_type": "stream",
     "text": [
      "         NAs   Total  Percentage\n",
      "2004  190316  544672       0.349\n",
      "2005  184505  494713       0.373\n",
      "2006  197452  500428       0.395\n",
      "2007  104293  243975       0.427\n",
      "2008   84793  195223       0.434\n",
      "2009   80094  181650       0.441\n",
      "2010   69222  157642       0.439\n",
      "2011   65682  150124       0.438\n",
      "2012   53511  104230       0.513\n",
      "2013    9208   22257       0.414\n",
      "2014   45168  103450       0.437\n",
      "2015    7032   18063       0.389\n",
      "\n",
      "There is an average of 42.1% NA values\n"
     ]
    }
   ],
   "source": [
    "# dvtotal has 1,091,276 null values.  From the analysis below, that accounts 35 to 50 % of each year's data\n",
    "# Dropping these Na data points\n",
    "dvtotal_na = pd.DataFrame(fatal[ fatal['dvtotal']\\\n",
    "                                .isnull() ]['year']\\\n",
    "                                .value_counts()).sort_index(ascending=True)\n",
    "\n",
    "total = pd.DataFrame(fatal['year'].value_counts()).sort_index(ascending=True)\n",
    "\n",
    "na_percent = pd.concat([dvtotal_na,total], axis=1)\n",
    "na_percent.columns = ['NAs','Total']\n",
    "\n",
    "na_percent['Percentage'] = (na_percent['NAs'] / na_percent['Total']).round(3)\n",
    "\n",
    "print(na_percent.sort_index(ascending=True))\n",
    "print()\n",
    "print('There is an average of {}'.format((na_percent['Percentage'].mean().round(3))*100) + '% NA values')"
   ]
  },
  {
   "cell_type": "markdown",
   "metadata": {},
   "source": [
    "## Try Dropping NA"
   ]
  },
  {
   "cell_type": "code",
   "execution_count": 165,
   "metadata": {},
   "outputs": [],
   "source": [
    "fatal_nona = fatal.copy()\n",
    "\n",
    "# dropping all Na values ~ 42% of the data\n",
    "fatal_nona.dropna(axis=0,inplace=True)"
   ]
  },
  {
   "cell_type": "code",
   "execution_count": 166,
   "metadata": {},
   "outputs": [],
   "source": [
    "# Turn floats into integers\n",
    "floats = fatal_nona.dtypes[ fatal_nona.dtypes == 'float64' ].index.tolist()\n",
    "\n",
    "fatal_nona[floats] = fatal_nona[floats].astype('int')"
   ]
  },
  {
   "cell_type": "markdown",
   "metadata": {},
   "source": [
    "### Imputing 'injsev' category 5 (Injury-Unknown Severity)"
   ]
  },
  {
   "cell_type": "code",
   "execution_count": 167,
   "metadata": {},
   "outputs": [],
   "source": [
    "impute_five = fatal_nona.copy()"
   ]
  },
  {
   "cell_type": "code",
   "execution_count": 168,
   "metadata": {},
   "outputs": [],
   "source": [
    "# join get_dummies data frame with the original data\n",
    "impute_five = pd.concat([impute_five, pd.get_dummies(impute_five[['gad1','stratif']])],axis=1)"
   ]
  },
  {
   "cell_type": "code",
   "execution_count": 173,
   "metadata": {},
   "outputs": [],
   "source": [
    "X_train = impute_five[ impute_five['injsev'] != 5 ].drop(['injsev','gad1','stratif'], axis=1)\n",
    "y_train = impute_five[ impute_five['injsev'] != 5 ]['injsev']\n",
    "\n",
    "X_test = impute_five[ impute_five['injsev'] == 5 ].drop(['injsev','gad1','stratif'], axis=1)\n",
    "y_test = impute_five[ impute_five['injsev'] == 5 ]['injsev']"
   ]
  },
  {
   "cell_type": "code",
   "execution_count": 175,
   "metadata": {},
   "outputs": [],
   "source": [
    "# Standardizing the train and test data\n",
    "ss = StandardScaler()\n",
    "X_train_ss = ss.fit_transform(X_train)\n",
    "X_test_ss = ss.fit_transform(X_test)"
   ]
  },
  {
   "cell_type": "code",
   "execution_count": 181,
   "metadata": {},
   "outputs": [
    {
     "data": {
      "text/plain": [
       "DecisionTreeClassifier(class_weight=None, criterion='gini', max_depth=None,\n",
       "            max_features=None, max_leaf_nodes=None,\n",
       "            min_impurity_decrease=0.0, min_impurity_split=None,\n",
       "            min_samples_leaf=1, min_samples_split=2,\n",
       "            min_weight_fraction_leaf=0.0, presort=False, random_state=None,\n",
       "            splitter='best')"
      ]
     },
     "execution_count": 181,
     "metadata": {},
     "output_type": "execute_result"
    }
   ],
   "source": [
    "dt_impute = DecisionTreeClassifier()\n",
    "dt_impute.fit(X_train_ss, y_train)"
   ]
  },
  {
   "cell_type": "code",
   "execution_count": 182,
   "metadata": {},
   "outputs": [
    {
     "name": "stdout",
     "output_type": "stream",
     "text": [
      "Decision Tree Score:\t0.529 ± 0.037\n"
     ]
    }
   ],
   "source": [
    "s = cross_val_score(dt_impute, X_train_ss, y_train, cv=5, n_jobs=2)\n",
    "print(\"{} Score:\\t{:0.3} ± {:0.3}\".format(\"Decision Tree\", s.mean().round(3), s.std().round(3)))"
   ]
  },
  {
   "cell_type": "code",
   "execution_count": 216,
   "metadata": {},
   "outputs": [
    {
     "name": "stdout",
     "output_type": "stream",
     "text": [
      "{0, 1, 2, 3}\n",
      "0 sum =  1629\n",
      "1 sum =  4187\n",
      "2 sum =  3591\n",
      "3 sum =  764\n",
      "\n",
      "Percent of 3 =  0.05592562769928995\n"
     ]
    }
   ],
   "source": [
    "# although the accuracy is not very good for the estimations, \n",
    "#(0, 1, 2) were going to be classified as 'unsevere'\n",
    "# (3) will be 'severe' and of all the predicted values there was only 6% classified as 3\n",
    "\n",
    "print(set(dt_impute.predict(X_test_ss).tolist()))\n",
    "print('0 sum = ',(dt_impute.predict(X_test_ss)==0).sum())\n",
    "print('1 sum = ',(dt_impute.predict(X_test_ss)==1).sum())\n",
    "print('2 sum = ',(dt_impute.predict(X_test_ss)==2).sum())\n",
    "print('3 sum = ',(dt_impute.predict(X_test_ss)==3).sum())\n",
    "print()\n",
    "print('Percent of 3 = ',(dt_impute.predict(X_test_ss)==3).sum()/dt_impute.predict(X_test_ss).sum())"
   ]
  },
  {
   "cell_type": "code",
   "execution_count": 233,
   "metadata": {
    "collapsed": true
   },
   "outputs": [
    {
     "data": {
      "text/plain": [
       "6714       5\n",
       "6721       5\n",
       "6728       5\n",
       "6735       5\n",
       "6742       5\n",
       "6749       5\n",
       "6756       5\n",
       "6763       5\n",
       "6770       5\n",
       "6777       5\n",
       "6784       5\n",
       "6791       5\n",
       "6798       5\n",
       "6805       5\n",
       "6812       5\n",
       "6819       5\n",
       "6826       5\n",
       "6833       5\n",
       "6840       5\n",
       "6847       5\n",
       "6854       5\n",
       "6861       5\n",
       "6868       5\n",
       "6875       5\n",
       "6882       5\n",
       "6889       5\n",
       "6896       5\n",
       "6903       5\n",
       "6910       5\n",
       "6917       5\n",
       "          ..\n",
       "2590713    5\n",
       "2590718    5\n",
       "2590723    5\n",
       "2590728    5\n",
       "2590733    5\n",
       "2590738    5\n",
       "2590743    5\n",
       "2590748    5\n",
       "2590753    5\n",
       "2590758    5\n",
       "2590763    5\n",
       "2590768    5\n",
       "2590908    5\n",
       "2590909    5\n",
       "2590911    5\n",
       "2590912    5\n",
       "2590914    5\n",
       "2590915    5\n",
       "2590917    5\n",
       "2590918    5\n",
       "2590920    5\n",
       "2590922    5\n",
       "2594337    5\n",
       "2594339    5\n",
       "2594341    5\n",
       "2594343    5\n",
       "2596097    5\n",
       "2596101    5\n",
       "2596105    5\n",
       "2596109    5\n",
       "Name: injsev, Length: 10171, dtype: int64"
      ]
     },
     "execution_count": 233,
     "metadata": {},
     "output_type": "execute_result"
    }
   ],
   "source": [
    "fatal_nona[ fatal_nona['injsev']==5 ]['injsev']"
   ]
  },
  {
   "cell_type": "code",
   "execution_count": 243,
   "metadata": {},
   "outputs": [
    {
     "name": "stderr",
     "output_type": "stream",
     "text": [
      "/Users/guillermogonzalez/miniconda3/envs/ga/lib/python3.6/site-packages/pandas/core/generic.py:4480: UserWarning: the \"axis\" argument is deprecated and will be removed inv0.13; this argument has no effect\n",
      "  warnings.warn('the \"axis\" argument is deprecated '\n"
     ]
    }
   ],
   "source": [
    "# cat_five_imputed = pd.Series(dt_impute.predict(X_test_ss).tolist())\n",
    "# fatal_nona.replace(to_replace = fatal_nona[ fatal_nona['injsev']==5 ]['injsev'],\n",
    "#                    value = cat_five_imputed,\n",
    "#                    axis=0,\n",
    "#                   inplace=True)\n"
   ]
  },
  {
   "cell_type": "code",
   "execution_count": 244,
   "metadata": {},
   "outputs": [
    {
     "data": {
      "text/plain": [
       "0    370120\n",
       "3    241780\n",
       "1    240018\n",
       "2    168000\n",
       "4     17935\n",
       "5     10171\n",
       "6         8\n",
       "Name: injsev, dtype: int64"
      ]
     },
     "execution_count": 244,
     "metadata": {},
     "output_type": "execute_result"
    }
   ],
   "source": [
    "fatal_nona['injsev'].value_counts()"
   ]
  },
  {
   "cell_type": "code",
   "execution_count": 259,
   "metadata": {},
   "outputs": [
    {
     "name": "stdout",
     "output_type": "stream",
     "text": [
      "10171\n",
      "10171\n"
     ]
    }
   ],
   "source": [
    "print(len(fatal_nona[ fatal_nona['injsev']==5]['injsev']))\n",
    "print(len(cat_five_imputed))"
   ]
  },
  {
   "cell_type": "code",
   "execution_count": 271,
   "metadata": {},
   "outputs": [
    {
     "data": {
      "text/html": [
       "<div>\n",
       "<style scoped>\n",
       "    .dataframe tbody tr th:only-of-type {\n",
       "        vertical-align: middle;\n",
       "    }\n",
       "\n",
       "    .dataframe tbody tr th {\n",
       "        vertical-align: top;\n",
       "    }\n",
       "\n",
       "    .dataframe thead th {\n",
       "        text-align: right;\n",
       "    }\n",
       "</style>\n",
       "<table border=\"1\" class=\"dataframe\">\n",
       "  <thead>\n",
       "    <tr style=\"text-align: right;\">\n",
       "      <th></th>\n",
       "      <th>0</th>\n",
       "      <th>1</th>\n",
       "    </tr>\n",
       "  </thead>\n",
       "  <tbody>\n",
       "    <tr>\n",
       "      <th>0</th>\n",
       "      <td>NaN</td>\n",
       "      <td>1.0</td>\n",
       "    </tr>\n",
       "    <tr>\n",
       "      <th>1</th>\n",
       "      <td>NaN</td>\n",
       "      <td>1.0</td>\n",
       "    </tr>\n",
       "    <tr>\n",
       "      <th>2</th>\n",
       "      <td>NaN</td>\n",
       "      <td>1.0</td>\n",
       "    </tr>\n",
       "    <tr>\n",
       "      <th>3</th>\n",
       "      <td>NaN</td>\n",
       "      <td>1.0</td>\n",
       "    </tr>\n",
       "    <tr>\n",
       "      <th>4</th>\n",
       "      <td>NaN</td>\n",
       "      <td>1.0</td>\n",
       "    </tr>\n",
       "    <tr>\n",
       "      <th>5</th>\n",
       "      <td>NaN</td>\n",
       "      <td>1.0</td>\n",
       "    </tr>\n",
       "    <tr>\n",
       "      <th>6</th>\n",
       "      <td>NaN</td>\n",
       "      <td>1.0</td>\n",
       "    </tr>\n",
       "    <tr>\n",
       "      <th>7</th>\n",
       "      <td>NaN</td>\n",
       "      <td>1.0</td>\n",
       "    </tr>\n",
       "    <tr>\n",
       "      <th>8</th>\n",
       "      <td>NaN</td>\n",
       "      <td>1.0</td>\n",
       "    </tr>\n",
       "    <tr>\n",
       "      <th>9</th>\n",
       "      <td>NaN</td>\n",
       "      <td>1.0</td>\n",
       "    </tr>\n",
       "    <tr>\n",
       "      <th>10</th>\n",
       "      <td>NaN</td>\n",
       "      <td>1.0</td>\n",
       "    </tr>\n",
       "    <tr>\n",
       "      <th>11</th>\n",
       "      <td>NaN</td>\n",
       "      <td>1.0</td>\n",
       "    </tr>\n",
       "    <tr>\n",
       "      <th>12</th>\n",
       "      <td>NaN</td>\n",
       "      <td>1.0</td>\n",
       "    </tr>\n",
       "    <tr>\n",
       "      <th>13</th>\n",
       "      <td>NaN</td>\n",
       "      <td>1.0</td>\n",
       "    </tr>\n",
       "    <tr>\n",
       "      <th>14</th>\n",
       "      <td>NaN</td>\n",
       "      <td>1.0</td>\n",
       "    </tr>\n",
       "    <tr>\n",
       "      <th>15</th>\n",
       "      <td>NaN</td>\n",
       "      <td>1.0</td>\n",
       "    </tr>\n",
       "    <tr>\n",
       "      <th>16</th>\n",
       "      <td>NaN</td>\n",
       "      <td>1.0</td>\n",
       "    </tr>\n",
       "    <tr>\n",
       "      <th>17</th>\n",
       "      <td>NaN</td>\n",
       "      <td>1.0</td>\n",
       "    </tr>\n",
       "    <tr>\n",
       "      <th>18</th>\n",
       "      <td>NaN</td>\n",
       "      <td>1.0</td>\n",
       "    </tr>\n",
       "    <tr>\n",
       "      <th>19</th>\n",
       "      <td>NaN</td>\n",
       "      <td>1.0</td>\n",
       "    </tr>\n",
       "    <tr>\n",
       "      <th>20</th>\n",
       "      <td>NaN</td>\n",
       "      <td>1.0</td>\n",
       "    </tr>\n",
       "    <tr>\n",
       "      <th>21</th>\n",
       "      <td>NaN</td>\n",
       "      <td>1.0</td>\n",
       "    </tr>\n",
       "    <tr>\n",
       "      <th>22</th>\n",
       "      <td>NaN</td>\n",
       "      <td>1.0</td>\n",
       "    </tr>\n",
       "    <tr>\n",
       "      <th>23</th>\n",
       "      <td>NaN</td>\n",
       "      <td>1.0</td>\n",
       "    </tr>\n",
       "    <tr>\n",
       "      <th>24</th>\n",
       "      <td>NaN</td>\n",
       "      <td>1.0</td>\n",
       "    </tr>\n",
       "    <tr>\n",
       "      <th>25</th>\n",
       "      <td>NaN</td>\n",
       "      <td>1.0</td>\n",
       "    </tr>\n",
       "    <tr>\n",
       "      <th>26</th>\n",
       "      <td>NaN</td>\n",
       "      <td>1.0</td>\n",
       "    </tr>\n",
       "    <tr>\n",
       "      <th>27</th>\n",
       "      <td>NaN</td>\n",
       "      <td>1.0</td>\n",
       "    </tr>\n",
       "    <tr>\n",
       "      <th>28</th>\n",
       "      <td>NaN</td>\n",
       "      <td>1.0</td>\n",
       "    </tr>\n",
       "    <tr>\n",
       "      <th>29</th>\n",
       "      <td>NaN</td>\n",
       "      <td>1.0</td>\n",
       "    </tr>\n",
       "    <tr>\n",
       "      <th>...</th>\n",
       "      <td>...</td>\n",
       "      <td>...</td>\n",
       "    </tr>\n",
       "    <tr>\n",
       "      <th>2590713</th>\n",
       "      <td>5.0</td>\n",
       "      <td>NaN</td>\n",
       "    </tr>\n",
       "    <tr>\n",
       "      <th>2590718</th>\n",
       "      <td>5.0</td>\n",
       "      <td>NaN</td>\n",
       "    </tr>\n",
       "    <tr>\n",
       "      <th>2590723</th>\n",
       "      <td>5.0</td>\n",
       "      <td>NaN</td>\n",
       "    </tr>\n",
       "    <tr>\n",
       "      <th>2590728</th>\n",
       "      <td>5.0</td>\n",
       "      <td>NaN</td>\n",
       "    </tr>\n",
       "    <tr>\n",
       "      <th>2590733</th>\n",
       "      <td>5.0</td>\n",
       "      <td>NaN</td>\n",
       "    </tr>\n",
       "    <tr>\n",
       "      <th>2590738</th>\n",
       "      <td>5.0</td>\n",
       "      <td>NaN</td>\n",
       "    </tr>\n",
       "    <tr>\n",
       "      <th>2590743</th>\n",
       "      <td>5.0</td>\n",
       "      <td>NaN</td>\n",
       "    </tr>\n",
       "    <tr>\n",
       "      <th>2590748</th>\n",
       "      <td>5.0</td>\n",
       "      <td>NaN</td>\n",
       "    </tr>\n",
       "    <tr>\n",
       "      <th>2590753</th>\n",
       "      <td>5.0</td>\n",
       "      <td>NaN</td>\n",
       "    </tr>\n",
       "    <tr>\n",
       "      <th>2590758</th>\n",
       "      <td>5.0</td>\n",
       "      <td>NaN</td>\n",
       "    </tr>\n",
       "    <tr>\n",
       "      <th>2590763</th>\n",
       "      <td>5.0</td>\n",
       "      <td>NaN</td>\n",
       "    </tr>\n",
       "    <tr>\n",
       "      <th>2590768</th>\n",
       "      <td>5.0</td>\n",
       "      <td>NaN</td>\n",
       "    </tr>\n",
       "    <tr>\n",
       "      <th>2590908</th>\n",
       "      <td>5.0</td>\n",
       "      <td>NaN</td>\n",
       "    </tr>\n",
       "    <tr>\n",
       "      <th>2590909</th>\n",
       "      <td>5.0</td>\n",
       "      <td>NaN</td>\n",
       "    </tr>\n",
       "    <tr>\n",
       "      <th>2590911</th>\n",
       "      <td>5.0</td>\n",
       "      <td>NaN</td>\n",
       "    </tr>\n",
       "    <tr>\n",
       "      <th>2590912</th>\n",
       "      <td>5.0</td>\n",
       "      <td>NaN</td>\n",
       "    </tr>\n",
       "    <tr>\n",
       "      <th>2590914</th>\n",
       "      <td>5.0</td>\n",
       "      <td>NaN</td>\n",
       "    </tr>\n",
       "    <tr>\n",
       "      <th>2590915</th>\n",
       "      <td>5.0</td>\n",
       "      <td>NaN</td>\n",
       "    </tr>\n",
       "    <tr>\n",
       "      <th>2590917</th>\n",
       "      <td>5.0</td>\n",
       "      <td>NaN</td>\n",
       "    </tr>\n",
       "    <tr>\n",
       "      <th>2590918</th>\n",
       "      <td>5.0</td>\n",
       "      <td>NaN</td>\n",
       "    </tr>\n",
       "    <tr>\n",
       "      <th>2590920</th>\n",
       "      <td>5.0</td>\n",
       "      <td>NaN</td>\n",
       "    </tr>\n",
       "    <tr>\n",
       "      <th>2590922</th>\n",
       "      <td>5.0</td>\n",
       "      <td>NaN</td>\n",
       "    </tr>\n",
       "    <tr>\n",
       "      <th>2594337</th>\n",
       "      <td>5.0</td>\n",
       "      <td>NaN</td>\n",
       "    </tr>\n",
       "    <tr>\n",
       "      <th>2594339</th>\n",
       "      <td>5.0</td>\n",
       "      <td>NaN</td>\n",
       "    </tr>\n",
       "    <tr>\n",
       "      <th>2594341</th>\n",
       "      <td>5.0</td>\n",
       "      <td>NaN</td>\n",
       "    </tr>\n",
       "    <tr>\n",
       "      <th>2594343</th>\n",
       "      <td>5.0</td>\n",
       "      <td>NaN</td>\n",
       "    </tr>\n",
       "    <tr>\n",
       "      <th>2596097</th>\n",
       "      <td>5.0</td>\n",
       "      <td>NaN</td>\n",
       "    </tr>\n",
       "    <tr>\n",
       "      <th>2596101</th>\n",
       "      <td>5.0</td>\n",
       "      <td>NaN</td>\n",
       "    </tr>\n",
       "    <tr>\n",
       "      <th>2596105</th>\n",
       "      <td>5.0</td>\n",
       "      <td>NaN</td>\n",
       "    </tr>\n",
       "    <tr>\n",
       "      <th>2596109</th>\n",
       "      <td>5.0</td>\n",
       "      <td>NaN</td>\n",
       "    </tr>\n",
       "  </tbody>\n",
       "</table>\n",
       "<p>20302 rows × 2 columns</p>\n",
       "</div>"
      ],
      "text/plain": [
       "           0    1\n",
       "0        NaN  1.0\n",
       "1        NaN  1.0\n",
       "2        NaN  1.0\n",
       "3        NaN  1.0\n",
       "4        NaN  1.0\n",
       "5        NaN  1.0\n",
       "6        NaN  1.0\n",
       "7        NaN  1.0\n",
       "8        NaN  1.0\n",
       "9        NaN  1.0\n",
       "10       NaN  1.0\n",
       "11       NaN  1.0\n",
       "12       NaN  1.0\n",
       "13       NaN  1.0\n",
       "14       NaN  1.0\n",
       "15       NaN  1.0\n",
       "16       NaN  1.0\n",
       "17       NaN  1.0\n",
       "18       NaN  1.0\n",
       "19       NaN  1.0\n",
       "20       NaN  1.0\n",
       "21       NaN  1.0\n",
       "22       NaN  1.0\n",
       "23       NaN  1.0\n",
       "24       NaN  1.0\n",
       "25       NaN  1.0\n",
       "26       NaN  1.0\n",
       "27       NaN  1.0\n",
       "28       NaN  1.0\n",
       "29       NaN  1.0\n",
       "...      ...  ...\n",
       "2590713  5.0  NaN\n",
       "2590718  5.0  NaN\n",
       "2590723  5.0  NaN\n",
       "2590728  5.0  NaN\n",
       "2590733  5.0  NaN\n",
       "2590738  5.0  NaN\n",
       "2590743  5.0  NaN\n",
       "2590748  5.0  NaN\n",
       "2590753  5.0  NaN\n",
       "2590758  5.0  NaN\n",
       "2590763  5.0  NaN\n",
       "2590768  5.0  NaN\n",
       "2590908  5.0  NaN\n",
       "2590909  5.0  NaN\n",
       "2590911  5.0  NaN\n",
       "2590912  5.0  NaN\n",
       "2590914  5.0  NaN\n",
       "2590915  5.0  NaN\n",
       "2590917  5.0  NaN\n",
       "2590918  5.0  NaN\n",
       "2590920  5.0  NaN\n",
       "2590922  5.0  NaN\n",
       "2594337  5.0  NaN\n",
       "2594339  5.0  NaN\n",
       "2594341  5.0  NaN\n",
       "2594343  5.0  NaN\n",
       "2596097  5.0  NaN\n",
       "2596101  5.0  NaN\n",
       "2596105  5.0  NaN\n",
       "2596109  5.0  NaN\n",
       "\n",
       "[20302 rows x 2 columns]"
      ]
     },
     "execution_count": 271,
     "metadata": {},
     "output_type": "execute_result"
    }
   ],
   "source": [
    "pd.concat([fatal_nona[ fatal_nona['injsev']==5]['injsev'], cat_five_imputed],axis=1,join='outer',ignore_index=True)"
   ]
  },
  {
   "cell_type": "code",
   "execution_count": null,
   "metadata": {},
   "outputs": [],
   "source": []
  },
  {
   "cell_type": "code",
   "execution_count": null,
   "metadata": {},
   "outputs": [],
   "source": []
  },
  {
   "cell_type": "code",
   "execution_count": null,
   "metadata": {},
   "outputs": [],
   "source": []
  },
  {
   "cell_type": "code",
   "execution_count": null,
   "metadata": {},
   "outputs": [],
   "source": []
  },
  {
   "cell_type": "code",
   "execution_count": 86,
   "metadata": {},
   "outputs": [],
   "source": [
    "# join get_dummies data frame with the original data\n",
    "fatal_nona = pd.concat([fatal_nona, pd.get_dummies(fatal_nona[['gad1','stratif']])],axis=1)"
   ]
  },
  {
   "cell_type": "code",
   "execution_count": 87,
   "metadata": {},
   "outputs": [],
   "source": [
    "y = fatal_nona['injsev']\n",
    "X = fatal_nona.copy().drop(['injsev','gad1','stratif','caseid'], axis=1)"
   ]
  },
  {
   "cell_type": "code",
   "execution_count": 88,
   "metadata": {},
   "outputs": [],
   "source": [
    "# creating the test train split for multiclass modeling\n",
    "X_train, X_test, y_train, y_test = train_test_split(X, y, \n",
    "                                                    test_size=0.20, random_state=42, \n",
    "                                                    stratify=fatal_nona['injsev'])"
   ]
  },
  {
   "cell_type": "code",
   "execution_count": 89,
   "metadata": {},
   "outputs": [
    {
     "name": "stdout",
     "output_type": "stream",
     "text": [
      "(838425, 38) (838425,) (209607, 38) (209607,)\n"
     ]
    }
   ],
   "source": [
    "print(X_train.shape, y_train.shape, X_test.shape, y_test.shape)"
   ]
  },
  {
   "cell_type": "code",
   "execution_count": 91,
   "metadata": {},
   "outputs": [],
   "source": [
    "# Standardizing the train and test data\n",
    "ss = StandardScaler()\n",
    "X_train_ss = ss.fit_transform(X_train)\n",
    "X_test_ss = ss.fit_transform(X_test)"
   ]
  },
  {
   "cell_type": "code",
   "execution_count": 92,
   "metadata": {},
   "outputs": [
    {
     "name": "stdout",
     "output_type": "stream",
     "text": [
      "Decision Tree Score:\t0.964 ± 0.001\n"
     ]
    }
   ],
   "source": [
    "dt = DecisionTreeClassifier(min_samples_leaf=10)\n",
    "s = cross_val_score(dt, X_train_ss, y_train, cv=5, n_jobs=2)\n",
    "print(\"{} Score:\\t{:0.3} ± {:0.3}\".format(\"Decision Tree\", s.mean().round(3), s.std().round(3)))"
   ]
  },
  {
   "cell_type": "code",
   "execution_count": 93,
   "metadata": {},
   "outputs": [
    {
     "data": {
      "text/plain": [
       "DecisionTreeClassifier(class_weight=None, criterion='gini', max_depth=None,\n",
       "            max_features=None, max_leaf_nodes=None,\n",
       "            min_impurity_decrease=0.0, min_impurity_split=None,\n",
       "            min_samples_leaf=10, min_samples_split=2,\n",
       "            min_weight_fraction_leaf=0.0, presort=False, random_state=None,\n",
       "            splitter='best')"
      ]
     },
     "execution_count": 93,
     "metadata": {},
     "output_type": "execute_result"
    }
   ],
   "source": [
    "dt.fit(X_train_ss, y_train)"
   ]
  },
  {
   "cell_type": "code",
   "execution_count": 94,
   "metadata": {},
   "outputs": [
    {
     "data": {
      "text/plain": [
       "array([[72794,   744,   348,    68,     0,    70,     0],\n",
       "       [  982, 45882,   712,   303,     0,   125,     0],\n",
       "       [  444,   782, 31975,   325,     0,    74,     0],\n",
       "       [   79,   344,   339, 47574,    10,    10,     0],\n",
       "       [    2,     2,     2,     5,  3576,     0,     0],\n",
       "       [   82,   130,    87,    20,     0,  1715,     0],\n",
       "       [    2,     0,     0,     0,     0,     0,     0]])"
      ]
     },
     "execution_count": 94,
     "metadata": {},
     "output_type": "execute_result"
    }
   ],
   "source": [
    "confusion_matrix(y_test, dt.predict(X_test_ss))"
   ]
  },
  {
   "cell_type": "code",
   "execution_count": 95,
   "metadata": {},
   "outputs": [],
   "source": [
    "y_true = y_test.copy()\n",
    "y_pred = dt.predict(X_test_ss)"
   ]
  },
  {
   "cell_type": "code",
   "execution_count": 96,
   "metadata": {},
   "outputs": [
    {
     "data": {
      "text/html": [
       "<div>\n",
       "<style scoped>\n",
       "    .dataframe tbody tr th:only-of-type {\n",
       "        vertical-align: middle;\n",
       "    }\n",
       "\n",
       "    .dataframe tbody tr th {\n",
       "        vertical-align: top;\n",
       "    }\n",
       "\n",
       "    .dataframe thead th {\n",
       "        text-align: right;\n",
       "    }\n",
       "</style>\n",
       "<table border=\"1\" class=\"dataframe\">\n",
       "  <thead>\n",
       "    <tr style=\"text-align: right;\">\n",
       "      <th>col_0</th>\n",
       "      <th>0.0</th>\n",
       "      <th>1.0</th>\n",
       "      <th>2.0</th>\n",
       "      <th>3.0</th>\n",
       "      <th>4.0</th>\n",
       "      <th>5.0</th>\n",
       "    </tr>\n",
       "    <tr>\n",
       "      <th>injsev</th>\n",
       "      <th></th>\n",
       "      <th></th>\n",
       "      <th></th>\n",
       "      <th></th>\n",
       "      <th></th>\n",
       "      <th></th>\n",
       "    </tr>\n",
       "  </thead>\n",
       "  <tbody>\n",
       "    <tr>\n",
       "      <th>0.0</th>\n",
       "      <td>72794</td>\n",
       "      <td>744</td>\n",
       "      <td>348</td>\n",
       "      <td>68</td>\n",
       "      <td>0</td>\n",
       "      <td>70</td>\n",
       "    </tr>\n",
       "    <tr>\n",
       "      <th>1.0</th>\n",
       "      <td>982</td>\n",
       "      <td>45882</td>\n",
       "      <td>712</td>\n",
       "      <td>303</td>\n",
       "      <td>0</td>\n",
       "      <td>125</td>\n",
       "    </tr>\n",
       "    <tr>\n",
       "      <th>2.0</th>\n",
       "      <td>444</td>\n",
       "      <td>782</td>\n",
       "      <td>31975</td>\n",
       "      <td>325</td>\n",
       "      <td>0</td>\n",
       "      <td>74</td>\n",
       "    </tr>\n",
       "    <tr>\n",
       "      <th>3.0</th>\n",
       "      <td>79</td>\n",
       "      <td>344</td>\n",
       "      <td>339</td>\n",
       "      <td>47574</td>\n",
       "      <td>10</td>\n",
       "      <td>10</td>\n",
       "    </tr>\n",
       "    <tr>\n",
       "      <th>4.0</th>\n",
       "      <td>2</td>\n",
       "      <td>2</td>\n",
       "      <td>2</td>\n",
       "      <td>5</td>\n",
       "      <td>3576</td>\n",
       "      <td>0</td>\n",
       "    </tr>\n",
       "    <tr>\n",
       "      <th>5.0</th>\n",
       "      <td>82</td>\n",
       "      <td>130</td>\n",
       "      <td>87</td>\n",
       "      <td>20</td>\n",
       "      <td>0</td>\n",
       "      <td>1715</td>\n",
       "    </tr>\n",
       "    <tr>\n",
       "      <th>6.0</th>\n",
       "      <td>2</td>\n",
       "      <td>0</td>\n",
       "      <td>0</td>\n",
       "      <td>0</td>\n",
       "      <td>0</td>\n",
       "      <td>0</td>\n",
       "    </tr>\n",
       "  </tbody>\n",
       "</table>\n",
       "</div>"
      ],
      "text/plain": [
       "col_0     0.0    1.0    2.0    3.0   4.0   5.0\n",
       "injsev                                        \n",
       "0.0     72794    744    348     68     0    70\n",
       "1.0       982  45882    712    303     0   125\n",
       "2.0       444    782  31975    325     0    74\n",
       "3.0        79    344    339  47574    10    10\n",
       "4.0         2      2      2      5  3576     0\n",
       "5.0        82    130     87     20     0  1715\n",
       "6.0         2      0      0      0     0     0"
      ]
     },
     "execution_count": 96,
     "metadata": {},
     "output_type": "execute_result"
    }
   ],
   "source": [
    "confusion = pd.crosstab(y_true, y_pred)\n",
    "confusion"
   ]
  },
  {
   "cell_type": "code",
   "execution_count": 97,
   "metadata": {},
   "outputs": [
    {
     "data": {
      "image/png": "[encoded data removed]",
      "text/plain": [
       "<matplotlib.figure.Figure at 0x12e7eecc0>"
      ]
     },
     "metadata": {},
     "output_type": "display_data"
    }
   ],
   "source": [
    "plt.figure(figsize=(20,13))\n",
    "mask = np.zeros_like(X_train.corr()[X_train.corr()>0.20])\n",
    "mask[np.triu_indices_from(mask)] = True\n",
    "with sns.axes_style(\"white\"):\n",
    "    ax = sns.heatmap(X_train.corr()[X_train.corr()>0.20], mask=mask, vmax=.3, annot=True, square=True)\n",
    "\n",
    "plt.xticks(fontsize = 20)\n",
    "plt.yticks(fontsize = 18)\n",
    "plt.title('Features Correlations', fontsize = 25)\n",
    "plt.show()\n"
   ]
  },
  {
   "cell_type": "code",
   "execution_count": 60,
   "metadata": {},
   "outputs": [
    {
     "data": {
      "text/plain": [
       "<seaborn.axisgrid.FacetGrid at 0x1296c0860>"
      ]
     },
     "execution_count": 60,
     "metadata": {},
     "output_type": "execute_result"
    },
    {
     "data": {
      "image/png": "[encoded data removed]",
      "text/plain": [
       "<matplotlib.figure.Figure at 0x1296c09b0>"
      ]
     },
     "metadata": {},
     "output_type": "display_data"
    }
   ],
   "source": [
    "sns.lmplot(x='seatpos', y='occno', data=fatal_nona,\n",
    "           fit_reg=False, \n",
    "           hue='injsev')"
   ]
  },
  {
   "cell_type": "code",
   "execution_count": 75,
   "metadata": {},
   "outputs": [
    {
     "data": {
      "text/plain": [
       "<matplotlib.axes._subplots.AxesSubplot at 0x12a9a8a90>"
      ]
     },
     "execution_count": 75,
     "metadata": {},
     "output_type": "execute_result"
    },
    {
     "data": {
      "image/png": "[encoded data removed]",
      "text/plain": [
       "<matplotlib.figure.Figure at 0x1295a0518>"
      ]
     },
     "metadata": {},
     "output_type": "display_data"
    }
   ],
   "source": [
    "fatal_nona['seatpos'].hist(bins = 40)"
   ]
  },
  {
   "cell_type": "code",
   "execution_count": 73,
   "metadata": {},
   "outputs": [
    {
     "data": {
      "text/plain": [
       "Float64Index([11.0, 12.0, 13.0, 14.0, 15.0, 21.0, 22.0, 23.0, 24.0, 25.0, 31.0,\n",
       "              32.0, 33.0, 34.0, 35.0, 41.0, 42.0, 43.0, 51.0, 52.0, 53.0, 97.0,\n",
       "              98.0],\n",
       "             dtype='float64')"
      ]
     },
     "execution_count": 73,
     "metadata": {},
     "output_type": "execute_result"
    }
   ],
   "source": [
    "fatal_nona['seatpos'].value_counts().index.sort_values()"
   ]
  },
  {
   "cell_type": "code",
   "execution_count": 52,
   "metadata": {},
   "outputs": [
    {
     "data": {
      "image/png": "[encoded data removed]",
      "text/plain": [
       "<matplotlib.figure.Figure at 0x129577a58>"
      ]
     },
     "metadata": {},
     "output_type": "display_data"
    }
   ],
   "source": [
    "plt.figure(figsize=(20,13))\n",
    "ax = sns.heatmap(X_train.corr()[X_train.corr()>0.20], annot=True, linecolor='g')\n",
    "plt.xticks(fontsize = 20)\n",
    "plt.yticks(fontsize = 18)\n",
    "plt.title('Features Correlations', fontsize = 25)\n",
    "plt.show()\n",
    "\n",
    "# df = titanic.pivot_table(index='embark_town', columns='age_group', values='fare', aggfunc=np.median)\n",
    "# sns.heatmap(df, annot=True, fmt=\".1f\")\n",
    "# [X_train.corr()>0.30]"
   ]
  },
  {
   "cell_type": "code",
   "execution_count": null,
   "metadata": {},
   "outputs": [],
   "source": [
    "feature_import = pd.concat([pd.Series(X_train.columns),\n",
    "                            pd.Series(dt.feature_importances_.tolist())],\n",
    "                           axis=1).sort_values(1,ascending=False)\n",
    "feature_import.reset_index(level=0, drop=True, inplace=True)\n",
    "feature_import.columns = ['feature','importance']"
   ]
  },
  {
   "cell_type": "code",
   "execution_count": null,
   "metadata": {},
   "outputs": [],
   "source": [
    "plt.title('Feature Importances')\n",
    "plt.barh( feature_import['importance'],color='b', align='center')\n",
    "# plt.yticks(range(len(indices)), features[indices])\n",
    "# plt.xlabel('Relative Importance') \n",
    "plt.show()"
   ]
  },
  {
   "cell_type": "code",
   "execution_count": 113,
   "metadata": {},
   "outputs": [
    {
     "data": {
      "text/plain": [
       "<matplotlib.axes._subplots.AxesSubplot at 0x1e47f8b00>"
      ]
     },
     "execution_count": 113,
     "metadata": {},
     "output_type": "execute_result"
    },
    {
     "data": {
      "image/png": "[encoded data removed]",
      "text/plain": [
       "<matplotlib.figure.Figure at 0x1613b6358>"
      ]
     },
     "metadata": {},
     "output_type": "display_data"
    }
   ],
   "source": [
    "feature_import.plot(kind='bar')"
   ]
  },
  {
   "cell_type": "code",
   "execution_count": null,
   "metadata": {},
   "outputs": [],
   "source": [
    "dt.predict(X_train)"
   ]
  },
  {
   "cell_type": "code",
   "execution_count": null,
   "metadata": {},
   "outputs": [],
   "source": [
    "\n",
    "def build_tree_models(x, y, tree_depth_range=range(1,11), min_leaf):\n",
    "    tree_model_ypreds = {}\n",
    "    \n",
    "    for i in tree_depth_range:\n",
    "        model = DecisionTreeRegressor(max_depth=i, min_samples_leaf=min_leaf)\n",
    "        model.fit(x[:, np.newaxis], y)\n",
    "        tree_model_ypreds[i] = model.predict(x[:, np.newaxis])\n",
    "        \n",
    "    return tree_model_ypreds"
   ]
  },
  {
   "cell_type": "code",
   "execution_count": null,
   "metadata": {},
   "outputs": [],
   "source": [
    "def mph(kmph):\n",
    "    '''\n",
    "    Function to convert kmph to mph.  \n",
    "    Enter the speed in kmph and the function converts it to mph.\n",
    "    - default set to 0.0001\n",
    "    '''\n",
    "    return round(0.621371*kmph)"
   ]
  },
  {
   "cell_type": "code",
   "execution_count": null,
   "metadata": {},
   "outputs": [],
   "source": []
  },
  {
   "cell_type": "code",
   "execution_count": null,
   "metadata": {},
   "outputs": [],
   "source": []
  },
  {
   "cell_type": "code",
   "execution_count": null,
   "metadata": {},
   "outputs": [],
   "source": []
  },
  {
   "cell_type": "code",
   "execution_count": null,
   "metadata": {},
   "outputs": [],
   "source": []
  },
  {
   "cell_type": "code",
   "execution_count": null,
   "metadata": {},
   "outputs": [],
   "source": []
  },
  {
   "cell_type": "code",
   "execution_count": null,
   "metadata": {},
   "outputs": [],
   "source": []
  }
 ],
 "metadata": {
  "kernelspec": {
   "display_name": "Python 3",
   "language": "python",
   "name": "python3"
  },
  "language_info": {
   "codemirror_mode": {
    "name": "ipython",
    "version": 3
   },
   "file_extension": ".py",
   "mimetype": "text/x-python",
   "name": "python",
   "nbconvert_exporter": "python",
   "pygments_lexer": "ipython3",
   "version": "3.6.4"
  }
 },
 "nbformat": 4,
 "nbformat_minor": 2
}
